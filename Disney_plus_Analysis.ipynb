{
 "cells": [
  {
   "cell_type": "markdown",
   "id": "14479ef2-9a92-4030-859c-5368fa011927",
   "metadata": {},
   "source": [
    "# 📊 Analysis of Disney Plus platform"
   ]
  },
  {
   "cell_type": "markdown",
   "id": "9bd167f7-afed-4af0-ac95-aa2f8402de65",
   "metadata": {},
   "source": [
    "## Import Libraries"
   ]
  },
  {
   "cell_type": "code",
   "execution_count": 1,
   "id": "4c47883e-e081-416f-9d59-0a0f0c1d73e9",
   "metadata": {},
   "outputs": [],
   "source": [
    "import pandas as pd"
   ]
  },
  {
   "cell_type": "markdown",
   "id": "0b685bb7-6755-4e0e-8c01-4e703831a469",
   "metadata": {},
   "source": [
    "## Load dataset"
   ]
  },
  {
   "cell_type": "code",
   "execution_count": 2,
   "id": "3e5478d1-1a11-49af-b330-89137ae635c4",
   "metadata": {},
   "outputs": [],
   "source": [
    "df= pd.read_csv(r\"E:\\Project OTT\\disney_plus_titles.csv\")"
   ]
  },
  {
   "cell_type": "markdown",
   "id": "00c7f64a-87e1-4f93-b85a-d6f5a949d261",
   "metadata": {},
   "source": [
    "## Inspect Data"
   ]
  },
  {
   "cell_type": "code",
   "execution_count": 3,
   "id": "131e1a34-df79-4724-8b75-4d679bff613d",
   "metadata": {},
   "outputs": [
    {
     "name": "stdout",
     "output_type": "stream",
     "text": [
      "<class 'pandas.core.frame.DataFrame'>\n",
      "RangeIndex: 1450 entries, 0 to 1449\n",
      "Data columns (total 12 columns):\n",
      " #   Column        Non-Null Count  Dtype \n",
      "---  ------        --------------  ----- \n",
      " 0   show_id       1450 non-null   object\n",
      " 1   type          1450 non-null   object\n",
      " 2   title         1450 non-null   object\n",
      " 3   director      976 non-null    object\n",
      " 4   cast          1258 non-null   object\n",
      " 5   country       1231 non-null   object\n",
      " 6   date_added    1447 non-null   object\n",
      " 7   release_year  1450 non-null   int64 \n",
      " 8   rating        1447 non-null   object\n",
      " 9   duration      1450 non-null   object\n",
      " 10  listed_in     1450 non-null   object\n",
      " 11  description   1450 non-null   object\n",
      "dtypes: int64(1), object(11)\n",
      "memory usage: 136.1+ KB\n"
     ]
    }
   ],
   "source": [
    "df.head()\n",
    "df.info()"
   ]
  },
  {
   "cell_type": "markdown",
   "id": "a34e5efd-3dd4-46f2-8e98-cde28e40fea4",
   "metadata": {},
   "source": [
    "We need to check the data type and Null values"
   ]
  },
  {
   "cell_type": "code",
   "execution_count": 4,
   "id": "7b9b3b63-ec76-4cb7-bcb5-50c76435fc1d",
   "metadata": {},
   "outputs": [
    {
     "data": {
      "text/plain": [
       "show_id           0\n",
       "type              0\n",
       "title             0\n",
       "director        474\n",
       "cast            192\n",
       "country         219\n",
       "date_added        3\n",
       "release_year      0\n",
       "rating            3\n",
       "duration          0\n",
       "listed_in         0\n",
       "description       0\n",
       "dtype: int64"
      ]
     },
     "execution_count": 4,
     "metadata": {},
     "output_type": "execute_result"
    }
   ],
   "source": [
    "df.isnull().sum()"
   ]
  },
  {
   "cell_type": "markdown",
   "id": "ea9bd214-e986-4779-a6f9-e5e9099f258b",
   "metadata": {},
   "source": [
    "## Remove null values"
   ]
  },
  {
   "cell_type": "code",
   "execution_count": 5,
   "id": "320a257e-e829-447f-a1e0-ab64bd8ab5a8",
   "metadata": {},
   "outputs": [],
   "source": [
    "df['director'] = df['director'].fillna('Unknown')\n",
    "df['cast'] = df['cast'].fillna('Unknown')\n",
    "df['rating'] = df['rating'].fillna('NR')\n",
    "df['country']=df['country'].fillna('Unknown')\n",
    "df = df.dropna(subset=['date_added'])"
   ]
  },
  {
   "cell_type": "code",
   "execution_count": 6,
   "id": "7f6bc759-a008-40ed-962b-8a96f634a628",
   "metadata": {},
   "outputs": [
    {
     "data": {
      "text/plain": [
       "show_id         0\n",
       "type            0\n",
       "title           0\n",
       "director        0\n",
       "cast            0\n",
       "country         0\n",
       "date_added      0\n",
       "release_year    0\n",
       "rating          0\n",
       "duration        0\n",
       "listed_in       0\n",
       "description     0\n",
       "dtype: int64"
      ]
     },
     "execution_count": 6,
     "metadata": {},
     "output_type": "execute_result"
    }
   ],
   "source": [
    "df.isnull().sum()"
   ]
  },
  {
   "cell_type": "markdown",
   "id": "37dd29f3-dcba-4328-af6e-5b3aaeb72f8c",
   "metadata": {},
   "source": [
    "## Check the Datatype"
   ]
  },
  {
   "cell_type": "code",
   "execution_count": 7,
   "id": "9adadea0-1b6e-4fc2-90ca-50de5eae0acb",
   "metadata": {},
   "outputs": [],
   "source": [
    "df['date_added'] = pd.to_datetime(df['date_added'])\n",
    "df['added_year'] = df['date_added'].dt.year"
   ]
  },
  {
   "cell_type": "markdown",
   "id": "2830a045-7254-479a-ba43-fd70e9157171",
   "metadata": {},
   "source": [
    "First change the datatype to datetime format and separate the year. Since [date_added] column have Month, days, and year . I split year as [added_year] separetely for better analysis"
   ]
  },
  {
   "cell_type": "code",
   "execution_count": 8,
   "id": "48500827-80d9-499b-ba40-667b6e1e8592",
   "metadata": {},
   "outputs": [
    {
     "name": "stdout",
     "output_type": "stream",
     "text": [
      "<class 'pandas.core.frame.DataFrame'>\n",
      "Index: 1447 entries, 0 to 1449\n",
      "Data columns (total 13 columns):\n",
      " #   Column        Non-Null Count  Dtype         \n",
      "---  ------        --------------  -----         \n",
      " 0   show_id       1447 non-null   object        \n",
      " 1   type          1447 non-null   object        \n",
      " 2   title         1447 non-null   object        \n",
      " 3   director      1447 non-null   object        \n",
      " 4   cast          1447 non-null   object        \n",
      " 5   country       1447 non-null   object        \n",
      " 6   date_added    1447 non-null   datetime64[ns]\n",
      " 7   release_year  1447 non-null   int64         \n",
      " 8   rating        1447 non-null   object        \n",
      " 9   duration      1447 non-null   object        \n",
      " 10  listed_in     1447 non-null   object        \n",
      " 11  description   1447 non-null   object        \n",
      " 12  added_year    1447 non-null   int32         \n",
      "dtypes: datetime64[ns](1), int32(1), int64(1), object(10)\n",
      "memory usage: 152.6+ KB\n"
     ]
    }
   ],
   "source": [
    "df.info()"
   ]
  },
  {
   "cell_type": "markdown",
   "id": "27a69995-dd35-488f-aea4-e0b20c0186b1",
   "metadata": {},
   "source": [
    "#### Split the lited_in and cast column"
   ]
  },
  {
   "cell_type": "code",
   "execution_count": 9,
   "id": "1fb13328-02d8-4379-baaa-b24e1c65cdf1",
   "metadata": {},
   "outputs": [],
   "source": [
    "df_cast = df[['title', 'cast']].dropna().copy()\n",
    "\n",
    "# Split cast string by comma and explode to rows\n",
    "df_cast['cast'] = df_cast['cast'].str.split(', ')\n",
    "df_cast = df_cast.explode('cast')\n",
    "\n",
    "# Remove 'unknown' or any empty values\n",
    "df_cast['cast'] = df_cast['cast'].str.strip()\n",
    "df_cast = df_cast[df_cast['cast'].str.lower() != 'unknown']\n",
    "df_cast = df_cast[df_cast['cast'] != '']\n",
    "\n",
    "# remove duplicates\n",
    "df_cast.drop_duplicates(inplace=True)\n",
    "\n",
    "df_genres = df[['title', 'listed_in']].dropna().copy()\n",
    "\n",
    "# Split genre string and explode\n",
    "df_genres['genre'] = df_genres['listed_in'].str.split(', ')\n",
    "df_genres = df_genres.explode('genre')\n",
    "\n",
    "# Clean genre column\n",
    "df_genres['genre'] = df_genres['genre'].str.strip()\n",
    "df_genres = df_genres[df_genres['genre'].str.lower() != 'unknown']\n",
    "df_genres = df_genres[df_genres['genre'] != '']\n",
    "\n",
    "# drop duplicates\n",
    "df_genres.drop_duplicates(inplace=True)\n",
    "\n",
    "df = df.dropna(subset=['listed_in']).copy()\n",
    "df['genre'] = df['listed_in'].str.split(', ')\n",
    "df = df.explode('genre')\n",
    "df['genre'] = df['genre'].str.strip()\n",
    "df = df.dropna(subset=['cast']).copy()\n",
    "df['actor'] = df['cast'].str.split(', ')\n",
    "df = df.explode('actor')\n",
    "df['actor'] = df['actor'].str.strip()"
   ]
  },
  {
   "cell_type": "code",
   "execution_count": 10,
   "id": "9c59d8bd-3555-4231-8739-26bb3687cb48",
   "metadata": {},
   "outputs": [
    {
     "data": {
      "text/html": [
       "<div>\n",
       "<style scoped>\n",
       "    .dataframe tbody tr th:only-of-type {\n",
       "        vertical-align: middle;\n",
       "    }\n",
       "\n",
       "    .dataframe tbody tr th {\n",
       "        vertical-align: top;\n",
       "    }\n",
       "\n",
       "    .dataframe thead th {\n",
       "        text-align: right;\n",
       "    }\n",
       "</style>\n",
       "<table border=\"1\" class=\"dataframe\">\n",
       "  <thead>\n",
       "    <tr style=\"text-align: right;\">\n",
       "      <th></th>\n",
       "      <th>show_id</th>\n",
       "      <th>type</th>\n",
       "      <th>title</th>\n",
       "      <th>director</th>\n",
       "      <th>cast</th>\n",
       "      <th>country</th>\n",
       "      <th>date_added</th>\n",
       "      <th>release_year</th>\n",
       "      <th>rating</th>\n",
       "      <th>duration</th>\n",
       "      <th>listed_in</th>\n",
       "      <th>description</th>\n",
       "      <th>added_year</th>\n",
       "      <th>genre</th>\n",
       "      <th>actor</th>\n",
       "    </tr>\n",
       "  </thead>\n",
       "  <tbody>\n",
       "    <tr>\n",
       "      <th>0</th>\n",
       "      <td>s1</td>\n",
       "      <td>Movie</td>\n",
       "      <td>Duck the Halls: A Mickey Mouse Christmas Special</td>\n",
       "      <td>Alonso Ramirez Ramos, Dave Wasson</td>\n",
       "      <td>Chris Diamantopoulos, Tony Anselmo, Tress MacN...</td>\n",
       "      <td>Unknown</td>\n",
       "      <td>2021-11-26</td>\n",
       "      <td>2016</td>\n",
       "      <td>TV-G</td>\n",
       "      <td>23 min</td>\n",
       "      <td>Animation, Family</td>\n",
       "      <td>Join Mickey and the gang as they duck the halls!</td>\n",
       "      <td>2021</td>\n",
       "      <td>Animation</td>\n",
       "      <td>Chris Diamantopoulos</td>\n",
       "    </tr>\n",
       "    <tr>\n",
       "      <th>0</th>\n",
       "      <td>s1</td>\n",
       "      <td>Movie</td>\n",
       "      <td>Duck the Halls: A Mickey Mouse Christmas Special</td>\n",
       "      <td>Alonso Ramirez Ramos, Dave Wasson</td>\n",
       "      <td>Chris Diamantopoulos, Tony Anselmo, Tress MacN...</td>\n",
       "      <td>Unknown</td>\n",
       "      <td>2021-11-26</td>\n",
       "      <td>2016</td>\n",
       "      <td>TV-G</td>\n",
       "      <td>23 min</td>\n",
       "      <td>Animation, Family</td>\n",
       "      <td>Join Mickey and the gang as they duck the halls!</td>\n",
       "      <td>2021</td>\n",
       "      <td>Animation</td>\n",
       "      <td>Tony Anselmo</td>\n",
       "    </tr>\n",
       "    <tr>\n",
       "      <th>0</th>\n",
       "      <td>s1</td>\n",
       "      <td>Movie</td>\n",
       "      <td>Duck the Halls: A Mickey Mouse Christmas Special</td>\n",
       "      <td>Alonso Ramirez Ramos, Dave Wasson</td>\n",
       "      <td>Chris Diamantopoulos, Tony Anselmo, Tress MacN...</td>\n",
       "      <td>Unknown</td>\n",
       "      <td>2021-11-26</td>\n",
       "      <td>2016</td>\n",
       "      <td>TV-G</td>\n",
       "      <td>23 min</td>\n",
       "      <td>Animation, Family</td>\n",
       "      <td>Join Mickey and the gang as they duck the halls!</td>\n",
       "      <td>2021</td>\n",
       "      <td>Animation</td>\n",
       "      <td>Tress MacNeille</td>\n",
       "    </tr>\n",
       "    <tr>\n",
       "      <th>0</th>\n",
       "      <td>s1</td>\n",
       "      <td>Movie</td>\n",
       "      <td>Duck the Halls: A Mickey Mouse Christmas Special</td>\n",
       "      <td>Alonso Ramirez Ramos, Dave Wasson</td>\n",
       "      <td>Chris Diamantopoulos, Tony Anselmo, Tress MacN...</td>\n",
       "      <td>Unknown</td>\n",
       "      <td>2021-11-26</td>\n",
       "      <td>2016</td>\n",
       "      <td>TV-G</td>\n",
       "      <td>23 min</td>\n",
       "      <td>Animation, Family</td>\n",
       "      <td>Join Mickey and the gang as they duck the halls!</td>\n",
       "      <td>2021</td>\n",
       "      <td>Animation</td>\n",
       "      <td>Bill Farmer</td>\n",
       "    </tr>\n",
       "    <tr>\n",
       "      <th>0</th>\n",
       "      <td>s1</td>\n",
       "      <td>Movie</td>\n",
       "      <td>Duck the Halls: A Mickey Mouse Christmas Special</td>\n",
       "      <td>Alonso Ramirez Ramos, Dave Wasson</td>\n",
       "      <td>Chris Diamantopoulos, Tony Anselmo, Tress MacN...</td>\n",
       "      <td>Unknown</td>\n",
       "      <td>2021-11-26</td>\n",
       "      <td>2016</td>\n",
       "      <td>TV-G</td>\n",
       "      <td>23 min</td>\n",
       "      <td>Animation, Family</td>\n",
       "      <td>Join Mickey and the gang as they duck the halls!</td>\n",
       "      <td>2021</td>\n",
       "      <td>Animation</td>\n",
       "      <td>Russi Taylor</td>\n",
       "    </tr>\n",
       "  </tbody>\n",
       "</table>\n",
       "</div>"
      ],
      "text/plain": [
       "  show_id   type                                             title  \\\n",
       "0      s1  Movie  Duck the Halls: A Mickey Mouse Christmas Special   \n",
       "0      s1  Movie  Duck the Halls: A Mickey Mouse Christmas Special   \n",
       "0      s1  Movie  Duck the Halls: A Mickey Mouse Christmas Special   \n",
       "0      s1  Movie  Duck the Halls: A Mickey Mouse Christmas Special   \n",
       "0      s1  Movie  Duck the Halls: A Mickey Mouse Christmas Special   \n",
       "\n",
       "                            director  \\\n",
       "0  Alonso Ramirez Ramos, Dave Wasson   \n",
       "0  Alonso Ramirez Ramos, Dave Wasson   \n",
       "0  Alonso Ramirez Ramos, Dave Wasson   \n",
       "0  Alonso Ramirez Ramos, Dave Wasson   \n",
       "0  Alonso Ramirez Ramos, Dave Wasson   \n",
       "\n",
       "                                                cast  country date_added  \\\n",
       "0  Chris Diamantopoulos, Tony Anselmo, Tress MacN...  Unknown 2021-11-26   \n",
       "0  Chris Diamantopoulos, Tony Anselmo, Tress MacN...  Unknown 2021-11-26   \n",
       "0  Chris Diamantopoulos, Tony Anselmo, Tress MacN...  Unknown 2021-11-26   \n",
       "0  Chris Diamantopoulos, Tony Anselmo, Tress MacN...  Unknown 2021-11-26   \n",
       "0  Chris Diamantopoulos, Tony Anselmo, Tress MacN...  Unknown 2021-11-26   \n",
       "\n",
       "   release_year rating duration          listed_in  \\\n",
       "0          2016   TV-G   23 min  Animation, Family   \n",
       "0          2016   TV-G   23 min  Animation, Family   \n",
       "0          2016   TV-G   23 min  Animation, Family   \n",
       "0          2016   TV-G   23 min  Animation, Family   \n",
       "0          2016   TV-G   23 min  Animation, Family   \n",
       "\n",
       "                                        description  added_year      genre  \\\n",
       "0  Join Mickey and the gang as they duck the halls!        2021  Animation   \n",
       "0  Join Mickey and the gang as they duck the halls!        2021  Animation   \n",
       "0  Join Mickey and the gang as they duck the halls!        2021  Animation   \n",
       "0  Join Mickey and the gang as they duck the halls!        2021  Animation   \n",
       "0  Join Mickey and the gang as they duck the halls!        2021  Animation   \n",
       "\n",
       "                  actor  \n",
       "0  Chris Diamantopoulos  \n",
       "0          Tony Anselmo  \n",
       "0       Tress MacNeille  \n",
       "0           Bill Farmer  \n",
       "0          Russi Taylor  "
      ]
     },
     "execution_count": 10,
     "metadata": {},
     "output_type": "execute_result"
    }
   ],
   "source": [
    "df.head()"
   ]
  },
  {
   "cell_type": "markdown",
   "id": "44e45ab1-b737-4dce-8685-7942febcd6c5",
   "metadata": {},
   "source": [
    "## Download Data for comparative analysis"
   ]
  },
  {
   "cell_type": "code",
   "execution_count": 11,
   "id": "8361dc24-156a-48c9-b3f4-250a598cd1d7",
   "metadata": {},
   "outputs": [],
   "source": [
    "df.to_csv('Disney_Plus.csv', index=False)"
   ]
  },
  {
   "cell_type": "markdown",
   "id": "1d731ae0-02c4-43eb-b88a-beaaef1fd9f5",
   "metadata": {},
   "source": [
    "## Exploratory Analysis for Disney"
   ]
  },
  {
   "cell_type": "markdown",
   "id": "5d5d463d-6410-413e-b4fa-8e6bb4c58419",
   "metadata": {},
   "source": [
    "#### Count of Movies vs TV Shows"
   ]
  },
  {
   "cell_type": "code",
   "execution_count": 12,
   "id": "70d7e481-cc84-41f4-89e0-5c24782f5640",
   "metadata": {},
   "outputs": [
    {
     "data": {
      "text/plain": [
       "type\n",
       "Movie      13109\n",
       "TV Show     3636\n",
       "Name: count, dtype: int64"
      ]
     },
     "execution_count": 12,
     "metadata": {},
     "output_type": "execute_result"
    }
   ],
   "source": [
    "df['type'].value_counts()"
   ]
  },
  {
   "cell_type": "markdown",
   "id": "16ad4a0d-78f0-4376-ac00-ecdfdaf31ba0",
   "metadata": {},
   "source": [
    "#### #% of Movies vs TV Shows"
   ]
  },
  {
   "cell_type": "code",
   "execution_count": 13,
   "id": "70909177-264a-40fa-8ab7-8ebb85eb35fe",
   "metadata": {},
   "outputs": [
    {
     "data": {
      "text/plain": [
       "type\n",
       "Movie      78.286056\n",
       "TV Show    21.713944\n",
       "Name: proportion, dtype: float64"
      ]
     },
     "execution_count": 13,
     "metadata": {},
     "output_type": "execute_result"
    }
   ],
   "source": [
    "df['type'].value_counts(normalize=True) * 100"
   ]
  },
  {
   "cell_type": "markdown",
   "id": "1058c142-132f-4f76-be06-61c9542c9a1e",
   "metadata": {},
   "source": [
    "#### Most Released Type in the Latest Year"
   ]
  },
  {
   "cell_type": "code",
   "execution_count": 14,
   "id": "2c23b0e7-b0ed-43fa-af13-e8e69e8f6498",
   "metadata": {},
   "outputs": [
    {
     "data": {
      "text/plain": [
       "type\n",
       "Movie      508\n",
       "TV Show    397\n",
       "Name: count, dtype: int64"
      ]
     },
     "execution_count": 14,
     "metadata": {},
     "output_type": "execute_result"
    }
   ],
   "source": [
    "latest_year = df['release_year'].max()\n",
    "df[df['release_year'] == latest_year]['type'].value_counts()"
   ]
  },
  {
   "cell_type": "markdown",
   "id": "6cacf813-e349-43be-ba8b-931cacdffab0",
   "metadata": {},
   "source": [
    "#### Count of Each Rating"
   ]
  },
  {
   "cell_type": "code",
   "execution_count": 15,
   "id": "8275b26d-4c93-4070-ad91-5be5d441cffd",
   "metadata": {},
   "outputs": [
    {
     "data": {
      "text/plain": [
       "rating\n",
       "G           3723\n",
       "PG          3692\n",
       "TV-G        3489\n",
       "TV-PG       2078\n",
       "TV-Y7       1493\n",
       "PG-13       1074\n",
       "TV-Y         572\n",
       "TV-14        434\n",
       "TV-Y7-FV     167\n",
       "NR            23\n",
       "Name: count, dtype: int64"
      ]
     },
     "execution_count": 15,
     "metadata": {},
     "output_type": "execute_result"
    }
   ],
   "source": [
    "df['rating'].value_counts()"
   ]
  },
  {
   "cell_type": "markdown",
   "id": "05b0e9df-5e24-42e1-8a05-e5871543c3e3",
   "metadata": {},
   "source": [
    "#### Rating Distribution by Content Type"
   ]
  },
  {
   "cell_type": "code",
   "execution_count": 16,
   "id": "fe9930de-7b74-4d66-ab60-6ad95e3e46dd",
   "metadata": {},
   "outputs": [
    {
     "data": {
      "text/plain": [
       "type     rating  \n",
       "Movie    G           3723\n",
       "         PG          3689\n",
       "         TV-G        2593\n",
       "         TV-PG       1349\n",
       "         PG-13       1074\n",
       "         TV-Y7        339\n",
       "         TV-14        173\n",
       "         TV-Y7-FV     103\n",
       "         TV-Y          57\n",
       "         NR             9\n",
       "TV Show  TV-Y7       1154\n",
       "         TV-G         896\n",
       "         TV-PG        729\n",
       "         TV-Y         515\n",
       "         TV-14        261\n",
       "         TV-Y7-FV      64\n",
       "         NR            14\n",
       "         PG             3\n",
       "Name: count, dtype: int64"
      ]
     },
     "execution_count": 16,
     "metadata": {},
     "output_type": "execute_result"
    }
   ],
   "source": [
    "df.groupby('type')['rating'].value_counts()"
   ]
  },
  {
   "cell_type": "markdown",
   "id": "a446345e-72d6-4dae-a58f-c3d6107e086a",
   "metadata": {},
   "source": [
    "#### Average movie duration"
   ]
  },
  {
   "cell_type": "code",
   "execution_count": 17,
   "id": "052e1ef5-ad88-4577-8221-52f1ea04576e",
   "metadata": {},
   "outputs": [
    {
     "name": "stdout",
     "output_type": "stream",
     "text": [
      "Average Movie duration is: 83\n"
     ]
    }
   ],
   "source": [
    "# Step-1: Separate Movies and TV Shows \n",
    "movies = df[df['type'] == 'Movie']\n",
    "tv_shows = df[df['type'] == 'TV Show']\n",
    "\n",
    "#Step-2: Extract duration in minutes for movie\n",
    "movies = df[df['type'] == 'Movie'].copy()\n",
    "movies['duration_minutes'] = movies['duration'].str.extract('(\\d+)')\n",
    "movies['duration_minutes'] = movies['duration_minutes'].astype(float)\n",
    "\n",
    "#Step-3: Print the average movie duration\n",
    "print(\"Average Movie duration is:\", int(movies['duration_minutes'].mean()))"
   ]
  },
  {
   "cell_type": "markdown",
   "id": "1aa11d5f-2a07-4b6e-90e6-8c2931a0f813",
   "metadata": {},
   "source": [
    "#### Top 5 Most Common Genres"
   ]
  },
  {
   "cell_type": "code",
   "execution_count": 18,
   "id": "87d1cb34-bfcc-4ce9-bde4-cb886078b035",
   "metadata": {},
   "outputs": [
    {
     "data": {
      "text/plain": [
       "genre\n",
       "Comedy              2584\n",
       "Family              2545\n",
       "Action-Adventure    2359\n",
       "Animation           2258\n",
       "Coming of Age       1166\n",
       "Name: count, dtype: int64"
      ]
     },
     "execution_count": 18,
     "metadata": {},
     "output_type": "execute_result"
    }
   ],
   "source": [
    "df['genre'].value_counts().head(5)"
   ]
  },
  {
   "cell_type": "markdown",
   "id": "b53e3135-202d-4563-bbc6-7b9a4456c25d",
   "metadata": {},
   "source": [
    "#### Genre per Content Type"
   ]
  },
  {
   "cell_type": "code",
   "execution_count": 19,
   "id": "6c118e99-5497-484b-a641-970db2384a3e",
   "metadata": {},
   "outputs": [
    {
     "data": {
      "text/plain": [
       "type   genre           \n",
       "Movie  Family              2298\n",
       "       Comedy              2059\n",
       "       Action-Adventure    1813\n",
       "       Animation           1589\n",
       "       Coming of Age        907\n",
       "       Fantasy              859\n",
       "       Drama                693\n",
       "       Science Fiction      437\n",
       "       Animals & Nature     349\n",
       "       Documentary          324\n",
       "Name: count, dtype: int64"
      ]
     },
     "execution_count": 19,
     "metadata": {},
     "output_type": "execute_result"
    }
   ],
   "source": [
    "df.groupby('type')['genre'].value_counts().head(10)"
   ]
  },
  {
   "cell_type": "markdown",
   "id": "835438c0-65d9-43c9-8e00-4cc65e9e76e2",
   "metadata": {},
   "source": [
    "#### Most common actors in the platform"
   ]
  },
  {
   "cell_type": "code",
   "execution_count": 20,
   "id": "fecd6cae-3c8d-4eb4-aac2-8e38abb805e1",
   "metadata": {},
   "outputs": [
    {
     "data": {
      "text/plain": [
       "[('Jim Cummings', 530),\n",
       " ('Jeff Bennett', 258),\n",
       " ('Bill Farmer', 255),\n",
       " ('Corey Burton', 243),\n",
       " ('Tress MacNeille', 235)]"
      ]
     },
     "execution_count": 20,
     "metadata": {},
     "output_type": "execute_result"
    }
   ],
   "source": [
    "#Step-1: split and flatten the cast column\n",
    "from collections import Counter\n",
    "all_cast = df['cast'].dropna().str.split(', ')\n",
    "flat_cast = [actor for sublist in all_cast for actor in sublist]\n",
    "\n",
    "#Step-2: Count the actors\n",
    "filtered_cast = [actor for actor in flat_cast if actor.lower() != 'unknown']\n",
    "cast_count = Counter(filtered_cast)\n",
    "cast_count.most_common(5)"
   ]
  },
  {
   "cell_type": "markdown",
   "id": "9682374f-deda-4104-a8d6-892eb3568ef5",
   "metadata": {},
   "source": [
    "#### Top cast by type"
   ]
  },
  {
   "cell_type": "code",
   "execution_count": 21,
   "id": "d029a453-1394-4a56-8ce3-8939091db149",
   "metadata": {},
   "outputs": [
    {
     "name": "stdout",
     "output_type": "stream",
     "text": [
      "[('Jim Cummings', 348), ('Tim Allen', 231), ('Wallace Shawn', 222), ('Larry the Cable Guy ', 216), ('Tom Hanks', 198)]\n"
     ]
    }
   ],
   "source": [
    "#top cast by type\n",
    "from collections import Counter\n",
    "\n",
    "# Step 1: Get cast data for Movies, drop NaNs, split\n",
    "movies_cast = df[df['type'] == 'Movie']['cast'].dropna().str.split(', ')\n",
    "\n",
    "# Step 2: Flatten and filter out 'Unknown'\n",
    "movies_flat_cast = [\n",
    "    actor for sublist in movies_cast for actor in sublist if actor.lower() != 'unknown'\n",
    "]\n",
    "\n",
    "# Step 3: Count and get top 5\n",
    "top_actors = Counter(movies_flat_cast).most_common(5)\n",
    "print(top_actors)"
   ]
  },
  {
   "cell_type": "markdown",
   "id": "c1c3753d-0c7b-44e0-b2ce-2a9d63a29914",
   "metadata": {},
   "source": [
    "## For Dashboard"
   ]
  },
  {
   "cell_type": "markdown",
   "id": "3fb16124-8884-46a4-b029-2a8be36a72fb",
   "metadata": {},
   "source": [
    "#### Total Titles on Netflix"
   ]
  },
  {
   "cell_type": "code",
   "execution_count": 22,
   "id": "5858eeaf-7b48-475b-bb76-81490f833497",
   "metadata": {},
   "outputs": [
    {
     "name": "stdout",
     "output_type": "stream",
     "text": [
      "Total Titles on Disney: 16745\n"
     ]
    }
   ],
   "source": [
    "total_titles = len(df)\n",
    "print(\"Total Titles on Disney:\", total_titles)"
   ]
  },
  {
   "cell_type": "markdown",
   "id": "72586aef-a5e5-4a49-a003-e7b74a916931",
   "metadata": {},
   "source": [
    "#### Average Movie Duration"
   ]
  },
  {
   "cell_type": "code",
   "execution_count": 23,
   "id": "eab8f7ac-15d9-4177-adf8-285e02366811",
   "metadata": {},
   "outputs": [
    {
     "name": "stdout",
     "output_type": "stream",
     "text": [
      "Average Movie duration is: 83\n"
     ]
    }
   ],
   "source": [
    "# Step-1: Separate Movies and TV Shows \n",
    "movies = df[df['type'] == 'Movie']\n",
    "tv_shows = df[df['type'] == 'TV Show']\n",
    "\n",
    "#Step-2: Extract duration in minutes for movie\n",
    "movies = df[df['type'] == 'Movie'].copy()\n",
    "movies['duration_minutes'] = movies['duration'].str.extract('(\\d+)')\n",
    "movies['duration_minutes'] = movies['duration_minutes'].astype(float)\n",
    "\n",
    "#Step-3: Print the average movie duration\n",
    "print(\"Average Movie duration is:\", int(movies['duration_minutes'].mean()))"
   ]
  },
  {
   "cell_type": "markdown",
   "id": "0b8a6848-0a36-4871-86b4-a22c3d6e72bf",
   "metadata": {},
   "source": [
    "#### Content Type Distribution (Movies vs TV Shows)"
   ]
  },
  {
   "cell_type": "code",
   "execution_count": 24,
   "id": "72429a0d-b759-4941-a040-677df7c19016",
   "metadata": {},
   "outputs": [
    {
     "name": "stdout",
     "output_type": "stream",
     "text": [
      "Content Type Distribution:\n",
      "type\n",
      "Movie      13109\n",
      "TV Show     3636\n",
      "Name: count, dtype: int64\n"
     ]
    }
   ],
   "source": [
    "type_distribution = df['type'].value_counts()\n",
    "print(\"Content Type Distribution:\")\n",
    "print(type_distribution)"
   ]
  },
  {
   "cell_type": "markdown",
   "id": "5fa420dc-7ffb-4635-afc4-d2aefde50e3f",
   "metadata": {},
   "source": [
    "#### Most Common Genre"
   ]
  },
  {
   "cell_type": "code",
   "execution_count": 25,
   "id": "df8079e7-5328-45ba-b169-59b517297de6",
   "metadata": {},
   "outputs": [
    {
     "data": {
      "text/plain": [
       "genre\n",
       "Comedy              2584\n",
       "Family              2545\n",
       "Action-Adventure    2359\n",
       "Animation           2258\n",
       "Coming of Age       1166\n",
       "Name: count, dtype: int64"
      ]
     },
     "execution_count": 25,
     "metadata": {},
     "output_type": "execute_result"
    }
   ],
   "source": [
    "df['genre'].value_counts().head(5)"
   ]
  },
  {
   "cell_type": "markdown",
   "id": "ed069139-e12c-443c-8717-d558003d410f",
   "metadata": {},
   "source": [
    "#### Top release year"
   ]
  },
  {
   "cell_type": "code",
   "execution_count": 26,
   "id": "fd749d79-d254-49ff-bd61-a2de0df3eb95",
   "metadata": {},
   "outputs": [
    {
     "name": "stdout",
     "output_type": "stream",
     "text": [
      "Top 5 Release Years on Netflix:\n",
      "release_year\n",
      "2021    905\n",
      "2019    869\n",
      "2020    840\n",
      "2011    738\n",
      "2014    663\n",
      "Name: count, dtype: int64\n"
     ]
    }
   ],
   "source": [
    "top_years =df['release_year'].value_counts().head(5)\n",
    "print(\"Top 5 Release Years on Netflix:\")\n",
    "print(top_years)"
   ]
  },
  {
   "cell_type": "markdown",
   "id": "8d3c0c9e-6273-460d-a078-6c2cd30c912c",
   "metadata": {},
   "source": [
    "#### 1) Content release by year"
   ]
  },
  {
   "cell_type": "code",
   "execution_count": 27,
   "id": "15e6960e-57f5-484d-b02a-89d16fd94813",
   "metadata": {},
   "outputs": [
    {
     "data": {
      "image/png": "[encoded data removed]",
      "text/plain": [
       "<Figure size 1200x600 with 1 Axes>"
      ]
     },
     "metadata": {},
     "output_type": "display_data"
    }
   ],
   "source": [
    "import matplotlib.pyplot as plt\n",
    "import seaborn as sns\n",
    "\n",
    "# Group by release year and count titles\n",
    "release_trend = df['release_year'].value_counts().sort_index()\n",
    "\n",
    "# Plot the trend\n",
    "plt.figure(figsize=(12, 6))\n",
    "sns.lineplot(x=release_trend.index, y=release_trend.values, marker='o', color='crimson')\n",
    "plt.title('Disney+ Content Release Trend by Year', fontsize=14)\n",
    "plt.xlabel('Release Year')\n",
    "plt.ylabel('Number of Titles Released')\n",
    "plt.grid(True)\n",
    "plt.tight_layout()\n",
    "plt.show()"
   ]
  },
  {
   "cell_type": "markdown",
   "id": "226d720e-2f26-44b2-a000-3477a404ae46",
   "metadata": {},
   "source": [
    "#### 2) Rating distribution"
   ]
  },
  {
   "cell_type": "code",
   "execution_count": 28,
   "id": "21f434c1-6638-4e73-9ee6-c669f0a6925e",
   "metadata": {},
   "outputs": [
    {
     "name": "stderr",
     "output_type": "stream",
     "text": [
      "C:\\Users\\Divya Ramaingam\\AppData\\Local\\Temp\\ipykernel_9472\\633955464.py:5: FutureWarning: \n",
      "\n",
      "Passing `palette` without assigning `hue` is deprecated and will be removed in v0.14.0. Assign the `x` variable to `hue` and set `legend=False` for the same effect.\n",
      "\n",
      "  sns.barplot(x=rating_counts.index, y=rating_counts.values, palette=\"magma\")\n"
     ]
    },
    {
     "data": {
      "image/png": "[encoded data removed]",
      "text/plain": [
       "<Figure size 1000x600 with 1 Axes>"
      ]
     },
     "metadata": {},
     "output_type": "display_data"
    }
   ],
   "source": [
    "rating_counts = df['rating'].value_counts()\n",
    "\n",
    "# Plot\n",
    "plt.figure(figsize=(10, 6))\n",
    "sns.barplot(x=rating_counts.index, y=rating_counts.values, palette=\"magma\")\n",
    "plt.title('Disney+ Content Rating Distribution', fontsize=14)\n",
    "plt.xlabel('Rating')\n",
    "plt.ylabel('Number of Titles')\n",
    "plt.xticks(rotation=45)\n",
    "plt.tight_layout()\n",
    "plt.show()"
   ]
  },
  {
   "cell_type": "markdown",
   "id": "80a6596f-c4ae-4409-a2a4-1d9d26a379fc",
   "metadata": {},
   "source": [
    "#### 3)Top Occuring Movie"
   ]
  },
  {
   "cell_type": "code",
   "execution_count": 29,
   "id": "11ba40cc-4acf-41a2-afe4-437af44690cb",
   "metadata": {},
   "outputs": [
    {
     "name": "stdout",
     "output_type": "stream",
     "text": [
      "Top Occurring Movie on Disney+:\n",
      "title\n",
      "Doc McStuffins: The Doc Is In     21\n",
      "Lady and the Tramp                18\n",
      "Kronk's New Groove                18\n",
      "Johnny Tsunami                    18\n",
      "Johnny Kapahala: Back on Board    18\n",
      "Name: count, dtype: int64\n"
     ]
    }
   ],
   "source": [
    "top_movie = df['title'].value_counts().head(5)\n",
    "\n",
    "# Display the result\n",
    "print(\"Top Occurring Movie on Disney+:\")\n",
    "print(top_movie)"
   ]
  },
  {
   "cell_type": "markdown",
   "id": "c900a752-0c53-4355-b8ec-6a7dc4706a2d",
   "metadata": {},
   "source": [
    "#### 4)Top cast members"
   ]
  },
  {
   "cell_type": "code",
   "execution_count": 37,
   "id": "4e318e25-77e6-4927-8adb-fa4357529a33",
   "metadata": {},
   "outputs": [
    {
     "name": "stdout",
     "output_type": "stream",
     "text": [
      "🎬 Top 5 Actors by Unique Title Appearances:\n",
      "Jim Cummings: 33 unique titles\n",
      "Walt Disney: 20 unique titles\n",
      "Larry the Cable Guy: 19 unique titles\n",
      "Bill Farmer: 18 unique titles\n",
      "Tress MacNeille: 16 unique titles\n"
     ]
    }
   ],
   "source": [
    "from collections import Counter\n",
    "\n",
    "# Step 1: Drop null and clean\n",
    "df_actor = df[['title', 'actor']].dropna().copy()\n",
    "df_actor = df_actor[~df_actor['actor'].str.contains('Unknown', case=False)]\n",
    "\n",
    "# Step 2: Split and explode actors\n",
    "df_actor['actor'] = df_actor['actor'].str.split(', ')\n",
    "df_actor = df_actor.explode('actor')\n",
    "df_actor['actor'] = df_actor['actor'].str.strip()\n",
    "\n",
    "# Step 3: Drop duplicate title-actor pairs\n",
    "df_actor = df_actor.drop_duplicates(subset=['title', 'actor'])\n",
    "\n",
    "# Step 4: Count appearances\n",
    "top_5_unique_actors = df_actor['actor'].value_counts().head(5)\n",
    "\n",
    "# Display result\n",
    "print(\"🎬 Top 5 Actors by Unique Title Appearances:\")\n",
    "for actor, count in top_5_unique_actors.items():\n",
    "    print(f\"{actor}: {count} unique titles\")\n"
   ]
  },
  {
   "cell_type": "code",
   "execution_count": 38,
   "id": "1e70c972-98a0-430a-aef5-46158cbd2074",
   "metadata": {},
   "outputs": [
    {
     "name": "stdout",
     "output_type": "stream",
     "text": [
      "Unique titles with Jim Cummings: 33\n"
     ]
    }
   ],
   "source": [
    "df_actor = df.explode('actor')\n",
    "df_actor['actor'] = df_actor['actor'].str.strip()\n",
    "\n",
    "# Filter for Jim Cummings and drop duplicates based on title\n",
    "jim_cummings_titles = df_actor[df_actor['actor'] == 'Jim Cummings']['title'].drop_duplicates()\n",
    "\n",
    "print(\"Unique titles with Jim Cummings:\", len(jim_cummings_titles))"
   ]
  },
  {
   "cell_type": "markdown",
   "id": "3a9d388a-6cf2-4171-810c-2ab1799934fd",
   "metadata": {},
   "source": [
    "#### 5)Top Directors"
   ]
  },
  {
   "cell_type": "code",
   "execution_count": 31,
   "id": "97564333-12fb-4c95-91e5-5f52e9b865fa",
   "metadata": {},
   "outputs": [
    {
     "name": "stdout",
     "output_type": "stream",
     "text": [
      "Top 5 Directors in Disney+ Dataset:\n",
      "Paul Hoen: 252 titles\n",
      "Robert Stevenson: 219 titles\n",
      "John Lasseter: 183 titles\n",
      "Vincent McEveety: 168 titles\n",
      "Clyde Geronimi: 165 titles\n"
     ]
    }
   ],
   "source": [
    "from collections import Counter\n",
    "\n",
    "# Drop nulls and exclude 'Unknown'\n",
    "clean_directors = df['director'].dropna()\n",
    "clean_directors = clean_directors[~clean_directors.str.contains('Unknown', case=False)]\n",
    "\n",
    "# Split and flatten\n",
    "directors_split = clean_directors.str.split(', ')\n",
    "flat_directors = [director for sublist in directors_split for director in sublist]\n",
    "\n",
    "# Count top 5\n",
    "top_5_directors = Counter(flat_directors).most_common(5)\n",
    "\n",
    "# Display result\n",
    "print(\"Top 5 Directors in Disney+ Dataset:\")\n",
    "for director, count in top_5_directors:\n",
    "    print(f\"{director}: {count} titles\")"
   ]
  },
  {
   "cell_type": "markdown",
   "id": "d4e0be91-a453-4030-a6cf-034aad75d381",
   "metadata": {},
   "source": [
    "#### 6)Genre Popularity"
   ]
  },
  {
   "cell_type": "code",
   "execution_count": 33,
   "id": "c1a93bcc-05e7-400a-b6a1-b3a684bb5eb5",
   "metadata": {},
   "outputs": [
    {
     "name": "stdout",
     "output_type": "stream",
     "text": [
      "Top 10 Genres:\n",
      "Comedy: 2584 titles\n",
      "Family: 2545 titles\n",
      "Action-Adventure: 2359 titles\n",
      "Animation: 2258 titles\n",
      "Coming of Age: 1166 titles\n",
      "Fantasy: 1030 titles\n",
      "Drama: 764 titles\n",
      "Kids: 587 titles\n",
      "Science Fiction: 488 titles\n",
      "Animals & Nature: 450 titles\n"
     ]
    }
   ],
   "source": [
    "from collections import Counter\n",
    "\n",
    "# Drop missing values and split genres\n",
    "genres = df['genre'].dropna().str.split(', ')\n",
    "flat_genres = [genre.strip() for sublist in genres for genre in sublist]\n",
    "\n",
    "# Count and get top 10 genres\n",
    "genre_count = Counter(flat_genres).most_common(10)\n",
    "\n",
    "# Display result\n",
    "print(\"Top 10 Genres:\")\n",
    "for genre, count in genre_count:\n",
    "    print(f\"{genre}: {count} titles\")\n"
   ]
  },
  {
   "cell_type": "code",
   "execution_count": 34,
   "id": "014344ec-9f0a-474f-b7a0-8f0d320ec689",
   "metadata": {},
   "outputs": [],
   "source": [
    "df.to_csv(\"cleaned_disney+_data.csv\", index=False)"
   ]
  },
  {
   "cell_type": "code",
   "execution_count": null,
   "id": "1890cf55-5943-4790-89ba-e9a9fca2a599",
   "metadata": {},
   "outputs": [],
   "source": []
  }
 ],
 "metadata": {
  "kernelspec": {
   "display_name": "Python 3 (ipykernel)",
   "language": "python",
   "name": "python3"
  },
  "language_info": {
   "codemirror_mode": {
    "name": "ipython",
    "version": 3
   },
   "file_extension": ".py",
   "mimetype": "text/x-python",
   "name": "python",
   "nbconvert_exporter": "python",
   "pygments_lexer": "ipython3",
   "version": "3.10.11"
  }
 },
 "nbformat": 4,
 "nbformat_minor": 5
}
