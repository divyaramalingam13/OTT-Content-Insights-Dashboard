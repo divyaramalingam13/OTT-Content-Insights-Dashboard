{
 "cells": [
  {
   "cell_type": "markdown",
   "id": "0a360515-d29b-4b59-8872-78c1579095ee",
   "metadata": {},
   "source": [
    "# 📊 Analysis of Amazon Prime platform"
   ]
  },
  {
   "cell_type": "markdown",
   "id": "e7f663be-16cf-4862-84e7-809882810476",
   "metadata": {},
   "source": [
    "## Import Libraries"
   ]
  },
  {
   "cell_type": "code",
   "execution_count": 1,
   "id": "2ffcbb97-bd2b-43a3-946e-9a598d8e0d27",
   "metadata": {},
   "outputs": [],
   "source": [
    "import pandas as pd"
   ]
  },
  {
   "cell_type": "markdown",
   "id": "c0428a8f-7ef3-4ede-8525-6d7826898ed9",
   "metadata": {},
   "source": [
    "## Load dataset"
   ]
  },
  {
   "cell_type": "code",
   "execution_count": 2,
   "id": "cb764688-a9d7-45c8-8be7-e58adb46a218",
   "metadata": {},
   "outputs": [],
   "source": [
    "df=pd.read_csv(r\"E:\\Project OTT\\amazon_prime_titles.csv\")"
   ]
  },
  {
   "cell_type": "markdown",
   "id": "0e9f746c-ceab-49f8-8209-c54e4e272062",
   "metadata": {},
   "source": [
    "## Inspect Data"
   ]
  },
  {
   "cell_type": "code",
   "execution_count": 3,
   "id": "bf7baaf9-2717-4964-9b19-f13380e079bc",
   "metadata": {},
   "outputs": [
    {
     "name": "stdout",
     "output_type": "stream",
     "text": [
      "<class 'pandas.core.frame.DataFrame'>\n",
      "RangeIndex: 9667 entries, 0 to 9666\n",
      "Data columns (total 12 columns):\n",
      " #   Column        Non-Null Count  Dtype \n",
      "---  ------        --------------  ----- \n",
      " 0   show_id       9667 non-null   object\n",
      " 1   type          9667 non-null   object\n",
      " 2   title         9666 non-null   object\n",
      " 3   director      7567 non-null   object\n",
      " 4   cast          8395 non-null   object\n",
      " 5   country       671 non-null    object\n",
      " 6   date_added    154 non-null    object\n",
      " 7   release_year  9667 non-null   int64 \n",
      " 8   rating        9331 non-null   object\n",
      " 9   duration      9667 non-null   object\n",
      " 10  listed_in     9667 non-null   object\n",
      " 11  description   9647 non-null   object\n",
      "dtypes: int64(1), object(11)\n",
      "memory usage: 906.4+ KB\n"
     ]
    }
   ],
   "source": [
    "df.head()\n",
    "df.info()"
   ]
  },
  {
   "cell_type": "markdown",
   "id": "185ff801-4363-4b6c-b913-4b5a4327d175",
   "metadata": {},
   "source": [
    "We need to check the data type and Null values"
   ]
  },
  {
   "cell_type": "code",
   "execution_count": 4,
   "id": "15471f9b-accc-46dc-82bb-c1b869b5a691",
   "metadata": {},
   "outputs": [
    {
     "data": {
      "text/plain": [
       "show_id            0\n",
       "type               0\n",
       "title              1\n",
       "director        2100\n",
       "cast            1272\n",
       "country         8996\n",
       "date_added      9513\n",
       "release_year       0\n",
       "rating           336\n",
       "duration           0\n",
       "listed_in          0\n",
       "description       20\n",
       "dtype: int64"
      ]
     },
     "execution_count": 4,
     "metadata": {},
     "output_type": "execute_result"
    }
   ],
   "source": [
    "df.isnull().sum()"
   ]
  },
  {
   "cell_type": "code",
   "execution_count": 5,
   "id": "48db0d2d-1f7b-47aa-a0ed-ec0d2de84d02",
   "metadata": {},
   "outputs": [],
   "source": [
    "df['title'] = df['title'].fillna('Unknown')\n",
    "df['director'] = df['director'].fillna('Unknown')\n",
    "df['cast'] = df['cast'].fillna('Unknown')\n",
    "df['duration'] = df['duration'].fillna(0)\n",
    "df['rating'] = df['rating'].fillna('NR')\n",
    "df['country']=df['country'].fillna('Unknown')\n",
    "df['description']=df['description'].fillna('Unknown')\n"
   ]
  },
  {
   "cell_type": "code",
   "execution_count": 6,
   "id": "b5f7bf24-0bff-4b8e-897c-2b5d6f7500b7",
   "metadata": {},
   "outputs": [
    {
     "data": {
      "text/plain": [
       "show_id            0\n",
       "type               0\n",
       "title              0\n",
       "director           0\n",
       "cast               0\n",
       "country            0\n",
       "date_added      9513\n",
       "release_year       0\n",
       "rating             0\n",
       "duration           0\n",
       "listed_in          0\n",
       "description        0\n",
       "dtype: int64"
      ]
     },
     "execution_count": 6,
     "metadata": {},
     "output_type": "execute_result"
    }
   ],
   "source": [
    "df.isnull().sum()"
   ]
  },
  {
   "cell_type": "markdown",
   "id": "0161a873-39ea-4b5a-bd1e-f43a318022f4",
   "metadata": {},
   "source": [
    "The [date_added] column have 95% null values , So I'm dropping that column"
   ]
  },
  {
   "cell_type": "code",
   "execution_count": 7,
   "id": "9db22df7-3735-4e2e-b42d-aa8cdbfd959a",
   "metadata": {},
   "outputs": [],
   "source": [
    "df = df.drop('date_added', axis=1)"
   ]
  },
  {
   "cell_type": "markdown",
   "id": "b2712e3a-0e31-46df-8356-6b44c6f5a1d0",
   "metadata": {},
   "source": [
    "## Check the Datatype"
   ]
  },
  {
   "cell_type": "code",
   "execution_count": 8,
   "id": "3221220e-d54a-4472-9648-bb485a1345b6",
   "metadata": {},
   "outputs": [
    {
     "name": "stdout",
     "output_type": "stream",
     "text": [
      "<class 'pandas.core.frame.DataFrame'>\n",
      "RangeIndex: 9667 entries, 0 to 9666\n",
      "Data columns (total 11 columns):\n",
      " #   Column        Non-Null Count  Dtype \n",
      "---  ------        --------------  ----- \n",
      " 0   show_id       9667 non-null   object\n",
      " 1   type          9667 non-null   object\n",
      " 2   title         9667 non-null   object\n",
      " 3   director      9667 non-null   object\n",
      " 4   cast          9667 non-null   object\n",
      " 5   country       9667 non-null   object\n",
      " 6   release_year  9667 non-null   int64 \n",
      " 7   rating        9667 non-null   object\n",
      " 8   duration      9667 non-null   object\n",
      " 9   listed_in     9667 non-null   object\n",
      " 10  description   9667 non-null   object\n",
      "dtypes: int64(1), object(10)\n",
      "memory usage: 830.9+ KB\n"
     ]
    }
   ],
   "source": [
    "df.info()"
   ]
  },
  {
   "cell_type": "code",
   "execution_count": 9,
   "id": "3985a3c3-6c76-47db-b328-53dae9694b3f",
   "metadata": {},
   "outputs": [],
   "source": [
    "#### Split the Listed_in and cast column"
   ]
  },
  {
   "cell_type": "code",
   "execution_count": 10,
   "id": "93282dff-da59-4f3b-ac18-e289a444752d",
   "metadata": {},
   "outputs": [],
   "source": [
    "df_cast = df[['title', 'cast']].dropna().copy()\n",
    "\n",
    "# Split cast string by comma and explode to rows\n",
    "df_cast['cast'] = df_cast['cast'].str.split(', ')\n",
    "df_cast = df_cast.explode('cast')\n",
    "\n",
    "# Remove 'unknown' or any empty values\n",
    "df_cast['cast'] = df_cast['cast'].str.strip()\n",
    "df_cast = df_cast[df_cast['cast'].str.lower() != 'unknown']\n",
    "df_cast = df_cast[df_cast['cast'] != '']\n",
    "\n",
    "# remove duplicates\n",
    "df_cast.drop_duplicates(inplace=True)\n",
    "\n",
    "df_genres = df[['title', 'listed_in']].dropna().copy()\n",
    "\n",
    "# Split genre string and explode\n",
    "df_genres['genre'] = df_genres['listed_in'].str.split(', ')\n",
    "df_genres = df_genres.explode('genre')\n",
    "\n",
    "# Clean genre column\n",
    "df_genres['genre'] = df_genres['genre'].str.strip()\n",
    "df_genres = df_genres[df_genres['genre'].str.lower() != 'unknown']\n",
    "df_genres = df_genres[df_genres['genre'] != '']\n",
    "\n",
    "# drop duplicates\n",
    "df_genres.drop_duplicates(inplace=True)\n",
    "\n",
    "df = df.dropna(subset=['listed_in']).copy()\n",
    "df['genre'] = df['listed_in'].str.split(', ')\n",
    "df = df.explode('genre')\n",
    "df['genre'] = df['genre'].str.strip()\n",
    "df = df.dropna(subset=['cast']).copy()\n",
    "df['actor'] = df['cast'].str.split(', ')\n",
    "df = df.explode('actor')\n",
    "df['actor'] = df['actor'].str.strip()"
   ]
  },
  {
   "cell_type": "code",
   "execution_count": 11,
   "id": "1020d6ce-f60c-4c3d-9c27-1d9e672efd6d",
   "metadata": {},
   "outputs": [
    {
     "data": {
      "text/html": [
       "<div>\n",
       "<style scoped>\n",
       "    .dataframe tbody tr th:only-of-type {\n",
       "        vertical-align: middle;\n",
       "    }\n",
       "\n",
       "    .dataframe tbody tr th {\n",
       "        vertical-align: top;\n",
       "    }\n",
       "\n",
       "    .dataframe thead th {\n",
       "        text-align: right;\n",
       "    }\n",
       "</style>\n",
       "<table border=\"1\" class=\"dataframe\">\n",
       "  <thead>\n",
       "    <tr style=\"text-align: right;\">\n",
       "      <th></th>\n",
       "      <th>show_id</th>\n",
       "      <th>type</th>\n",
       "      <th>title</th>\n",
       "      <th>director</th>\n",
       "      <th>cast</th>\n",
       "      <th>country</th>\n",
       "      <th>release_year</th>\n",
       "      <th>rating</th>\n",
       "      <th>duration</th>\n",
       "      <th>listed_in</th>\n",
       "      <th>description</th>\n",
       "      <th>genre</th>\n",
       "      <th>actor</th>\n",
       "    </tr>\n",
       "  </thead>\n",
       "  <tbody>\n",
       "    <tr>\n",
       "      <th>0</th>\n",
       "      <td>s10</td>\n",
       "      <td>Movie</td>\n",
       "      <td>David's Mother</td>\n",
       "      <td>Robert Allan Ackerman</td>\n",
       "      <td>Kirstie Alley, Sam Waterston, Stockard Channing</td>\n",
       "      <td>United States</td>\n",
       "      <td>1994</td>\n",
       "      <td>NR</td>\n",
       "      <td>92 min</td>\n",
       "      <td>Drama</td>\n",
       "      <td>Sally Goodson is a devoted mother to her autis...</td>\n",
       "      <td>Drama</td>\n",
       "      <td>Kirstie Alley</td>\n",
       "    </tr>\n",
       "    <tr>\n",
       "      <th>0</th>\n",
       "      <td>s10</td>\n",
       "      <td>Movie</td>\n",
       "      <td>David's Mother</td>\n",
       "      <td>Robert Allan Ackerman</td>\n",
       "      <td>Kirstie Alley, Sam Waterston, Stockard Channing</td>\n",
       "      <td>United States</td>\n",
       "      <td>1994</td>\n",
       "      <td>NR</td>\n",
       "      <td>92 min</td>\n",
       "      <td>Drama</td>\n",
       "      <td>Sally Goodson is a devoted mother to her autis...</td>\n",
       "      <td>Drama</td>\n",
       "      <td>Sam Waterston</td>\n",
       "    </tr>\n",
       "    <tr>\n",
       "      <th>0</th>\n",
       "      <td>s10</td>\n",
       "      <td>Movie</td>\n",
       "      <td>David's Mother</td>\n",
       "      <td>Robert Allan Ackerman</td>\n",
       "      <td>Kirstie Alley, Sam Waterston, Stockard Channing</td>\n",
       "      <td>United States</td>\n",
       "      <td>1994</td>\n",
       "      <td>NR</td>\n",
       "      <td>92 min</td>\n",
       "      <td>Drama</td>\n",
       "      <td>Sally Goodson is a devoted mother to her autis...</td>\n",
       "      <td>Drama</td>\n",
       "      <td>Stockard Channing</td>\n",
       "    </tr>\n",
       "    <tr>\n",
       "      <th>1</th>\n",
       "      <td>s100</td>\n",
       "      <td>Movie</td>\n",
       "      <td>Wilder Napalm</td>\n",
       "      <td>Glenn Gordon Caron</td>\n",
       "      <td>Debra Winger, Dennis Quaid, Arliss Howard, M. ...</td>\n",
       "      <td>Unknown</td>\n",
       "      <td>1993</td>\n",
       "      <td>PG-13</td>\n",
       "      <td>109 min</td>\n",
       "      <td>Comedy, Science Fiction</td>\n",
       "      <td>Two brothers with the secret power of starting...</td>\n",
       "      <td>Comedy</td>\n",
       "      <td>Debra Winger</td>\n",
       "    </tr>\n",
       "    <tr>\n",
       "      <th>1</th>\n",
       "      <td>s100</td>\n",
       "      <td>Movie</td>\n",
       "      <td>Wilder Napalm</td>\n",
       "      <td>Glenn Gordon Caron</td>\n",
       "      <td>Debra Winger, Dennis Quaid, Arliss Howard, M. ...</td>\n",
       "      <td>Unknown</td>\n",
       "      <td>1993</td>\n",
       "      <td>PG-13</td>\n",
       "      <td>109 min</td>\n",
       "      <td>Comedy, Science Fiction</td>\n",
       "      <td>Two brothers with the secret power of starting...</td>\n",
       "      <td>Comedy</td>\n",
       "      <td>Dennis Quaid</td>\n",
       "    </tr>\n",
       "  </tbody>\n",
       "</table>\n",
       "</div>"
      ],
      "text/plain": [
       "  show_id   type           title               director  \\\n",
       "0     s10  Movie  David's Mother  Robert Allan Ackerman   \n",
       "0     s10  Movie  David's Mother  Robert Allan Ackerman   \n",
       "0     s10  Movie  David's Mother  Robert Allan Ackerman   \n",
       "1    s100  Movie   Wilder Napalm     Glenn Gordon Caron   \n",
       "1    s100  Movie   Wilder Napalm     Glenn Gordon Caron   \n",
       "\n",
       "                                                cast        country  \\\n",
       "0    Kirstie Alley, Sam Waterston, Stockard Channing  United States   \n",
       "0    Kirstie Alley, Sam Waterston, Stockard Channing  United States   \n",
       "0    Kirstie Alley, Sam Waterston, Stockard Channing  United States   \n",
       "1  Debra Winger, Dennis Quaid, Arliss Howard, M. ...        Unknown   \n",
       "1  Debra Winger, Dennis Quaid, Arliss Howard, M. ...        Unknown   \n",
       "\n",
       "   release_year rating duration                listed_in  \\\n",
       "0          1994     NR   92 min                    Drama   \n",
       "0          1994     NR   92 min                    Drama   \n",
       "0          1994     NR   92 min                    Drama   \n",
       "1          1993  PG-13  109 min  Comedy, Science Fiction   \n",
       "1          1993  PG-13  109 min  Comedy, Science Fiction   \n",
       "\n",
       "                                         description   genre  \\\n",
       "0  Sally Goodson is a devoted mother to her autis...   Drama   \n",
       "0  Sally Goodson is a devoted mother to her autis...   Drama   \n",
       "0  Sally Goodson is a devoted mother to her autis...   Drama   \n",
       "1  Two brothers with the secret power of starting...  Comedy   \n",
       "1  Two brothers with the secret power of starting...  Comedy   \n",
       "\n",
       "               actor  \n",
       "0      Kirstie Alley  \n",
       "0      Sam Waterston  \n",
       "0  Stockard Channing  \n",
       "1       Debra Winger  \n",
       "1       Dennis Quaid  "
      ]
     },
     "execution_count": 11,
     "metadata": {},
     "output_type": "execute_result"
    }
   ],
   "source": [
    "df.head()"
   ]
  },
  {
   "cell_type": "markdown",
   "id": "98558737-a58c-4f5c-842e-94994cb55d92",
   "metadata": {},
   "source": [
    "## Download Data for comparative analysis"
   ]
  },
  {
   "cell_type": "code",
   "execution_count": 12,
   "id": "4da1d962-7318-4aed-ae12-1bfd5b7eef0e",
   "metadata": {},
   "outputs": [],
   "source": [
    "df.to_csv('Amazon_Prime.csv', index=False)"
   ]
  },
  {
   "cell_type": "markdown",
   "id": "1284af1f-0108-4e60-bed1-ada84c12b098",
   "metadata": {},
   "source": [
    "## Exploratory Analysis for Amazon Prime"
   ]
  },
  {
   "cell_type": "markdown",
   "id": "3c80b047-feb6-4e37-9f93-e7e59960ee0c",
   "metadata": {},
   "source": [
    "#### Count of Movies vs TV Shows"
   ]
  },
  {
   "cell_type": "code",
   "execution_count": 13,
   "id": "b8f3ce20-a755-46c6-a13c-a7a569379d70",
   "metadata": {},
   "outputs": [
    {
     "data": {
      "text/plain": [
       "type\n",
       "Movie      74210\n",
       "TV Show    12833\n",
       "Name: count, dtype: int64"
      ]
     },
     "execution_count": 13,
     "metadata": {},
     "output_type": "execute_result"
    }
   ],
   "source": [
    "df['type'].value_counts()"
   ]
  },
  {
   "cell_type": "markdown",
   "id": "9d3c8f11-f943-4af9-9397-b5e8179b27bc",
   "metadata": {},
   "source": [
    "#### #% of Movies vs TV Shows"
   ]
  },
  {
   "cell_type": "code",
   "execution_count": 14,
   "id": "0c3050af-b191-4e2f-b563-ae52e99bf659",
   "metadata": {},
   "outputs": [
    {
     "data": {
      "text/plain": [
       "type\n",
       "Movie      85.256712\n",
       "TV Show    14.743288\n",
       "Name: proportion, dtype: float64"
      ]
     },
     "execution_count": 14,
     "metadata": {},
     "output_type": "execute_result"
    }
   ],
   "source": [
    "df['type'].value_counts(normalize=True) * 100"
   ]
  },
  {
   "cell_type": "markdown",
   "id": "21538e70-e768-4c12-9541-4f0e26cfe108",
   "metadata": {},
   "source": [
    "#### Most Released Type in the Latest Year"
   ]
  },
  {
   "cell_type": "code",
   "execution_count": 15,
   "id": "a5ca3544-ffbb-4bfc-8a01-50d1f2386c6a",
   "metadata": {},
   "outputs": [
    {
     "data": {
      "text/plain": [
       "type\n",
       "Movie      11090\n",
       "TV Show     2545\n",
       "Name: count, dtype: int64"
      ]
     },
     "execution_count": 15,
     "metadata": {},
     "output_type": "execute_result"
    }
   ],
   "source": [
    "latest_year = df['release_year'].max()\n",
    "df[df['release_year'] == latest_year]['type'].value_counts()"
   ]
  },
  {
   "cell_type": "markdown",
   "id": "15669a15-97dc-4c01-9e54-a354883e6b42",
   "metadata": {},
   "source": [
    "#### Count of Each Rating"
   ]
  },
  {
   "cell_type": "code",
   "execution_count": 16,
   "id": "b0c13563-ba7f-4f50-9128-ae735e278430",
   "metadata": {},
   "outputs": [
    {
     "data": {
      "text/plain": [
       "rating\n",
       "13+         21544\n",
       "16+         14422\n",
       "18+         11950\n",
       "R           11009\n",
       "ALL          6519\n",
       "PG-13        5543\n",
       "NR           4043\n",
       "PG           3369\n",
       "7+           2933\n",
       "TV-14        1239\n",
       "TV-PG         828\n",
       "G             768\n",
       "TV-MA         721\n",
       "TV-G          593\n",
       "TV-NR         514\n",
       "TV-Y          395\n",
       "TV-Y7         301\n",
       "UNRATED       237\n",
       "AGES_18_       43\n",
       "AGES_16_       33\n",
       "NOT_RATE       22\n",
       "NC-17          13\n",
       "16              3\n",
       "ALL_AGES        1\n",
       "Name: count, dtype: int64"
      ]
     },
     "execution_count": 16,
     "metadata": {},
     "output_type": "execute_result"
    }
   ],
   "source": [
    "df['rating'].value_counts()"
   ]
  },
  {
   "cell_type": "markdown",
   "id": "bc5e704f-01ca-47da-993e-d68d1c657068",
   "metadata": {},
   "source": [
    "#### Rating Distribution by Content Type"
   ]
  },
  {
   "cell_type": "code",
   "execution_count": 17,
   "id": "90643415-7633-4ed4-bcd4-65bab4fc4211",
   "metadata": {},
   "outputs": [
    {
     "data": {
      "text/plain": [
       "type     rating  \n",
       "Movie    13+         19441\n",
       "         16+         11470\n",
       "         R           11009\n",
       "         18+         10466\n",
       "         ALL          5586\n",
       "         PG-13        5543\n",
       "         NR           3811\n",
       "         PG           3369\n",
       "         7+           2395\n",
       "         G             768\n",
       "         UNRATED       237\n",
       "         AGES_18_       43\n",
       "         AGES_16_       33\n",
       "         NOT_RATE       22\n",
       "         NC-17          13\n",
       "         16              3\n",
       "         ALL_AGES        1\n",
       "TV Show  16+          2952\n",
       "         13+          2103\n",
       "         18+          1484\n",
       "         TV-14        1239\n",
       "         ALL           933\n",
       "         TV-PG         828\n",
       "         TV-MA         721\n",
       "         TV-G          593\n",
       "         7+            538\n",
       "         TV-NR         514\n",
       "         TV-Y          395\n",
       "         TV-Y7         301\n",
       "         NR            232\n",
       "Name: count, dtype: int64"
      ]
     },
     "execution_count": 17,
     "metadata": {},
     "output_type": "execute_result"
    }
   ],
   "source": [
    "df.groupby('type')['rating'].value_counts()"
   ]
  },
  {
   "cell_type": "markdown",
   "id": "e4bdb0cf-ad8b-426e-86f3-fe5a9a554310",
   "metadata": {},
   "source": [
    "#### Average movie duration"
   ]
  },
  {
   "cell_type": "code",
   "execution_count": 18,
   "id": "ad45c672-aab9-4db4-a95f-c59354fd5a9e",
   "metadata": {},
   "outputs": [
    {
     "name": "stdout",
     "output_type": "stream",
     "text": [
      "Average Movie duration is: 98\n"
     ]
    }
   ],
   "source": [
    "# Step-1: Separate Movies and TV Shows \n",
    "movies = df[df['type'] == 'Movie']\n",
    "tv_shows = df[df['type'] == 'TV Show']\n",
    "\n",
    "#Step-2: Extract duration in minutes for movie\n",
    "movies = df[df['type'] == 'Movie'].copy()\n",
    "movies['duration_minutes'] = movies['duration'].str.extract('(\\d+)')\n",
    "movies['duration_minutes'] = movies['duration_minutes'].astype(float)\n",
    "\n",
    "#Step-3: Print the average movie duration\n",
    "print(\"Average Movie duration is:\", int(movies['duration_minutes'].mean()))"
   ]
  },
  {
   "cell_type": "markdown",
   "id": "ff5d2ebc-52d6-46f5-a95b-6efcf155cd28",
   "metadata": {},
   "source": [
    "#### Top 5 Most Common Genres"
   ]
  },
  {
   "cell_type": "code",
   "execution_count": 19,
   "id": "abdb85cb-d5ef-4e48-8137-3dff7f649b8c",
   "metadata": {},
   "outputs": [
    {
     "data": {
      "text/plain": [
       "genre\n",
       "Drama       21135\n",
       "Comedy      11224\n",
       "Action       9086\n",
       "Suspense     8660\n",
       "Horror       4316\n",
       "Name: count, dtype: int64"
      ]
     },
     "execution_count": 19,
     "metadata": {},
     "output_type": "execute_result"
    }
   ],
   "source": [
    "df['genre'].value_counts().head(5)"
   ]
  },
  {
   "cell_type": "markdown",
   "id": "ae0a3c92-110f-4bf5-bb14-4f4341346fe6",
   "metadata": {},
   "source": [
    "#### Genre per Content Type\n"
   ]
  },
  {
   "cell_type": "code",
   "execution_count": 20,
   "id": "5cb025a6-8e1c-411b-9bea-b39d5a8df627",
   "metadata": {},
   "outputs": [
    {
     "data": {
      "text/plain": [
       "type   genre           \n",
       "Movie  Drama               18439\n",
       "       Comedy               9819\n",
       "       Action               8389\n",
       "       Suspense             7945\n",
       "       Horror               4197\n",
       "       Romance              3276\n",
       "       Documentary          2292\n",
       "       Kids                 2208\n",
       "       Science Fiction      2186\n",
       "       Special Interest     1842\n",
       "Name: count, dtype: int64"
      ]
     },
     "execution_count": 20,
     "metadata": {},
     "output_type": "execute_result"
    }
   ],
   "source": [
    "df.groupby('type')['genre'].value_counts().head(10)"
   ]
  },
  {
   "cell_type": "markdown",
   "id": "ece3afcf-4fc8-4ff1-83fe-b438fa828ac8",
   "metadata": {},
   "source": [
    "#### Most common actors in the platform"
   ]
  },
  {
   "cell_type": "code",
   "execution_count": 21,
   "id": "a19fd847-6951-4145-a404-985b5198cc7b",
   "metadata": {},
   "outputs": [
    {
     "data": {
      "text/plain": [
       "[('Cassandra Peterson', 59),\n",
       " ('Maggie Binkley', 57),\n",
       " ('Ph.D.', 53),\n",
       " ('Gene Autry', 52),\n",
       " ('Prakash Raj', 52)]"
      ]
     },
     "execution_count": 21,
     "metadata": {},
     "output_type": "execute_result"
    }
   ],
   "source": [
    "#Step-1: split and flatten the cast column\n",
    "from collections import Counter\n",
    "all_cast = df['actor'].dropna().str.split(', ')\n",
    "flat_cast = [actor for sublist in all_cast for actor in sublist]\n",
    "\n",
    "#Step-2: Count the actors\n",
    "filtered_cast = [actor for actor in flat_cast if actor.lower() != 'unknown']\n",
    "cast_count = Counter(filtered_cast)\n",
    "cast_count.most_common(5)"
   ]
  },
  {
   "cell_type": "markdown",
   "id": "d2bbedf4-ab38-41c9-a416-c39315dacd66",
   "metadata": {},
   "source": [
    "#### Content by specific actor"
   ]
  },
  {
   "cell_type": "code",
   "execution_count": 22,
   "id": "f77343d3-508e-4286-90d8-90728309c120",
   "metadata": {},
   "outputs": [
    {
     "data": {
      "text/html": [
       "<div>\n",
       "<style scoped>\n",
       "    .dataframe tbody tr th:only-of-type {\n",
       "        vertical-align: middle;\n",
       "    }\n",
       "\n",
       "    .dataframe tbody tr th {\n",
       "        vertical-align: top;\n",
       "    }\n",
       "\n",
       "    .dataframe thead th {\n",
       "        text-align: right;\n",
       "    }\n",
       "</style>\n",
       "<table border=\"1\" class=\"dataframe\">\n",
       "  <thead>\n",
       "    <tr style=\"text-align: right;\">\n",
       "      <th></th>\n",
       "      <th>show_id</th>\n",
       "      <th>type</th>\n",
       "      <th>title</th>\n",
       "      <th>director</th>\n",
       "      <th>cast</th>\n",
       "      <th>country</th>\n",
       "      <th>release_year</th>\n",
       "      <th>rating</th>\n",
       "      <th>duration</th>\n",
       "      <th>listed_in</th>\n",
       "      <th>description</th>\n",
       "      <th>genre</th>\n",
       "      <th>actor</th>\n",
       "    </tr>\n",
       "  </thead>\n",
       "  <tbody>\n",
       "    <tr>\n",
       "      <th>4726</th>\n",
       "      <td>s5253</td>\n",
       "      <td>Movie</td>\n",
       "      <td>Rab Ne Bana Di Jodi</td>\n",
       "      <td>Aditya Chopra</td>\n",
       "      <td>Shah Rukh Khan, Anushka Sharma, Rani Mukerji, ...</td>\n",
       "      <td>India</td>\n",
       "      <td>2008</td>\n",
       "      <td>ALL</td>\n",
       "      <td>164 min</td>\n",
       "      <td>Drama, International, Romance</td>\n",
       "      <td>This is a story of Surinder Sahni (Shahrukh Kh...</td>\n",
       "      <td>Drama</td>\n",
       "      <td>Shah Rukh Khan</td>\n",
       "    </tr>\n",
       "    <tr>\n",
       "      <th>4726</th>\n",
       "      <td>s5253</td>\n",
       "      <td>Movie</td>\n",
       "      <td>Rab Ne Bana Di Jodi</td>\n",
       "      <td>Aditya Chopra</td>\n",
       "      <td>Shah Rukh Khan, Anushka Sharma, Rani Mukerji, ...</td>\n",
       "      <td>India</td>\n",
       "      <td>2008</td>\n",
       "      <td>ALL</td>\n",
       "      <td>164 min</td>\n",
       "      <td>Drama, International, Romance</td>\n",
       "      <td>This is a story of Surinder Sahni (Shahrukh Kh...</td>\n",
       "      <td>International</td>\n",
       "      <td>Shah Rukh Khan</td>\n",
       "    </tr>\n",
       "    <tr>\n",
       "      <th>4726</th>\n",
       "      <td>s5253</td>\n",
       "      <td>Movie</td>\n",
       "      <td>Rab Ne Bana Di Jodi</td>\n",
       "      <td>Aditya Chopra</td>\n",
       "      <td>Shah Rukh Khan, Anushka Sharma, Rani Mukerji, ...</td>\n",
       "      <td>India</td>\n",
       "      <td>2008</td>\n",
       "      <td>ALL</td>\n",
       "      <td>164 min</td>\n",
       "      <td>Drama, International, Romance</td>\n",
       "      <td>This is a story of Surinder Sahni (Shahrukh Kh...</td>\n",
       "      <td>Romance</td>\n",
       "      <td>Shah Rukh Khan</td>\n",
       "    </tr>\n",
       "    <tr>\n",
       "      <th>4749</th>\n",
       "      <td>s5274</td>\n",
       "      <td>Movie</td>\n",
       "      <td>Kal Ho Naa Ho</td>\n",
       "      <td>Nikkhil Advani</td>\n",
       "      <td>Shah Rukh Khan, Preity Zinta, Saif Ali Khan, J...</td>\n",
       "      <td>India</td>\n",
       "      <td>2003</td>\n",
       "      <td>ALL</td>\n",
       "      <td>187 min</td>\n",
       "      <td>Comedy, Drama, International</td>\n",
       "      <td>Naina Kapur is a beautiful introvert and often...</td>\n",
       "      <td>Comedy</td>\n",
       "      <td>Shah Rukh Khan</td>\n",
       "    </tr>\n",
       "    <tr>\n",
       "      <th>4749</th>\n",
       "      <td>s5274</td>\n",
       "      <td>Movie</td>\n",
       "      <td>Kal Ho Naa Ho</td>\n",
       "      <td>Nikkhil Advani</td>\n",
       "      <td>Shah Rukh Khan, Preity Zinta, Saif Ali Khan, J...</td>\n",
       "      <td>India</td>\n",
       "      <td>2003</td>\n",
       "      <td>ALL</td>\n",
       "      <td>187 min</td>\n",
       "      <td>Comedy, Drama, International</td>\n",
       "      <td>Naina Kapur is a beautiful introvert and often...</td>\n",
       "      <td>Drama</td>\n",
       "      <td>Shah Rukh Khan</td>\n",
       "    </tr>\n",
       "    <tr>\n",
       "      <th>4749</th>\n",
       "      <td>s5274</td>\n",
       "      <td>Movie</td>\n",
       "      <td>Kal Ho Naa Ho</td>\n",
       "      <td>Nikkhil Advani</td>\n",
       "      <td>Shah Rukh Khan, Preity Zinta, Saif Ali Khan, J...</td>\n",
       "      <td>India</td>\n",
       "      <td>2003</td>\n",
       "      <td>ALL</td>\n",
       "      <td>187 min</td>\n",
       "      <td>Comedy, Drama, International</td>\n",
       "      <td>Naina Kapur is a beautiful introvert and often...</td>\n",
       "      <td>International</td>\n",
       "      <td>Shah Rukh Khan</td>\n",
       "    </tr>\n",
       "    <tr>\n",
       "      <th>4765</th>\n",
       "      <td>s5289</td>\n",
       "      <td>Movie</td>\n",
       "      <td>Fan</td>\n",
       "      <td>Maneesh Sharma</td>\n",
       "      <td>Shah Rukh Khan, Sayani Gupta, Shriya Pilgaonka...</td>\n",
       "      <td>India</td>\n",
       "      <td>2016</td>\n",
       "      <td>13+</td>\n",
       "      <td>138 min</td>\n",
       "      <td>Drama, International, Suspense</td>\n",
       "      <td>FAN is the story of Gaurav (Shah Rukh Khan) a ...</td>\n",
       "      <td>Drama</td>\n",
       "      <td>Shah Rukh Khan</td>\n",
       "    </tr>\n",
       "    <tr>\n",
       "      <th>4765</th>\n",
       "      <td>s5289</td>\n",
       "      <td>Movie</td>\n",
       "      <td>Fan</td>\n",
       "      <td>Maneesh Sharma</td>\n",
       "      <td>Shah Rukh Khan, Sayani Gupta, Shriya Pilgaonka...</td>\n",
       "      <td>India</td>\n",
       "      <td>2016</td>\n",
       "      <td>13+</td>\n",
       "      <td>138 min</td>\n",
       "      <td>Drama, International, Suspense</td>\n",
       "      <td>FAN is the story of Gaurav (Shah Rukh Khan) a ...</td>\n",
       "      <td>International</td>\n",
       "      <td>Shah Rukh Khan</td>\n",
       "    </tr>\n",
       "    <tr>\n",
       "      <th>4765</th>\n",
       "      <td>s5289</td>\n",
       "      <td>Movie</td>\n",
       "      <td>Fan</td>\n",
       "      <td>Maneesh Sharma</td>\n",
       "      <td>Shah Rukh Khan, Sayani Gupta, Shriya Pilgaonka...</td>\n",
       "      <td>India</td>\n",
       "      <td>2016</td>\n",
       "      <td>13+</td>\n",
       "      <td>138 min</td>\n",
       "      <td>Drama, International, Suspense</td>\n",
       "      <td>FAN is the story of Gaurav (Shah Rukh Khan) a ...</td>\n",
       "      <td>Suspense</td>\n",
       "      <td>Shah Rukh Khan</td>\n",
       "    </tr>\n",
       "    <tr>\n",
       "      <th>4767</th>\n",
       "      <td>s5290</td>\n",
       "      <td>Movie</td>\n",
       "      <td>Don</td>\n",
       "      <td>Farhan Akhtar</td>\n",
       "      <td>Shah Rukh Khan, Priyanka Chopra, Isha Koppikar...</td>\n",
       "      <td>Unknown</td>\n",
       "      <td>2006</td>\n",
       "      <td>NR</td>\n",
       "      <td>169 min</td>\n",
       "      <td>Action, Drama, International</td>\n",
       "      <td>This action-thriller is a remake of the well-k...</td>\n",
       "      <td>Action</td>\n",
       "      <td>Shah Rukh Khan</td>\n",
       "    </tr>\n",
       "    <tr>\n",
       "      <th>4767</th>\n",
       "      <td>s5290</td>\n",
       "      <td>Movie</td>\n",
       "      <td>Don</td>\n",
       "      <td>Farhan Akhtar</td>\n",
       "      <td>Shah Rukh Khan, Priyanka Chopra, Isha Koppikar...</td>\n",
       "      <td>Unknown</td>\n",
       "      <td>2006</td>\n",
       "      <td>NR</td>\n",
       "      <td>169 min</td>\n",
       "      <td>Action, Drama, International</td>\n",
       "      <td>This action-thriller is a remake of the well-k...</td>\n",
       "      <td>Drama</td>\n",
       "      <td>Shah Rukh Khan</td>\n",
       "    </tr>\n",
       "    <tr>\n",
       "      <th>4767</th>\n",
       "      <td>s5290</td>\n",
       "      <td>Movie</td>\n",
       "      <td>Don</td>\n",
       "      <td>Farhan Akhtar</td>\n",
       "      <td>Shah Rukh Khan, Priyanka Chopra, Isha Koppikar...</td>\n",
       "      <td>Unknown</td>\n",
       "      <td>2006</td>\n",
       "      <td>NR</td>\n",
       "      <td>169 min</td>\n",
       "      <td>Action, Drama, International</td>\n",
       "      <td>This action-thriller is a remake of the well-k...</td>\n",
       "      <td>International</td>\n",
       "      <td>Shah Rukh Khan</td>\n",
       "    </tr>\n",
       "    <tr>\n",
       "      <th>4768</th>\n",
       "      <td>s5291</td>\n",
       "      <td>Movie</td>\n",
       "      <td>Dilwale Dulhania Le Jayenge</td>\n",
       "      <td>Aditya Chopra</td>\n",
       "      <td>Shah Rukh Khan, Kajol, Amrish Puri, Farida Jal...</td>\n",
       "      <td>India</td>\n",
       "      <td>1995</td>\n",
       "      <td>7+</td>\n",
       "      <td>190 min</td>\n",
       "      <td>Romance</td>\n",
       "      <td>When Raj (Shahrukh Khan) &amp; Simran (Kajol) firs...</td>\n",
       "      <td>Romance</td>\n",
       "      <td>Shah Rukh Khan</td>\n",
       "    </tr>\n",
       "    <tr>\n",
       "      <th>4773</th>\n",
       "      <td>s5296</td>\n",
       "      <td>Movie</td>\n",
       "      <td>Darr</td>\n",
       "      <td>Yash Chopra</td>\n",
       "      <td>Shah Rukh Khan, Juhi Chawla, Sunny Deol</td>\n",
       "      <td>India</td>\n",
       "      <td>1993</td>\n",
       "      <td>13+</td>\n",
       "      <td>177 min</td>\n",
       "      <td>Drama, International, Suspense</td>\n",
       "      <td>DARR is Rahul’s (Shahrukh Khan) story whose lo...</td>\n",
       "      <td>Drama</td>\n",
       "      <td>Shah Rukh Khan</td>\n",
       "    </tr>\n",
       "    <tr>\n",
       "      <th>4773</th>\n",
       "      <td>s5296</td>\n",
       "      <td>Movie</td>\n",
       "      <td>Darr</td>\n",
       "      <td>Yash Chopra</td>\n",
       "      <td>Shah Rukh Khan, Juhi Chawla, Sunny Deol</td>\n",
       "      <td>India</td>\n",
       "      <td>1993</td>\n",
       "      <td>13+</td>\n",
       "      <td>177 min</td>\n",
       "      <td>Drama, International, Suspense</td>\n",
       "      <td>DARR is Rahul’s (Shahrukh Khan) story whose lo...</td>\n",
       "      <td>International</td>\n",
       "      <td>Shah Rukh Khan</td>\n",
       "    </tr>\n",
       "    <tr>\n",
       "      <th>4773</th>\n",
       "      <td>s5296</td>\n",
       "      <td>Movie</td>\n",
       "      <td>Darr</td>\n",
       "      <td>Yash Chopra</td>\n",
       "      <td>Shah Rukh Khan, Juhi Chawla, Sunny Deol</td>\n",
       "      <td>India</td>\n",
       "      <td>1993</td>\n",
       "      <td>13+</td>\n",
       "      <td>177 min</td>\n",
       "      <td>Drama, International, Suspense</td>\n",
       "      <td>DARR is Rahul’s (Shahrukh Khan) story whose lo...</td>\n",
       "      <td>Suspense</td>\n",
       "      <td>Shah Rukh Khan</td>\n",
       "    </tr>\n",
       "    <tr>\n",
       "      <th>4785</th>\n",
       "      <td>s5306</td>\n",
       "      <td>Movie</td>\n",
       "      <td>Ae Dil Hai Mushkil</td>\n",
       "      <td>Karan Johar</td>\n",
       "      <td>Aishwarya Rai Bachchan, Ranbir Kapoor, Anushka...</td>\n",
       "      <td>India</td>\n",
       "      <td>2016</td>\n",
       "      <td>13+</td>\n",
       "      <td>156 min</td>\n",
       "      <td>Drama, International, Romance</td>\n",
       "      <td>In this romantic drama, a popular singer Ayan ...</td>\n",
       "      <td>Drama</td>\n",
       "      <td>Shah Rukh Khan</td>\n",
       "    </tr>\n",
       "    <tr>\n",
       "      <th>4785</th>\n",
       "      <td>s5306</td>\n",
       "      <td>Movie</td>\n",
       "      <td>Ae Dil Hai Mushkil</td>\n",
       "      <td>Karan Johar</td>\n",
       "      <td>Aishwarya Rai Bachchan, Ranbir Kapoor, Anushka...</td>\n",
       "      <td>India</td>\n",
       "      <td>2016</td>\n",
       "      <td>13+</td>\n",
       "      <td>156 min</td>\n",
       "      <td>Drama, International, Romance</td>\n",
       "      <td>In this romantic drama, a popular singer Ayan ...</td>\n",
       "      <td>International</td>\n",
       "      <td>Shah Rukh Khan</td>\n",
       "    </tr>\n",
       "    <tr>\n",
       "      <th>4785</th>\n",
       "      <td>s5306</td>\n",
       "      <td>Movie</td>\n",
       "      <td>Ae Dil Hai Mushkil</td>\n",
       "      <td>Karan Johar</td>\n",
       "      <td>Aishwarya Rai Bachchan, Ranbir Kapoor, Anushka...</td>\n",
       "      <td>India</td>\n",
       "      <td>2016</td>\n",
       "      <td>13+</td>\n",
       "      <td>156 min</td>\n",
       "      <td>Drama, International, Romance</td>\n",
       "      <td>In this romantic drama, a popular singer Ayan ...</td>\n",
       "      <td>Romance</td>\n",
       "      <td>Shah Rukh Khan</td>\n",
       "    </tr>\n",
       "    <tr>\n",
       "      <th>5483</th>\n",
       "      <td>s5935</td>\n",
       "      <td>Movie</td>\n",
       "      <td>Kuch Kuch Hota Hai</td>\n",
       "      <td>Karan Johar</td>\n",
       "      <td>Shah Rukh Khan, Kajol, Rani Mukerji, Farida Ja...</td>\n",
       "      <td>India</td>\n",
       "      <td>1998</td>\n",
       "      <td>ALL</td>\n",
       "      <td>185 min</td>\n",
       "      <td>Comedy, Drama, Music Videos and Concerts</td>\n",
       "      <td>Kuch Kuch Hota Hai' is a Bollywood blockbuster...</td>\n",
       "      <td>Comedy</td>\n",
       "      <td>Shah Rukh Khan</td>\n",
       "    </tr>\n",
       "    <tr>\n",
       "      <th>5483</th>\n",
       "      <td>s5935</td>\n",
       "      <td>Movie</td>\n",
       "      <td>Kuch Kuch Hota Hai</td>\n",
       "      <td>Karan Johar</td>\n",
       "      <td>Shah Rukh Khan, Kajol, Rani Mukerji, Farida Ja...</td>\n",
       "      <td>India</td>\n",
       "      <td>1998</td>\n",
       "      <td>ALL</td>\n",
       "      <td>185 min</td>\n",
       "      <td>Comedy, Drama, Music Videos and Concerts</td>\n",
       "      <td>Kuch Kuch Hota Hai' is a Bollywood blockbuster...</td>\n",
       "      <td>Drama</td>\n",
       "      <td>Shah Rukh Khan</td>\n",
       "    </tr>\n",
       "    <tr>\n",
       "      <th>5483</th>\n",
       "      <td>s5935</td>\n",
       "      <td>Movie</td>\n",
       "      <td>Kuch Kuch Hota Hai</td>\n",
       "      <td>Karan Johar</td>\n",
       "      <td>Shah Rukh Khan, Kajol, Rani Mukerji, Farida Ja...</td>\n",
       "      <td>India</td>\n",
       "      <td>1998</td>\n",
       "      <td>ALL</td>\n",
       "      <td>185 min</td>\n",
       "      <td>Comedy, Drama, Music Videos and Concerts</td>\n",
       "      <td>Kuch Kuch Hota Hai' is a Bollywood blockbuster...</td>\n",
       "      <td>Music Videos and Concerts</td>\n",
       "      <td>Shah Rukh Khan</td>\n",
       "    </tr>\n",
       "    <tr>\n",
       "      <th>5489</th>\n",
       "      <td>s5940</td>\n",
       "      <td>Movie</td>\n",
       "      <td>Kabhi Khushi Kabhie Gham</td>\n",
       "      <td>Karan Johar</td>\n",
       "      <td>Amitabh Bachchan, Shah Rukh Khan, Hrithik Rosh...</td>\n",
       "      <td>India</td>\n",
       "      <td>2001</td>\n",
       "      <td>ALL</td>\n",
       "      <td>209 min</td>\n",
       "      <td>Drama, Romance</td>\n",
       "      <td>Yashvardhan Raichand is a snobbish man, he bre...</td>\n",
       "      <td>Drama</td>\n",
       "      <td>Shah Rukh Khan</td>\n",
       "    </tr>\n",
       "    <tr>\n",
       "      <th>5489</th>\n",
       "      <td>s5940</td>\n",
       "      <td>Movie</td>\n",
       "      <td>Kabhi Khushi Kabhie Gham</td>\n",
       "      <td>Karan Johar</td>\n",
       "      <td>Amitabh Bachchan, Shah Rukh Khan, Hrithik Rosh...</td>\n",
       "      <td>India</td>\n",
       "      <td>2001</td>\n",
       "      <td>ALL</td>\n",
       "      <td>209 min</td>\n",
       "      <td>Drama, Romance</td>\n",
       "      <td>Yashvardhan Raichand is a snobbish man, he bre...</td>\n",
       "      <td>Romance</td>\n",
       "      <td>Shah Rukh Khan</td>\n",
       "    </tr>\n",
       "    <tr>\n",
       "      <th>5490</th>\n",
       "      <td>s5941</td>\n",
       "      <td>Movie</td>\n",
       "      <td>Kabhi Alvida Naa Kehna</td>\n",
       "      <td>Karan Johar</td>\n",
       "      <td>Shah Rukh Khan, Rani Mukerji, Preity Zinta, Ab...</td>\n",
       "      <td>India</td>\n",
       "      <td>2006</td>\n",
       "      <td>13+</td>\n",
       "      <td>192 min</td>\n",
       "      <td>Romance</td>\n",
       "      <td>The movie sheds light on two suffocating marri...</td>\n",
       "      <td>Romance</td>\n",
       "      <td>Shah Rukh Khan</td>\n",
       "    </tr>\n",
       "    <tr>\n",
       "      <th>5508</th>\n",
       "      <td>s5958</td>\n",
       "      <td>Movie</td>\n",
       "      <td>Duplicate</td>\n",
       "      <td>Mahesh Bhatt</td>\n",
       "      <td>Shah Rukh Khan, Juhi Chawla, Sonali Bendre, Fa...</td>\n",
       "      <td>Unknown</td>\n",
       "      <td>1998</td>\n",
       "      <td>ALL</td>\n",
       "      <td>165 min</td>\n",
       "      <td>Comedy, Suspense</td>\n",
       "      <td>This movie stars Shahrukh Khan in a double rol...</td>\n",
       "      <td>Comedy</td>\n",
       "      <td>Shah Rukh Khan</td>\n",
       "    </tr>\n",
       "    <tr>\n",
       "      <th>5508</th>\n",
       "      <td>s5958</td>\n",
       "      <td>Movie</td>\n",
       "      <td>Duplicate</td>\n",
       "      <td>Mahesh Bhatt</td>\n",
       "      <td>Shah Rukh Khan, Juhi Chawla, Sonali Bendre, Fa...</td>\n",
       "      <td>Unknown</td>\n",
       "      <td>1998</td>\n",
       "      <td>ALL</td>\n",
       "      <td>165 min</td>\n",
       "      <td>Comedy, Suspense</td>\n",
       "      <td>This movie stars Shahrukh Khan in a double rol...</td>\n",
       "      <td>Suspense</td>\n",
       "      <td>Shah Rukh Khan</td>\n",
       "    </tr>\n",
       "  </tbody>\n",
       "</table>\n",
       "</div>"
      ],
      "text/plain": [
       "     show_id   type                        title        director  \\\n",
       "4726   s5253  Movie          Rab Ne Bana Di Jodi   Aditya Chopra   \n",
       "4726   s5253  Movie          Rab Ne Bana Di Jodi   Aditya Chopra   \n",
       "4726   s5253  Movie          Rab Ne Bana Di Jodi   Aditya Chopra   \n",
       "4749   s5274  Movie                Kal Ho Naa Ho  Nikkhil Advani   \n",
       "4749   s5274  Movie                Kal Ho Naa Ho  Nikkhil Advani   \n",
       "4749   s5274  Movie                Kal Ho Naa Ho  Nikkhil Advani   \n",
       "4765   s5289  Movie                          Fan  Maneesh Sharma   \n",
       "4765   s5289  Movie                          Fan  Maneesh Sharma   \n",
       "4765   s5289  Movie                          Fan  Maneesh Sharma   \n",
       "4767   s5290  Movie                          Don   Farhan Akhtar   \n",
       "4767   s5290  Movie                          Don   Farhan Akhtar   \n",
       "4767   s5290  Movie                          Don   Farhan Akhtar   \n",
       "4768   s5291  Movie  Dilwale Dulhania Le Jayenge   Aditya Chopra   \n",
       "4773   s5296  Movie                         Darr     Yash Chopra   \n",
       "4773   s5296  Movie                         Darr     Yash Chopra   \n",
       "4773   s5296  Movie                         Darr     Yash Chopra   \n",
       "4785   s5306  Movie           Ae Dil Hai Mushkil     Karan Johar   \n",
       "4785   s5306  Movie           Ae Dil Hai Mushkil     Karan Johar   \n",
       "4785   s5306  Movie           Ae Dil Hai Mushkil     Karan Johar   \n",
       "5483   s5935  Movie           Kuch Kuch Hota Hai     Karan Johar   \n",
       "5483   s5935  Movie           Kuch Kuch Hota Hai     Karan Johar   \n",
       "5483   s5935  Movie           Kuch Kuch Hota Hai     Karan Johar   \n",
       "5489   s5940  Movie     Kabhi Khushi Kabhie Gham     Karan Johar   \n",
       "5489   s5940  Movie     Kabhi Khushi Kabhie Gham     Karan Johar   \n",
       "5490   s5941  Movie       Kabhi Alvida Naa Kehna     Karan Johar   \n",
       "5508   s5958  Movie                    Duplicate    Mahesh Bhatt   \n",
       "5508   s5958  Movie                    Duplicate    Mahesh Bhatt   \n",
       "\n",
       "                                                   cast  country  \\\n",
       "4726  Shah Rukh Khan, Anushka Sharma, Rani Mukerji, ...    India   \n",
       "4726  Shah Rukh Khan, Anushka Sharma, Rani Mukerji, ...    India   \n",
       "4726  Shah Rukh Khan, Anushka Sharma, Rani Mukerji, ...    India   \n",
       "4749  Shah Rukh Khan, Preity Zinta, Saif Ali Khan, J...    India   \n",
       "4749  Shah Rukh Khan, Preity Zinta, Saif Ali Khan, J...    India   \n",
       "4749  Shah Rukh Khan, Preity Zinta, Saif Ali Khan, J...    India   \n",
       "4765  Shah Rukh Khan, Sayani Gupta, Shriya Pilgaonka...    India   \n",
       "4765  Shah Rukh Khan, Sayani Gupta, Shriya Pilgaonka...    India   \n",
       "4765  Shah Rukh Khan, Sayani Gupta, Shriya Pilgaonka...    India   \n",
       "4767  Shah Rukh Khan, Priyanka Chopra, Isha Koppikar...  Unknown   \n",
       "4767  Shah Rukh Khan, Priyanka Chopra, Isha Koppikar...  Unknown   \n",
       "4767  Shah Rukh Khan, Priyanka Chopra, Isha Koppikar...  Unknown   \n",
       "4768  Shah Rukh Khan, Kajol, Amrish Puri, Farida Jal...    India   \n",
       "4773            Shah Rukh Khan, Juhi Chawla, Sunny Deol    India   \n",
       "4773            Shah Rukh Khan, Juhi Chawla, Sunny Deol    India   \n",
       "4773            Shah Rukh Khan, Juhi Chawla, Sunny Deol    India   \n",
       "4785  Aishwarya Rai Bachchan, Ranbir Kapoor, Anushka...    India   \n",
       "4785  Aishwarya Rai Bachchan, Ranbir Kapoor, Anushka...    India   \n",
       "4785  Aishwarya Rai Bachchan, Ranbir Kapoor, Anushka...    India   \n",
       "5483  Shah Rukh Khan, Kajol, Rani Mukerji, Farida Ja...    India   \n",
       "5483  Shah Rukh Khan, Kajol, Rani Mukerji, Farida Ja...    India   \n",
       "5483  Shah Rukh Khan, Kajol, Rani Mukerji, Farida Ja...    India   \n",
       "5489  Amitabh Bachchan, Shah Rukh Khan, Hrithik Rosh...    India   \n",
       "5489  Amitabh Bachchan, Shah Rukh Khan, Hrithik Rosh...    India   \n",
       "5490  Shah Rukh Khan, Rani Mukerji, Preity Zinta, Ab...    India   \n",
       "5508  Shah Rukh Khan, Juhi Chawla, Sonali Bendre, Fa...  Unknown   \n",
       "5508  Shah Rukh Khan, Juhi Chawla, Sonali Bendre, Fa...  Unknown   \n",
       "\n",
       "      release_year rating duration                                 listed_in  \\\n",
       "4726          2008    ALL  164 min             Drama, International, Romance   \n",
       "4726          2008    ALL  164 min             Drama, International, Romance   \n",
       "4726          2008    ALL  164 min             Drama, International, Romance   \n",
       "4749          2003    ALL  187 min              Comedy, Drama, International   \n",
       "4749          2003    ALL  187 min              Comedy, Drama, International   \n",
       "4749          2003    ALL  187 min              Comedy, Drama, International   \n",
       "4765          2016    13+  138 min            Drama, International, Suspense   \n",
       "4765          2016    13+  138 min            Drama, International, Suspense   \n",
       "4765          2016    13+  138 min            Drama, International, Suspense   \n",
       "4767          2006     NR  169 min              Action, Drama, International   \n",
       "4767          2006     NR  169 min              Action, Drama, International   \n",
       "4767          2006     NR  169 min              Action, Drama, International   \n",
       "4768          1995     7+  190 min                                   Romance   \n",
       "4773          1993    13+  177 min            Drama, International, Suspense   \n",
       "4773          1993    13+  177 min            Drama, International, Suspense   \n",
       "4773          1993    13+  177 min            Drama, International, Suspense   \n",
       "4785          2016    13+  156 min             Drama, International, Romance   \n",
       "4785          2016    13+  156 min             Drama, International, Romance   \n",
       "4785          2016    13+  156 min             Drama, International, Romance   \n",
       "5483          1998    ALL  185 min  Comedy, Drama, Music Videos and Concerts   \n",
       "5483          1998    ALL  185 min  Comedy, Drama, Music Videos and Concerts   \n",
       "5483          1998    ALL  185 min  Comedy, Drama, Music Videos and Concerts   \n",
       "5489          2001    ALL  209 min                            Drama, Romance   \n",
       "5489          2001    ALL  209 min                            Drama, Romance   \n",
       "5490          2006    13+  192 min                                   Romance   \n",
       "5508          1998    ALL  165 min                          Comedy, Suspense   \n",
       "5508          1998    ALL  165 min                          Comedy, Suspense   \n",
       "\n",
       "                                            description  \\\n",
       "4726  This is a story of Surinder Sahni (Shahrukh Kh...   \n",
       "4726  This is a story of Surinder Sahni (Shahrukh Kh...   \n",
       "4726  This is a story of Surinder Sahni (Shahrukh Kh...   \n",
       "4749  Naina Kapur is a beautiful introvert and often...   \n",
       "4749  Naina Kapur is a beautiful introvert and often...   \n",
       "4749  Naina Kapur is a beautiful introvert and often...   \n",
       "4765  FAN is the story of Gaurav (Shah Rukh Khan) a ...   \n",
       "4765  FAN is the story of Gaurav (Shah Rukh Khan) a ...   \n",
       "4765  FAN is the story of Gaurav (Shah Rukh Khan) a ...   \n",
       "4767  This action-thriller is a remake of the well-k...   \n",
       "4767  This action-thriller is a remake of the well-k...   \n",
       "4767  This action-thriller is a remake of the well-k...   \n",
       "4768  When Raj (Shahrukh Khan) & Simran (Kajol) firs...   \n",
       "4773  DARR is Rahul’s (Shahrukh Khan) story whose lo...   \n",
       "4773  DARR is Rahul’s (Shahrukh Khan) story whose lo...   \n",
       "4773  DARR is Rahul’s (Shahrukh Khan) story whose lo...   \n",
       "4785  In this romantic drama, a popular singer Ayan ...   \n",
       "4785  In this romantic drama, a popular singer Ayan ...   \n",
       "4785  In this romantic drama, a popular singer Ayan ...   \n",
       "5483  Kuch Kuch Hota Hai' is a Bollywood blockbuster...   \n",
       "5483  Kuch Kuch Hota Hai' is a Bollywood blockbuster...   \n",
       "5483  Kuch Kuch Hota Hai' is a Bollywood blockbuster...   \n",
       "5489  Yashvardhan Raichand is a snobbish man, he bre...   \n",
       "5489  Yashvardhan Raichand is a snobbish man, he bre...   \n",
       "5490  The movie sheds light on two suffocating marri...   \n",
       "5508  This movie stars Shahrukh Khan in a double rol...   \n",
       "5508  This movie stars Shahrukh Khan in a double rol...   \n",
       "\n",
       "                          genre           actor  \n",
       "4726                      Drama  Shah Rukh Khan  \n",
       "4726              International  Shah Rukh Khan  \n",
       "4726                    Romance  Shah Rukh Khan  \n",
       "4749                     Comedy  Shah Rukh Khan  \n",
       "4749                      Drama  Shah Rukh Khan  \n",
       "4749              International  Shah Rukh Khan  \n",
       "4765                      Drama  Shah Rukh Khan  \n",
       "4765              International  Shah Rukh Khan  \n",
       "4765                   Suspense  Shah Rukh Khan  \n",
       "4767                     Action  Shah Rukh Khan  \n",
       "4767                      Drama  Shah Rukh Khan  \n",
       "4767              International  Shah Rukh Khan  \n",
       "4768                    Romance  Shah Rukh Khan  \n",
       "4773                      Drama  Shah Rukh Khan  \n",
       "4773              International  Shah Rukh Khan  \n",
       "4773                   Suspense  Shah Rukh Khan  \n",
       "4785                      Drama  Shah Rukh Khan  \n",
       "4785              International  Shah Rukh Khan  \n",
       "4785                    Romance  Shah Rukh Khan  \n",
       "5483                     Comedy  Shah Rukh Khan  \n",
       "5483                      Drama  Shah Rukh Khan  \n",
       "5483  Music Videos and Concerts  Shah Rukh Khan  \n",
       "5489                      Drama  Shah Rukh Khan  \n",
       "5489                    Romance  Shah Rukh Khan  \n",
       "5490                    Romance  Shah Rukh Khan  \n",
       "5508                     Comedy  Shah Rukh Khan  \n",
       "5508                   Suspense  Shah Rukh Khan  "
      ]
     },
     "execution_count": 22,
     "metadata": {},
     "output_type": "execute_result"
    }
   ],
   "source": [
    "df[df['actor'].str.contains('Shah Rukh Khan', na=False)]\n"
   ]
  },
  {
   "cell_type": "markdown",
   "id": "d43a6955-35e9-4c89-bada-79ad7246e65d",
   "metadata": {},
   "source": [
    "#### Top cast by type"
   ]
  },
  {
   "cell_type": "code",
   "execution_count": 23,
   "id": "ccfac3b0-50b9-4f9a-b6f5-ffed85c8ce40",
   "metadata": {},
   "outputs": [
    {
     "name": "stdout",
     "output_type": "stream",
     "text": [
      "[(' Ph.D.', 969), ('Danny Trejo', 462), ('Anupam Kher', 459), ('Rani Mukerji', 378), ('Prakash Raj', 370)]\n"
     ]
    }
   ],
   "source": [
    "#top cast by type\n",
    "from collections import Counter\n",
    "\n",
    "# Step 1: Get cast data for Movies, drop NaNs, split\n",
    "movies_cast = df[df['type'] == 'Movie']['cast'].dropna().str.split(', ')\n",
    "\n",
    "# Step 2: Flatten and filter out 'Unknown'\n",
    "movies_flat_cast = [\n",
    "    actor for sublist in movies_cast for actor in sublist if actor.lower() != 'unknown'\n",
    "]\n",
    "\n",
    "# Step 3: Count and get top 5\n",
    "top_actors = Counter(movies_flat_cast).most_common(5)\n",
    "print(top_actors)"
   ]
  },
  {
   "cell_type": "markdown",
   "id": "8c010953-a991-4ace-8086-d0232c8de35d",
   "metadata": {},
   "source": [
    "## For Dashboard"
   ]
  },
  {
   "cell_type": "markdown",
   "id": "a277c74a-46f8-466a-9b1a-275ec026593c",
   "metadata": {},
   "source": [
    "#### Total Titles on Netflix"
   ]
  },
  {
   "cell_type": "code",
   "execution_count": 24,
   "id": "b281981e-061c-44f5-9ec7-72a5a0eeeda7",
   "metadata": {},
   "outputs": [
    {
     "name": "stdout",
     "output_type": "stream",
     "text": [
      "Total Titles on Amazon: 87043\n"
     ]
    }
   ],
   "source": [
    "total_titles = len(df)\n",
    "print(\"Total Titles on Amazon:\", total_titles)"
   ]
  },
  {
   "cell_type": "markdown",
   "id": "491bc099-34e9-468c-b135-17aeb042687a",
   "metadata": {},
   "source": [
    "#### Average Movie Duration"
   ]
  },
  {
   "cell_type": "code",
   "execution_count": 25,
   "id": "a347c34d-6bb6-4998-b8ca-0dcae80af496",
   "metadata": {},
   "outputs": [
    {
     "name": "stdout",
     "output_type": "stream",
     "text": [
      "Average Movie duration is: 98\n"
     ]
    }
   ],
   "source": [
    "# Step-1: Separate Movies and TV Shows \n",
    "movies = df[df['type'] == 'Movie']\n",
    "tv_shows = df[df['type'] == 'TV Show']\n",
    "\n",
    "#Step-2: Extract duration in minutes for movie\n",
    "movies = df[df['type'] == 'Movie'].copy()\n",
    "movies['duration_minutes'] = movies['duration'].str.extract('(\\d+)')\n",
    "movies['duration_minutes'] = movies['duration_minutes'].astype(float)\n",
    "\n",
    "#Step-3: Print the average movie duration\n",
    "print(\"Average Movie duration is:\", int(movies['duration_minutes'].mean()))"
   ]
  },
  {
   "cell_type": "markdown",
   "id": "5b5d4e02-93e8-418c-9ffa-faa25fe77995",
   "metadata": {},
   "source": [
    "#### Content Type Distribution (Movies vs TV Shows)"
   ]
  },
  {
   "cell_type": "code",
   "execution_count": 26,
   "id": "5f9e46c5-9772-4f79-9035-9aa5fcc6b908",
   "metadata": {},
   "outputs": [
    {
     "name": "stdout",
     "output_type": "stream",
     "text": [
      "Content Type Distribution:\n",
      "type\n",
      "Movie      74210\n",
      "TV Show    12833\n",
      "Name: count, dtype: int64\n"
     ]
    }
   ],
   "source": [
    "type_distribution = df['type'].value_counts()\n",
    "print(\"Content Type Distribution:\")\n",
    "print(type_distribution)"
   ]
  },
  {
   "cell_type": "markdown",
   "id": "1bace995-5672-4be6-91e2-d6d4422aa8ad",
   "metadata": {},
   "source": [
    "#### Most Common Genre"
   ]
  },
  {
   "cell_type": "code",
   "execution_count": 27,
   "id": "ddea3b86-26e5-4e39-b3c4-f9e72dc1e665",
   "metadata": {},
   "outputs": [
    {
     "name": "stdout",
     "output_type": "stream",
     "text": [
      "Most Common Genre: Drama\n"
     ]
    }
   ],
   "source": [
    "df['listed_in_split'] = df['listed_in'].str.split(', ')\n",
    "genres = df.explode('listed_in_split')\n",
    "top_genre = genres['listed_in_split'].value_counts().idxmax()\n",
    "print(\"Most Common Genre:\", top_genre)"
   ]
  },
  {
   "cell_type": "markdown",
   "id": "b4d56be5-a935-4960-a32b-31addf64b621",
   "metadata": {},
   "source": [
    "#### Top release year"
   ]
  },
  {
   "cell_type": "code",
   "execution_count": 28,
   "id": "bf7e143a-b343-4d15-baf2-2cfc38a0d003",
   "metadata": {},
   "outputs": [
    {
     "name": "stdout",
     "output_type": "stream",
     "text": [
      "Top 5 Release Years on Netflix:\n",
      "release_year\n",
      "2021    13635\n",
      "2020     8497\n",
      "2019     7714\n",
      "2018     5486\n",
      "2017     4294\n",
      "Name: count, dtype: int64\n"
     ]
    }
   ],
   "source": [
    "top_years =df['release_year'].value_counts().head(5)\n",
    "print(\"Top 5 Release Years on Netflix:\")\n",
    "print(top_years)"
   ]
  },
  {
   "cell_type": "markdown",
   "id": "25cee158-e7b5-479b-8463-85ccbddd3412",
   "metadata": {},
   "source": [
    "#### 1) Content release by year"
   ]
  },
  {
   "cell_type": "code",
   "execution_count": 29,
   "id": "5c361fc0-d2b5-4aad-88ef-e161ea657462",
   "metadata": {},
   "outputs": [
    {
     "data": {
      "image/png": "[encoded data removed]",
      "text/plain": [
       "<Figure size 1200x600 with 1 Axes>"
      ]
     },
     "metadata": {},
     "output_type": "display_data"
    }
   ],
   "source": [
    "import matplotlib.pyplot as plt\n",
    "import seaborn as sns\n",
    "\n",
    "# Group by release year and count titles\n",
    "release_trend = df['release_year'].value_counts().sort_index()\n",
    "\n",
    "# Plot the trend\n",
    "plt.figure(figsize=(12, 6))\n",
    "sns.lineplot(x=release_trend.index, y=release_trend.values, marker='o', color='crimson')\n",
    "plt.title('Amazon Content Release Trend by Year', fontsize=14)\n",
    "plt.xlabel('Release Year')\n",
    "plt.ylabel('Number of Titles Released')\n",
    "plt.grid(True)\n",
    "plt.tight_layout()\n",
    "plt.show()"
   ]
  },
  {
   "cell_type": "markdown",
   "id": "c65635b5-f1dd-4ae9-bb09-d8031ef086b6",
   "metadata": {},
   "source": [
    "#### 2) Rating distribution"
   ]
  },
  {
   "cell_type": "code",
   "execution_count": 30,
   "id": "12af7fd2-7b88-4651-8411-6f1f5d2b922e",
   "metadata": {},
   "outputs": [
    {
     "name": "stderr",
     "output_type": "stream",
     "text": [
      "C:\\Users\\Divya Ramaingam\\AppData\\Local\\Temp\\ipykernel_10932\\2120730987.py:5: FutureWarning: \n",
      "\n",
      "Passing `palette` without assigning `hue` is deprecated and will be removed in v0.14.0. Assign the `x` variable to `hue` and set `legend=False` for the same effect.\n",
      "\n",
      "  sns.barplot(x=rating_counts.index, y=rating_counts.values, palette=\"magma\")\n"
     ]
    },
    {
     "data": {
      "image/png": "[encoded data removed]",
      "text/plain": [
       "<Figure size 1000x600 with 1 Axes>"
      ]
     },
     "metadata": {},
     "output_type": "display_data"
    }
   ],
   "source": [
    "rating_counts = df['rating'].value_counts()\n",
    "\n",
    "# Plot\n",
    "plt.figure(figsize=(10, 6))\n",
    "sns.barplot(x=rating_counts.index, y=rating_counts.values, palette=\"magma\")\n",
    "plt.title('Amazon Content Rating Distribution', fontsize=14)\n",
    "plt.xlabel('Rating')\n",
    "plt.ylabel('Number of Titles')\n",
    "plt.xticks(rotation=45)\n",
    "plt.tight_layout()\n",
    "plt.show()"
   ]
  },
  {
   "cell_type": "markdown",
   "id": "1370dc52-ded9-48ba-af8e-d10a5dc95a61",
   "metadata": {},
   "source": [
    "#### 3)Top Occuring Movie"
   ]
  },
  {
   "cell_type": "code",
   "execution_count": 31,
   "id": "d868f77f-6192-4c43-8a01-7443b6b1207e",
   "metadata": {},
   "outputs": [
    {
     "name": "stdout",
     "output_type": "stream",
     "text": [
      "Top Occurring Movie on Amazon:\n",
      "title\n",
      "Till The Clouds Roll By    228\n",
      "Evan Almighty              219\n",
      "The Rocker                 200\n",
      "Something To Sing About    200\n",
      "American Me                186\n",
      "Name: count, dtype: int64\n"
     ]
    }
   ],
   "source": [
    "top_movie = df['title'].value_counts().head(5)\n",
    "\n",
    "# Display the result\n",
    "print(\"Top Occurring Movie on Amazon:\")\n",
    "print(top_movie)"
   ]
  },
  {
   "cell_type": "markdown",
   "id": "8baba4a6-abaa-4f09-91ac-3ddd4849357b",
   "metadata": {},
   "source": [
    "#### 4)Top cast members"
   ]
  },
  {
   "cell_type": "code",
   "execution_count": 37,
   "id": "3c95ff4b-fe6f-4d86-874b-4b42fa6930db",
   "metadata": {},
   "outputs": [
    {
     "name": "stdout",
     "output_type": "stream",
     "text": [
      "🎬 Top 5 Actors by Unique Title Appearances:\n",
      "Maggie Binkley: 56 unique titles\n",
      "Gene Autry: 32 unique titles\n",
      "Nassar: 30 unique titles\n",
      "Champion: 29 unique titles\n",
      "Anne-Marie Newland: 25 unique titles\n"
     ]
    }
   ],
   "source": [
    "from collections import Counter\n",
    "\n",
    "# Step 1: Drop null and clean\n",
    "df_actor = df[['title', 'actor']].dropna().copy()\n",
    "df_actor = df_actor[~df_actor['actor'].str.contains('Unknown', case=False)]\n",
    "\n",
    "# Step 2: Split and explode actors\n",
    "df_actor['actor'] = df_actor['actor'].str.split(', ')\n",
    "df_actor = df_actor.explode('actor')\n",
    "df_actor['actor'] = df_actor['actor'].str.strip()\n",
    "\n",
    "# Step 3: Drop duplicate title-actor pairs\n",
    "df_actor = df_actor.drop_duplicates(subset=['title', 'actor'])\n",
    "\n",
    "# Step 4: Count appearances\n",
    "top_5_unique_actors = df_actor['actor'].value_counts().head(5)\n",
    "\n",
    "# Display result\n",
    "print(\"🎬 Top 5 Actors by Unique Title Appearances:\")\n",
    "for actor, count in top_5_unique_actors.items():\n",
    "    print(f\"{actor}: {count} unique titles\")"
   ]
  },
  {
   "cell_type": "markdown",
   "id": "7e114be3-2f01-437b-b5e8-170ddaf9af89",
   "metadata": {},
   "source": [
    "#### 5)Top Directors"
   ]
  },
  {
   "cell_type": "code",
   "execution_count": 33,
   "id": "b58e2a6d-0c7f-4408-b5f0-82b5cdf37fe5",
   "metadata": {},
   "outputs": [
    {
     "name": "stdout",
     "output_type": "stream",
     "text": [
      "Top 5 Directors in Amazon Dataset:\n",
      "Richard Whorf: 236 titles\n",
      "Tom Shadyac: 219 titles\n",
      "Roy William Neill: 215 titles\n",
      "Michael J. Nelson: 201 titles\n",
      "Victor Schertzinger: 200 titles\n"
     ]
    }
   ],
   "source": [
    "from collections import Counter\n",
    "\n",
    "# Drop nulls and exclude 'Unknown'\n",
    "clean_directors = df['director'].dropna()\n",
    "clean_directors = clean_directors[~clean_directors.str.contains('Unknown', case=False)]\n",
    "\n",
    "# Split and flatten\n",
    "directors_split = clean_directors.str.split(', ')\n",
    "flat_directors = [director for sublist in directors_split for director in sublist]\n",
    "\n",
    "# Count top 5\n",
    "top_5_directors = Counter(flat_directors).most_common(5)\n",
    "\n",
    "# Display result\n",
    "print(\"Top 5 Directors in Amazon Dataset:\")\n",
    "for director, count in top_5_directors:\n",
    "    print(f\"{director}: {count} titles\")"
   ]
  },
  {
   "cell_type": "markdown",
   "id": "68f41b65-6266-42f6-a716-b92905c731fa",
   "metadata": {},
   "source": [
    "#### 6)Genre Popularity"
   ]
  },
  {
   "cell_type": "code",
   "execution_count": 35,
   "id": "94827be2-db8f-44d7-82a9-64a2eb280324",
   "metadata": {},
   "outputs": [
    {
     "name": "stdout",
     "output_type": "stream",
     "text": [
      "Top 10 Genres:\n",
      "Drama: 21135 titles\n",
      "Comedy: 11224 titles\n",
      "Action: 9086 titles\n",
      "Suspense: 8660 titles\n",
      "Horror: 4316 titles\n",
      "Romance: 3728 titles\n",
      "Kids: 3515 titles\n",
      "Documentary: 2956 titles\n",
      "Science Fiction: 2576 titles\n",
      "Special Interest: 2401 titles\n"
     ]
    }
   ],
   "source": [
    "from collections import Counter\n",
    "\n",
    "# Drop missing values and split genres\n",
    "genres = df['genre'].dropna().str.split(', ')\n",
    "flat_genres = [genre.strip() for sublist in genres for genre in sublist]\n",
    "\n",
    "# Count and get top 10 genres\n",
    "genre_count = Counter(flat_genres).most_common(10)\n",
    "\n",
    "# Display result\n",
    "print(\"Top 10 Genres:\")\n",
    "for genre, count in genre_count:\n",
    "    print(f\"{genre}: {count} titles\")\n"
   ]
  },
  {
   "cell_type": "code",
   "execution_count": 36,
   "id": "39d40743-1d32-4a5f-ad4d-ab9f5b0e3524",
   "metadata": {},
   "outputs": [],
   "source": [
    "df.to_csv(\"cleaned_amazon_data.csv\", index=False)"
   ]
  },
  {
   "cell_type": "code",
   "execution_count": null,
   "id": "a71449f2-9db0-4da4-9a9c-4da911ee99d9",
   "metadata": {},
   "outputs": [],
   "source": []
  }
 ],
 "metadata": {
  "kernelspec": {
   "display_name": "Python 3 (ipykernel)",
   "language": "python",
   "name": "python3"
  },
  "language_info": {
   "codemirror_mode": {
    "name": "ipython",
    "version": 3
   },
   "file_extension": ".py",
   "mimetype": "text/x-python",
   "name": "python",
   "nbconvert_exporter": "python",
   "pygments_lexer": "ipython3",
   "version": "3.10.11"
  }
 },
 "nbformat": 4,
 "nbformat_minor": 5
}
