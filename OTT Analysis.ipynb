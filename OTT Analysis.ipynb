{
 "cells": [
  {
   "cell_type": "markdown",
   "id": "f48a7773-337e-447f-96dc-a561848b85e6",
   "metadata": {},
   "source": [
    "# 📊 Comparative Analysis of Netflix, Amazon Prime, and Disney+ OTT Platforms\n",
    "\n",
    "## ✅ Objective\n",
    "To compare the content libraries of Netflix, Amazon Prime, and Disney+ based on content type, genres, ratings, durations, and other trends.\n",
    "\n",
    "---\n"
   ]
  },
  {
   "cell_type": "markdown",
   "id": "c83ee5f6-4e20-4622-a465-51dfe391a89d",
   "metadata": {},
   "source": [
    "## ✅ Import Libraries"
   ]
  },
  {
   "cell_type": "code",
   "execution_count": 44,
   "id": "bddb4321-e04d-4d6e-b3a7-e7b68e766916",
   "metadata": {},
   "outputs": [],
   "source": [
    "import pandas as pd\n",
    "import matplotlib.pyplot as plt\n",
    "import seaborn as sns\n",
    "%matplotlib inline\n"
   ]
  },
  {
   "cell_type": "markdown",
   "id": "eba97c55-6a87-4757-a97d-777fb16c74b1",
   "metadata": {},
   "source": [
    "## ✅ Load the Datasets"
   ]
  },
  {
   "cell_type": "code",
   "execution_count": 45,
   "id": "0819250b-4b91-4cef-bb9a-bec70eebb8ec",
   "metadata": {},
   "outputs": [],
   "source": [
    "netflix = pd.read_csv('cleaned_netflix_data.csv')\n",
    "amazon = pd.read_csv('cleaned_amazon_data.csv')\n",
    "disney = pd.read_csv('cleaned_disney+_data.csv')\n"
   ]
  },
  {
   "cell_type": "markdown",
   "id": "4f503926-568f-4a73-ac6d-402af8e44ab7",
   "metadata": {},
   "source": [
    "## ✅ Inspect the Data"
   ]
  },
  {
   "cell_type": "code",
   "execution_count": 46,
   "id": "1cc9f52e-831e-4d58-a3cc-3d00c85a475f",
   "metadata": {},
   "outputs": [
    {
     "data": {
      "text/html": [
       "<div>\n",
       "<style scoped>\n",
       "    .dataframe tbody tr th:only-of-type {\n",
       "        vertical-align: middle;\n",
       "    }\n",
       "\n",
       "    .dataframe tbody tr th {\n",
       "        vertical-align: top;\n",
       "    }\n",
       "\n",
       "    .dataframe thead th {\n",
       "        text-align: right;\n",
       "    }\n",
       "</style>\n",
       "<table border=\"1\" class=\"dataframe\">\n",
       "  <thead>\n",
       "    <tr style=\"text-align: right;\">\n",
       "      <th></th>\n",
       "      <th>show_id</th>\n",
       "      <th>type</th>\n",
       "      <th>title</th>\n",
       "      <th>director</th>\n",
       "      <th>cast</th>\n",
       "      <th>country</th>\n",
       "      <th>date_added</th>\n",
       "      <th>release_year</th>\n",
       "      <th>rating</th>\n",
       "      <th>duration</th>\n",
       "      <th>listed_in</th>\n",
       "      <th>description</th>\n",
       "      <th>added_year</th>\n",
       "      <th>genre</th>\n",
       "      <th>actor</th>\n",
       "    </tr>\n",
       "  </thead>\n",
       "  <tbody>\n",
       "    <tr>\n",
       "      <th>0</th>\n",
       "      <td>s1</td>\n",
       "      <td>Movie</td>\n",
       "      <td>Duck the Halls: A Mickey Mouse Christmas Special</td>\n",
       "      <td>Alonso Ramirez Ramos, Dave Wasson</td>\n",
       "      <td>Chris Diamantopoulos, Tony Anselmo, Tress MacN...</td>\n",
       "      <td>Unknown</td>\n",
       "      <td>2021-11-26</td>\n",
       "      <td>2016</td>\n",
       "      <td>TV-G</td>\n",
       "      <td>23 min</td>\n",
       "      <td>Animation, Family</td>\n",
       "      <td>Join Mickey and the gang as they duck the halls!</td>\n",
       "      <td>2021</td>\n",
       "      <td>Animation</td>\n",
       "      <td>Chris Diamantopoulos</td>\n",
       "    </tr>\n",
       "    <tr>\n",
       "      <th>1</th>\n",
       "      <td>s1</td>\n",
       "      <td>Movie</td>\n",
       "      <td>Duck the Halls: A Mickey Mouse Christmas Special</td>\n",
       "      <td>Alonso Ramirez Ramos, Dave Wasson</td>\n",
       "      <td>Chris Diamantopoulos, Tony Anselmo, Tress MacN...</td>\n",
       "      <td>Unknown</td>\n",
       "      <td>2021-11-26</td>\n",
       "      <td>2016</td>\n",
       "      <td>TV-G</td>\n",
       "      <td>23 min</td>\n",
       "      <td>Animation, Family</td>\n",
       "      <td>Join Mickey and the gang as they duck the halls!</td>\n",
       "      <td>2021</td>\n",
       "      <td>Animation</td>\n",
       "      <td>Tony Anselmo</td>\n",
       "    </tr>\n",
       "    <tr>\n",
       "      <th>2</th>\n",
       "      <td>s1</td>\n",
       "      <td>Movie</td>\n",
       "      <td>Duck the Halls: A Mickey Mouse Christmas Special</td>\n",
       "      <td>Alonso Ramirez Ramos, Dave Wasson</td>\n",
       "      <td>Chris Diamantopoulos, Tony Anselmo, Tress MacN...</td>\n",
       "      <td>Unknown</td>\n",
       "      <td>2021-11-26</td>\n",
       "      <td>2016</td>\n",
       "      <td>TV-G</td>\n",
       "      <td>23 min</td>\n",
       "      <td>Animation, Family</td>\n",
       "      <td>Join Mickey and the gang as they duck the halls!</td>\n",
       "      <td>2021</td>\n",
       "      <td>Animation</td>\n",
       "      <td>Tress MacNeille</td>\n",
       "    </tr>\n",
       "    <tr>\n",
       "      <th>3</th>\n",
       "      <td>s1</td>\n",
       "      <td>Movie</td>\n",
       "      <td>Duck the Halls: A Mickey Mouse Christmas Special</td>\n",
       "      <td>Alonso Ramirez Ramos, Dave Wasson</td>\n",
       "      <td>Chris Diamantopoulos, Tony Anselmo, Tress MacN...</td>\n",
       "      <td>Unknown</td>\n",
       "      <td>2021-11-26</td>\n",
       "      <td>2016</td>\n",
       "      <td>TV-G</td>\n",
       "      <td>23 min</td>\n",
       "      <td>Animation, Family</td>\n",
       "      <td>Join Mickey and the gang as they duck the halls!</td>\n",
       "      <td>2021</td>\n",
       "      <td>Animation</td>\n",
       "      <td>Bill Farmer</td>\n",
       "    </tr>\n",
       "    <tr>\n",
       "      <th>4</th>\n",
       "      <td>s1</td>\n",
       "      <td>Movie</td>\n",
       "      <td>Duck the Halls: A Mickey Mouse Christmas Special</td>\n",
       "      <td>Alonso Ramirez Ramos, Dave Wasson</td>\n",
       "      <td>Chris Diamantopoulos, Tony Anselmo, Tress MacN...</td>\n",
       "      <td>Unknown</td>\n",
       "      <td>2021-11-26</td>\n",
       "      <td>2016</td>\n",
       "      <td>TV-G</td>\n",
       "      <td>23 min</td>\n",
       "      <td>Animation, Family</td>\n",
       "      <td>Join Mickey and the gang as they duck the halls!</td>\n",
       "      <td>2021</td>\n",
       "      <td>Animation</td>\n",
       "      <td>Russi Taylor</td>\n",
       "    </tr>\n",
       "  </tbody>\n",
       "</table>\n",
       "</div>"
      ],
      "text/plain": [
       "  show_id   type                                             title  \\\n",
       "0      s1  Movie  Duck the Halls: A Mickey Mouse Christmas Special   \n",
       "1      s1  Movie  Duck the Halls: A Mickey Mouse Christmas Special   \n",
       "2      s1  Movie  Duck the Halls: A Mickey Mouse Christmas Special   \n",
       "3      s1  Movie  Duck the Halls: A Mickey Mouse Christmas Special   \n",
       "4      s1  Movie  Duck the Halls: A Mickey Mouse Christmas Special   \n",
       "\n",
       "                            director  \\\n",
       "0  Alonso Ramirez Ramos, Dave Wasson   \n",
       "1  Alonso Ramirez Ramos, Dave Wasson   \n",
       "2  Alonso Ramirez Ramos, Dave Wasson   \n",
       "3  Alonso Ramirez Ramos, Dave Wasson   \n",
       "4  Alonso Ramirez Ramos, Dave Wasson   \n",
       "\n",
       "                                                cast  country  date_added  \\\n",
       "0  Chris Diamantopoulos, Tony Anselmo, Tress MacN...  Unknown  2021-11-26   \n",
       "1  Chris Diamantopoulos, Tony Anselmo, Tress MacN...  Unknown  2021-11-26   \n",
       "2  Chris Diamantopoulos, Tony Anselmo, Tress MacN...  Unknown  2021-11-26   \n",
       "3  Chris Diamantopoulos, Tony Anselmo, Tress MacN...  Unknown  2021-11-26   \n",
       "4  Chris Diamantopoulos, Tony Anselmo, Tress MacN...  Unknown  2021-11-26   \n",
       "\n",
       "   release_year rating duration          listed_in  \\\n",
       "0          2016   TV-G   23 min  Animation, Family   \n",
       "1          2016   TV-G   23 min  Animation, Family   \n",
       "2          2016   TV-G   23 min  Animation, Family   \n",
       "3          2016   TV-G   23 min  Animation, Family   \n",
       "4          2016   TV-G   23 min  Animation, Family   \n",
       "\n",
       "                                        description  added_year      genre  \\\n",
       "0  Join Mickey and the gang as they duck the halls!        2021  Animation   \n",
       "1  Join Mickey and the gang as they duck the halls!        2021  Animation   \n",
       "2  Join Mickey and the gang as they duck the halls!        2021  Animation   \n",
       "3  Join Mickey and the gang as they duck the halls!        2021  Animation   \n",
       "4  Join Mickey and the gang as they duck the halls!        2021  Animation   \n",
       "\n",
       "                  actor  \n",
       "0  Chris Diamantopoulos  \n",
       "1          Tony Anselmo  \n",
       "2       Tress MacNeille  \n",
       "3           Bill Farmer  \n",
       "4          Russi Taylor  "
      ]
     },
     "execution_count": 46,
     "metadata": {},
     "output_type": "execute_result"
    }
   ],
   "source": [
    "netflix.head()\n",
    "amazon.head()\n",
    "disney.head()"
   ]
  },
  {
   "cell_type": "markdown",
   "id": "39c3dee6-11c8-4553-8dda-2f81d754dddb",
   "metadata": {},
   "source": [
    "## ✅ Add Platform Column\n",
    "To identify the platform in combined analysis."
   ]
  },
  {
   "cell_type": "code",
   "execution_count": 47,
   "id": "b34542d9-0dee-458c-9314-ad0f4215c404",
   "metadata": {},
   "outputs": [],
   "source": [
    "netflix['Platform'] = 'Netflix'\n",
    "amazon['Platform'] = 'Amazon'\n",
    "disney['Platform'] = 'Disney+'\n"
   ]
  },
  {
   "cell_type": "markdown",
   "id": "68ece4b4-4396-4160-b1f6-fe15a40ad8e7",
   "metadata": {},
   "source": [
    "## ✅ Combine the DataFrames"
   ]
  },
  {
   "cell_type": "code",
   "execution_count": 48,
   "id": "bb4eec05-f1bc-4bcf-85ab-7baf1d9a75fb",
   "metadata": {},
   "outputs": [
    {
     "data": {
      "text/html": [
       "<div>\n",
       "<style scoped>\n",
       "    .dataframe tbody tr th:only-of-type {\n",
       "        vertical-align: middle;\n",
       "    }\n",
       "\n",
       "    .dataframe tbody tr th {\n",
       "        vertical-align: top;\n",
       "    }\n",
       "\n",
       "    .dataframe thead th {\n",
       "        text-align: right;\n",
       "    }\n",
       "</style>\n",
       "<table border=\"1\" class=\"dataframe\">\n",
       "  <thead>\n",
       "    <tr style=\"text-align: right;\">\n",
       "      <th></th>\n",
       "      <th>show_id</th>\n",
       "      <th>type</th>\n",
       "      <th>title</th>\n",
       "      <th>director</th>\n",
       "      <th>cast</th>\n",
       "      <th>country</th>\n",
       "      <th>date_added</th>\n",
       "      <th>release_year</th>\n",
       "      <th>rating</th>\n",
       "      <th>duration</th>\n",
       "      <th>listed_in</th>\n",
       "      <th>description</th>\n",
       "      <th>added_year</th>\n",
       "      <th>genre</th>\n",
       "      <th>actor</th>\n",
       "      <th>year_gap</th>\n",
       "      <th>listed_in_split</th>\n",
       "      <th>Platform</th>\n",
       "    </tr>\n",
       "  </thead>\n",
       "  <tbody>\n",
       "    <tr>\n",
       "      <th>0</th>\n",
       "      <td>s1</td>\n",
       "      <td>Movie</td>\n",
       "      <td>Dick Johnson Is Dead</td>\n",
       "      <td>Kirsten Johnson</td>\n",
       "      <td>Jace Chapman, Larisa Oleynik, Tom Everett Scot...</td>\n",
       "      <td>Netherlands</td>\n",
       "      <td>2018-10-12</td>\n",
       "      <td>2015</td>\n",
       "      <td>TV-14</td>\n",
       "      <td>112 min</td>\n",
       "      <td>Comedies, International Movies, Romantic Movies</td>\n",
       "      <td>Chipper baby boomer Kath, diva daughter Kim an...</td>\n",
       "      <td>2018.0</td>\n",
       "      <td>Comedies</td>\n",
       "      <td>Jace Chapman</td>\n",
       "      <td>3.0</td>\n",
       "      <td>['Comedies', 'International Movies', 'Romantic...</td>\n",
       "      <td>Netflix</td>\n",
       "    </tr>\n",
       "    <tr>\n",
       "      <th>1</th>\n",
       "      <td>s1</td>\n",
       "      <td>Movie</td>\n",
       "      <td>Dick Johnson Is Dead</td>\n",
       "      <td>Kirsten Johnson</td>\n",
       "      <td>Jace Chapman, Larisa Oleynik, Tom Everett Scot...</td>\n",
       "      <td>Netherlands</td>\n",
       "      <td>2018-10-12</td>\n",
       "      <td>2015</td>\n",
       "      <td>TV-14</td>\n",
       "      <td>112 min</td>\n",
       "      <td>Comedies, International Movies, Romantic Movies</td>\n",
       "      <td>Chipper baby boomer Kath, diva daughter Kim an...</td>\n",
       "      <td>2018.0</td>\n",
       "      <td>Comedies</td>\n",
       "      <td>Larisa Oleynik</td>\n",
       "      <td>3.0</td>\n",
       "      <td>['Comedies', 'International Movies', 'Romantic...</td>\n",
       "      <td>Netflix</td>\n",
       "    </tr>\n",
       "    <tr>\n",
       "      <th>2</th>\n",
       "      <td>s1</td>\n",
       "      <td>Movie</td>\n",
       "      <td>Dick Johnson Is Dead</td>\n",
       "      <td>Kirsten Johnson</td>\n",
       "      <td>Jace Chapman, Larisa Oleynik, Tom Everett Scot...</td>\n",
       "      <td>Netherlands</td>\n",
       "      <td>2018-10-12</td>\n",
       "      <td>2015</td>\n",
       "      <td>TV-14</td>\n",
       "      <td>112 min</td>\n",
       "      <td>Comedies, International Movies, Romantic Movies</td>\n",
       "      <td>Chipper baby boomer Kath, diva daughter Kim an...</td>\n",
       "      <td>2018.0</td>\n",
       "      <td>Comedies</td>\n",
       "      <td>Tom Everett Scott</td>\n",
       "      <td>3.0</td>\n",
       "      <td>['Comedies', 'International Movies', 'Romantic...</td>\n",
       "      <td>Netflix</td>\n",
       "    </tr>\n",
       "    <tr>\n",
       "      <th>3</th>\n",
       "      <td>s1</td>\n",
       "      <td>Movie</td>\n",
       "      <td>Dick Johnson Is Dead</td>\n",
       "      <td>Kirsten Johnson</td>\n",
       "      <td>Jace Chapman, Larisa Oleynik, Tom Everett Scot...</td>\n",
       "      <td>Netherlands</td>\n",
       "      <td>2018-10-12</td>\n",
       "      <td>2015</td>\n",
       "      <td>TV-14</td>\n",
       "      <td>112 min</td>\n",
       "      <td>Comedies, International Movies, Romantic Movies</td>\n",
       "      <td>Chipper baby boomer Kath, diva daughter Kim an...</td>\n",
       "      <td>2018.0</td>\n",
       "      <td>Comedies</td>\n",
       "      <td>Steve Zahn</td>\n",
       "      <td>3.0</td>\n",
       "      <td>['Comedies', 'International Movies', 'Romantic...</td>\n",
       "      <td>Netflix</td>\n",
       "    </tr>\n",
       "    <tr>\n",
       "      <th>4</th>\n",
       "      <td>s1</td>\n",
       "      <td>Movie</td>\n",
       "      <td>Dick Johnson Is Dead</td>\n",
       "      <td>Kirsten Johnson</td>\n",
       "      <td>Jace Chapman, Larisa Oleynik, Tom Everett Scot...</td>\n",
       "      <td>Netherlands</td>\n",
       "      <td>2018-10-12</td>\n",
       "      <td>2015</td>\n",
       "      <td>TV-14</td>\n",
       "      <td>112 min</td>\n",
       "      <td>Comedies, International Movies, Romantic Movies</td>\n",
       "      <td>Chipper baby boomer Kath, diva daughter Kim an...</td>\n",
       "      <td>2018.0</td>\n",
       "      <td>Comedies</td>\n",
       "      <td>Mauricio Lara</td>\n",
       "      <td>3.0</td>\n",
       "      <td>['Comedies', 'International Movies', 'Romantic...</td>\n",
       "      <td>Netflix</td>\n",
       "    </tr>\n",
       "  </tbody>\n",
       "</table>\n",
       "</div>"
      ],
      "text/plain": [
       "  show_id   type                 title         director  \\\n",
       "0      s1  Movie  Dick Johnson Is Dead  Kirsten Johnson   \n",
       "1      s1  Movie  Dick Johnson Is Dead  Kirsten Johnson   \n",
       "2      s1  Movie  Dick Johnson Is Dead  Kirsten Johnson   \n",
       "3      s1  Movie  Dick Johnson Is Dead  Kirsten Johnson   \n",
       "4      s1  Movie  Dick Johnson Is Dead  Kirsten Johnson   \n",
       "\n",
       "                                                cast      country  date_added  \\\n",
       "0  Jace Chapman, Larisa Oleynik, Tom Everett Scot...  Netherlands  2018-10-12   \n",
       "1  Jace Chapman, Larisa Oleynik, Tom Everett Scot...  Netherlands  2018-10-12   \n",
       "2  Jace Chapman, Larisa Oleynik, Tom Everett Scot...  Netherlands  2018-10-12   \n",
       "3  Jace Chapman, Larisa Oleynik, Tom Everett Scot...  Netherlands  2018-10-12   \n",
       "4  Jace Chapman, Larisa Oleynik, Tom Everett Scot...  Netherlands  2018-10-12   \n",
       "\n",
       "   release_year rating duration  \\\n",
       "0          2015  TV-14  112 min   \n",
       "1          2015  TV-14  112 min   \n",
       "2          2015  TV-14  112 min   \n",
       "3          2015  TV-14  112 min   \n",
       "4          2015  TV-14  112 min   \n",
       "\n",
       "                                         listed_in  \\\n",
       "0  Comedies, International Movies, Romantic Movies   \n",
       "1  Comedies, International Movies, Romantic Movies   \n",
       "2  Comedies, International Movies, Romantic Movies   \n",
       "3  Comedies, International Movies, Romantic Movies   \n",
       "4  Comedies, International Movies, Romantic Movies   \n",
       "\n",
       "                                         description  added_year     genre  \\\n",
       "0  Chipper baby boomer Kath, diva daughter Kim an...      2018.0  Comedies   \n",
       "1  Chipper baby boomer Kath, diva daughter Kim an...      2018.0  Comedies   \n",
       "2  Chipper baby boomer Kath, diva daughter Kim an...      2018.0  Comedies   \n",
       "3  Chipper baby boomer Kath, diva daughter Kim an...      2018.0  Comedies   \n",
       "4  Chipper baby boomer Kath, diva daughter Kim an...      2018.0  Comedies   \n",
       "\n",
       "               actor  year_gap  \\\n",
       "0       Jace Chapman       3.0   \n",
       "1     Larisa Oleynik       3.0   \n",
       "2  Tom Everett Scott       3.0   \n",
       "3         Steve Zahn       3.0   \n",
       "4      Mauricio Lara       3.0   \n",
       "\n",
       "                                     listed_in_split Platform  \n",
       "0  ['Comedies', 'International Movies', 'Romantic...  Netflix  \n",
       "1  ['Comedies', 'International Movies', 'Romantic...  Netflix  \n",
       "2  ['Comedies', 'International Movies', 'Romantic...  Netflix  \n",
       "3  ['Comedies', 'International Movies', 'Romantic...  Netflix  \n",
       "4  ['Comedies', 'International Movies', 'Romantic...  Netflix  "
      ]
     },
     "execution_count": 48,
     "metadata": {},
     "output_type": "execute_result"
    }
   ],
   "source": [
    "df = pd.concat([netflix, amazon, disney], ignore_index=True)\n",
    "df.head()\n"
   ]
  },
  {
   "cell_type": "markdown",
   "id": "99a696dd-5e76-44f1-bd08-60f9b901b055",
   "metadata": {},
   "source": [
    "#### Split the Listed in and cast column"
   ]
  },
  {
   "cell_type": "code",
   "execution_count": 49,
   "id": "21ae26d2-90f0-4b7d-ac69-aeecd1dba983",
   "metadata": {},
   "outputs": [],
   "source": [
    "df_cast = df[['title', 'cast']].dropna().copy()\n",
    "\n",
    "# Split cast string by comma and explode to rows\n",
    "df_cast['cast'] = df_cast['cast'].str.split(', ')\n",
    "df_cast = df_cast.explode('cast')\n",
    "\n",
    "# Remove 'unknown' or any empty values\n",
    "df_cast['cast'] = df_cast['cast'].str.strip()\n",
    "df_cast = df_cast[df_cast['cast'].str.lower() != 'unknown']\n",
    "df_cast = df_cast[df_cast['cast'] != '']\n",
    "\n",
    "# remove duplicates\n",
    "df_cast.drop_duplicates(inplace=True)\n",
    "\n",
    "df_genres = df[['title', 'listed_in']].dropna().copy()\n",
    "\n",
    "# Split genre string and explode\n",
    "df_genres['genre'] = df_genres['listed_in'].str.split(', ')\n",
    "df_genres = df_genres.explode('genre')\n",
    "\n",
    "# Clean genre column\n",
    "df_genres['genre'] = df_genres['genre'].str.strip()\n",
    "df_genres = df_genres[df_genres['genre'].str.lower() != 'unknown']\n",
    "df_genres = df_genres[df_genres['genre'] != '']\n",
    "\n",
    "# drop duplicates\n",
    "df_genres.drop_duplicates(inplace=True)\n"
   ]
  },
  {
   "cell_type": "markdown",
   "id": "dbaf6be8-d7f7-4743-8387-df3d832d41ab",
   "metadata": {},
   "source": [
    "#### Add the splited column to original data"
   ]
  },
  {
   "cell_type": "code",
   "execution_count": 50,
   "id": "4013c34f-7983-41ca-941d-0bfddd96c50f",
   "metadata": {},
   "outputs": [],
   "source": [
    "df = df.dropna(subset=['listed_in']).copy()\n",
    "df['genre'] = df['listed_in'].str.split(', ')\n",
    "df = df.explode('genre')\n",
    "df['genre'] = df['genre'].str.strip()\n",
    "df = df.dropna(subset=['cast']).copy()\n",
    "df['actor'] = df['cast'].str.split(', ')\n",
    "df = df.explode('actor')\n",
    "df['actor'] = df['actor'].str.strip()"
   ]
  },
  {
   "cell_type": "code",
   "execution_count": 51,
   "id": "c526544c-17b9-472d-87ac-4fc86938cb6b",
   "metadata": {},
   "outputs": [
    {
     "data": {
      "text/html": [
       "<div>\n",
       "<style scoped>\n",
       "    .dataframe tbody tr th:only-of-type {\n",
       "        vertical-align: middle;\n",
       "    }\n",
       "\n",
       "    .dataframe tbody tr th {\n",
       "        vertical-align: top;\n",
       "    }\n",
       "\n",
       "    .dataframe thead th {\n",
       "        text-align: right;\n",
       "    }\n",
       "</style>\n",
       "<table border=\"1\" class=\"dataframe\">\n",
       "  <thead>\n",
       "    <tr style=\"text-align: right;\">\n",
       "      <th></th>\n",
       "      <th>show_id</th>\n",
       "      <th>type</th>\n",
       "      <th>title</th>\n",
       "      <th>director</th>\n",
       "      <th>cast</th>\n",
       "      <th>country</th>\n",
       "      <th>date_added</th>\n",
       "      <th>release_year</th>\n",
       "      <th>rating</th>\n",
       "      <th>duration</th>\n",
       "      <th>listed_in</th>\n",
       "      <th>description</th>\n",
       "      <th>added_year</th>\n",
       "      <th>genre</th>\n",
       "      <th>actor</th>\n",
       "      <th>year_gap</th>\n",
       "      <th>listed_in_split</th>\n",
       "      <th>Platform</th>\n",
       "    </tr>\n",
       "  </thead>\n",
       "  <tbody>\n",
       "    <tr>\n",
       "      <th>0</th>\n",
       "      <td>s1</td>\n",
       "      <td>Movie</td>\n",
       "      <td>Dick Johnson Is Dead</td>\n",
       "      <td>Kirsten Johnson</td>\n",
       "      <td>Jace Chapman, Larisa Oleynik, Tom Everett Scot...</td>\n",
       "      <td>Netherlands</td>\n",
       "      <td>2018-10-12</td>\n",
       "      <td>2015</td>\n",
       "      <td>TV-14</td>\n",
       "      <td>112 min</td>\n",
       "      <td>Comedies, International Movies, Romantic Movies</td>\n",
       "      <td>Chipper baby boomer Kath, diva daughter Kim an...</td>\n",
       "      <td>2018.0</td>\n",
       "      <td>Comedies</td>\n",
       "      <td>Jace Chapman</td>\n",
       "      <td>3.0</td>\n",
       "      <td>['Comedies', 'International Movies', 'Romantic...</td>\n",
       "      <td>Netflix</td>\n",
       "    </tr>\n",
       "    <tr>\n",
       "      <th>0</th>\n",
       "      <td>s1</td>\n",
       "      <td>Movie</td>\n",
       "      <td>Dick Johnson Is Dead</td>\n",
       "      <td>Kirsten Johnson</td>\n",
       "      <td>Jace Chapman, Larisa Oleynik, Tom Everett Scot...</td>\n",
       "      <td>Netherlands</td>\n",
       "      <td>2018-10-12</td>\n",
       "      <td>2015</td>\n",
       "      <td>TV-14</td>\n",
       "      <td>112 min</td>\n",
       "      <td>Comedies, International Movies, Romantic Movies</td>\n",
       "      <td>Chipper baby boomer Kath, diva daughter Kim an...</td>\n",
       "      <td>2018.0</td>\n",
       "      <td>Comedies</td>\n",
       "      <td>Larisa Oleynik</td>\n",
       "      <td>3.0</td>\n",
       "      <td>['Comedies', 'International Movies', 'Romantic...</td>\n",
       "      <td>Netflix</td>\n",
       "    </tr>\n",
       "    <tr>\n",
       "      <th>0</th>\n",
       "      <td>s1</td>\n",
       "      <td>Movie</td>\n",
       "      <td>Dick Johnson Is Dead</td>\n",
       "      <td>Kirsten Johnson</td>\n",
       "      <td>Jace Chapman, Larisa Oleynik, Tom Everett Scot...</td>\n",
       "      <td>Netherlands</td>\n",
       "      <td>2018-10-12</td>\n",
       "      <td>2015</td>\n",
       "      <td>TV-14</td>\n",
       "      <td>112 min</td>\n",
       "      <td>Comedies, International Movies, Romantic Movies</td>\n",
       "      <td>Chipper baby boomer Kath, diva daughter Kim an...</td>\n",
       "      <td>2018.0</td>\n",
       "      <td>Comedies</td>\n",
       "      <td>Tom Everett Scott</td>\n",
       "      <td>3.0</td>\n",
       "      <td>['Comedies', 'International Movies', 'Romantic...</td>\n",
       "      <td>Netflix</td>\n",
       "    </tr>\n",
       "    <tr>\n",
       "      <th>0</th>\n",
       "      <td>s1</td>\n",
       "      <td>Movie</td>\n",
       "      <td>Dick Johnson Is Dead</td>\n",
       "      <td>Kirsten Johnson</td>\n",
       "      <td>Jace Chapman, Larisa Oleynik, Tom Everett Scot...</td>\n",
       "      <td>Netherlands</td>\n",
       "      <td>2018-10-12</td>\n",
       "      <td>2015</td>\n",
       "      <td>TV-14</td>\n",
       "      <td>112 min</td>\n",
       "      <td>Comedies, International Movies, Romantic Movies</td>\n",
       "      <td>Chipper baby boomer Kath, diva daughter Kim an...</td>\n",
       "      <td>2018.0</td>\n",
       "      <td>Comedies</td>\n",
       "      <td>Steve Zahn</td>\n",
       "      <td>3.0</td>\n",
       "      <td>['Comedies', 'International Movies', 'Romantic...</td>\n",
       "      <td>Netflix</td>\n",
       "    </tr>\n",
       "    <tr>\n",
       "      <th>0</th>\n",
       "      <td>s1</td>\n",
       "      <td>Movie</td>\n",
       "      <td>Dick Johnson Is Dead</td>\n",
       "      <td>Kirsten Johnson</td>\n",
       "      <td>Jace Chapman, Larisa Oleynik, Tom Everett Scot...</td>\n",
       "      <td>Netherlands</td>\n",
       "      <td>2018-10-12</td>\n",
       "      <td>2015</td>\n",
       "      <td>TV-14</td>\n",
       "      <td>112 min</td>\n",
       "      <td>Comedies, International Movies, Romantic Movies</td>\n",
       "      <td>Chipper baby boomer Kath, diva daughter Kim an...</td>\n",
       "      <td>2018.0</td>\n",
       "      <td>Comedies</td>\n",
       "      <td>Mauricio Lara</td>\n",
       "      <td>3.0</td>\n",
       "      <td>['Comedies', 'International Movies', 'Romantic...</td>\n",
       "      <td>Netflix</td>\n",
       "    </tr>\n",
       "  </tbody>\n",
       "</table>\n",
       "</div>"
      ],
      "text/plain": [
       "  show_id   type                 title         director  \\\n",
       "0      s1  Movie  Dick Johnson Is Dead  Kirsten Johnson   \n",
       "0      s1  Movie  Dick Johnson Is Dead  Kirsten Johnson   \n",
       "0      s1  Movie  Dick Johnson Is Dead  Kirsten Johnson   \n",
       "0      s1  Movie  Dick Johnson Is Dead  Kirsten Johnson   \n",
       "0      s1  Movie  Dick Johnson Is Dead  Kirsten Johnson   \n",
       "\n",
       "                                                cast      country  date_added  \\\n",
       "0  Jace Chapman, Larisa Oleynik, Tom Everett Scot...  Netherlands  2018-10-12   \n",
       "0  Jace Chapman, Larisa Oleynik, Tom Everett Scot...  Netherlands  2018-10-12   \n",
       "0  Jace Chapman, Larisa Oleynik, Tom Everett Scot...  Netherlands  2018-10-12   \n",
       "0  Jace Chapman, Larisa Oleynik, Tom Everett Scot...  Netherlands  2018-10-12   \n",
       "0  Jace Chapman, Larisa Oleynik, Tom Everett Scot...  Netherlands  2018-10-12   \n",
       "\n",
       "   release_year rating duration  \\\n",
       "0          2015  TV-14  112 min   \n",
       "0          2015  TV-14  112 min   \n",
       "0          2015  TV-14  112 min   \n",
       "0          2015  TV-14  112 min   \n",
       "0          2015  TV-14  112 min   \n",
       "\n",
       "                                         listed_in  \\\n",
       "0  Comedies, International Movies, Romantic Movies   \n",
       "0  Comedies, International Movies, Romantic Movies   \n",
       "0  Comedies, International Movies, Romantic Movies   \n",
       "0  Comedies, International Movies, Romantic Movies   \n",
       "0  Comedies, International Movies, Romantic Movies   \n",
       "\n",
       "                                         description  added_year     genre  \\\n",
       "0  Chipper baby boomer Kath, diva daughter Kim an...      2018.0  Comedies   \n",
       "0  Chipper baby boomer Kath, diva daughter Kim an...      2018.0  Comedies   \n",
       "0  Chipper baby boomer Kath, diva daughter Kim an...      2018.0  Comedies   \n",
       "0  Chipper baby boomer Kath, diva daughter Kim an...      2018.0  Comedies   \n",
       "0  Chipper baby boomer Kath, diva daughter Kim an...      2018.0  Comedies   \n",
       "\n",
       "               actor  year_gap  \\\n",
       "0       Jace Chapman       3.0   \n",
       "0     Larisa Oleynik       3.0   \n",
       "0  Tom Everett Scott       3.0   \n",
       "0         Steve Zahn       3.0   \n",
       "0      Mauricio Lara       3.0   \n",
       "\n",
       "                                     listed_in_split Platform  \n",
       "0  ['Comedies', 'International Movies', 'Romantic...  Netflix  \n",
       "0  ['Comedies', 'International Movies', 'Romantic...  Netflix  \n",
       "0  ['Comedies', 'International Movies', 'Romantic...  Netflix  \n",
       "0  ['Comedies', 'International Movies', 'Romantic...  Netflix  \n",
       "0  ['Comedies', 'International Movies', 'Romantic...  Netflix  "
      ]
     },
     "execution_count": 51,
     "metadata": {},
     "output_type": "execute_result"
    }
   ],
   "source": [
    "df.head()"
   ]
  },
  {
   "cell_type": "markdown",
   "id": "610c7e45-8d0d-4369-b305-2661ef46e030",
   "metadata": {},
   "source": [
    "# ✅ Basic Info\n"
   ]
  },
  {
   "cell_type": "code",
   "execution_count": 52,
   "id": "e04e3bc5-1e5a-41ed-91fa-b4a276c2b483",
   "metadata": {},
   "outputs": [
    {
     "name": "stdout",
     "output_type": "stream",
     "text": [
      "<class 'pandas.core.frame.DataFrame'>\n",
      "Index: 6112630 entries, 0 to 250013\n",
      "Data columns (total 18 columns):\n",
      " #   Column           Dtype  \n",
      "---  ------           -----  \n",
      " 0   show_id          object \n",
      " 1   type             object \n",
      " 2   title            object \n",
      " 3   director         object \n",
      " 4   cast             object \n",
      " 5   country          object \n",
      " 6   date_added       object \n",
      " 7   release_year     int64  \n",
      " 8   rating           object \n",
      " 9   duration         object \n",
      " 10  listed_in        object \n",
      " 11  description      object \n",
      " 12  added_year       Int64  \n",
      " 13  genre            object \n",
      " 14  actor            object \n",
      " 15  year_gap         float64\n",
      " 16  listed_in_split  object \n",
      " 17  Platform         object \n",
      "dtypes: Int64(1), float64(1), int64(1), object(15)\n",
      "memory usage: 891.9+ MB\n",
      "None\n",
      "       release_year   added_year      year_gap\n",
      "count  6.112630e+06    4053483.0  3.793716e+06\n",
      "mean   2.008940e+03  2018.668961  4.948621e+00\n",
      "std    1.750567e+01      1.36479  6.590469e+00\n",
      "min    1.920000e+03       2008.0  0.000000e+00\n",
      "25%    2.008000e+03       2018.0  1.000000e+00\n",
      "50%    2.016000e+03       2019.0  2.000000e+00\n",
      "75%    2.018000e+03       2020.0  5.000000e+00\n",
      "max    2.021000e+03       2021.0  8.300000e+01\n"
     ]
    }
   ],
   "source": [
    "df['added_year'] = pd.to_numeric(df['added_year'], errors='coerce')\n",
    "df['added_year'] = df['added_year'].astype('Int64') \n",
    "print(df.info())\n",
    "print(df.describe())"
   ]
  },
  {
   "cell_type": "code",
   "execution_count": 53,
   "id": "53de7b1d-9d89-40bc-927d-a7192dd621c5",
   "metadata": {},
   "outputs": [],
   "source": [
    "df.to_csv(\"cleaned_streaming_data.csv\", index=False)"
   ]
  },
  {
   "cell_type": "markdown",
   "id": "66945178-8fe6-4b39-8b07-aac4fed53de8",
   "metadata": {},
   "source": [
    "# Exploratory Analysis"
   ]
  },
  {
   "cell_type": "markdown",
   "id": "7121aec5-cabd-498e-a30b-b4fbca33ca78",
   "metadata": {},
   "source": [
    "##  Content Type Distribution"
   ]
  },
  {
   "cell_type": "code",
   "execution_count": 54,
   "id": "7dd5c1dc-5efc-4b92-8f97-217ada222560",
   "metadata": {},
   "outputs": [
    {
     "data": {
      "image/png": "[encoded data removed]",
      "text/plain": [
       "<Figure size 800x600 with 1 Axes>"
      ]
     },
     "metadata": {},
     "output_type": "display_data"
    }
   ],
   "source": [
    "plt.figure(figsize=(8,6))\n",
    "sns.countplot(x='Platform', hue='type', data=df)\n",
    "plt.title('Movies vs TV Shows per Platform')\n",
    "plt.show()"
   ]
  },
  {
   "cell_type": "markdown",
   "id": "acfb2313-759a-48f1-89c4-efcb2801d314",
   "metadata": {},
   "source": [
    "## Ratings ditribution"
   ]
  },
  {
   "cell_type": "code",
   "execution_count": 55,
   "id": "87154aad-54dd-44a4-a925-b904823545b1",
   "metadata": {},
   "outputs": [
    {
     "data": {
      "image/png": "[encoded data removed]",
      "text/plain": [
       "<Figure size 1200x600 with 1 Axes>"
      ]
     },
     "metadata": {},
     "output_type": "display_data"
    }
   ],
   "source": [
    "plt.figure(figsize=(12,6))\n",
    "sns.countplot(x='rating', hue='Platform', data=df)\n",
    "plt.title('Content Ratings across Platforms')\n",
    "plt.xticks(rotation=45)\n",
    "plt.show()"
   ]
  },
  {
   "cell_type": "markdown",
   "id": "f72e8b6c-bfcf-4a75-80bf-775683c6da73",
   "metadata": {},
   "source": [
    "## Extract Duration for Movies and TV Shows"
   ]
  },
  {
   "cell_type": "code",
   "execution_count": 56,
   "id": "4b6f0d7c-1c97-4dde-b493-b1c5a23f208b",
   "metadata": {},
   "outputs": [],
   "source": [
    "df_movies = df[df['type'] == 'Movie'].copy()\n",
    "df_movies['duration_minutes'] = df_movies['duration'].str.extract('(\\d+)').astype(float)\n",
    "\n",
    "df_tv = df[df['type'] == 'TV Show'].copy()\n",
    "df_tv['duration_seasons'] = df_tv['duration'].str.extract('(\\d+)').astype(float)\n"
   ]
  },
  {
   "cell_type": "code",
   "execution_count": 57,
   "id": "d9b602db-683a-496f-9f00-c5b44fa81fea",
   "metadata": {},
   "outputs": [
    {
     "name": "stdout",
     "output_type": "stream",
     "text": [
      "Average Movie Duration per Platform:\n",
      "Platform\n",
      "Amazon     102.460519\n",
      "Disney+     87.639010\n",
      "Netflix     62.883380\n",
      "Name: duration_minutes, dtype: float64\n",
      "\n",
      "Average TV Show Seasons per Platform:\n",
      "Platform\n",
      "Amazon      1.757273\n",
      "Disney+     2.434681\n",
      "Netflix    79.848357\n",
      "Name: duration_seasons, dtype: float64\n"
     ]
    }
   ],
   "source": [
    "print(\"Average Movie Duration per Platform:\")\n",
    "print(df_movies.groupby('Platform')['duration_minutes'].mean())\n",
    "\n",
    "print(\"\\nAverage TV Show Seasons per Platform:\")\n",
    "print(df_tv.groupby('Platform')['duration_seasons'].mean())\n"
   ]
  },
  {
   "cell_type": "markdown",
   "id": "38d0a3fe-326b-4043-bfcd-de0871b6ae9e",
   "metadata": {},
   "source": [
    "## Genre (listed_in) Analysis"
   ]
  },
  {
   "cell_type": "code",
   "execution_count": 58,
   "id": "5e43942f-7f66-445e-9bfd-bee53e4c376c",
   "metadata": {},
   "outputs": [
    {
     "name": "stdout",
     "output_type": "stream",
     "text": [
      "Netflix Top Genres: [('International Movies', 21765), ('Dramas', 19169), ('Comedies', 13641), ('International TV Shows', 10628), ('Documentaries', 7353)]\n",
      "Amazon Top Genres: [('Drama', 21135), ('Comedy', 11224), ('Action', 9086), ('Suspense', 8660), ('Horror', 4316)]\n",
      "Disney+ Top Genres: [('Comedy', 2584), ('Family', 2545), ('Action-Adventure', 2359), ('Animation', 2258), ('Coming of Age', 1166)]\n"
     ]
    }
   ],
   "source": [
    "def get_top_genres(data, genre):\n",
    "    genre_series = data['genre'].dropna().str.split(', ')\n",
    "    flat = [genre.strip() for sublist in genre_series for genre in sublist]\n",
    "    return Counter(flat).most_common(5)\n",
    "\n",
    "# Replace 'listed_in' with the actual column name from your datasets\n",
    "print(\"Netflix Top Genres:\", get_top_genres(netflix, 'genre'))\n",
    "print(\"Amazon Top Genres:\", get_top_genres(amazon, 'genre'))\n",
    "print(\"Disney+ Top Genres:\", get_top_genres(disney, 'genre'))\n",
    "\n"
   ]
  },
  {
   "cell_type": "markdown",
   "id": "f7a78ebd-3d5e-4840-bd57-540e96f8a009",
   "metadata": {},
   "source": [
    "## Release Year Trends"
   ]
  },
  {
   "cell_type": "code",
   "execution_count": 59,
   "id": "b17aca07-e44c-4f09-8d94-f20df1b1cf71",
   "metadata": {},
   "outputs": [
    {
     "data": {
      "image/png": "[encoded data removed]",
      "text/plain": [
       "<Figure size 800x600 with 1 Axes>"
      ]
     },
     "metadata": {},
     "output_type": "display_data"
    }
   ],
   "source": [
    "top_years = df['release_year'].value_counts().head(5).index\n",
    "df_top_years = df[df['release_year'].isin(top_years)]\n",
    "plt.figure(figsize=(8,6))\n",
    "sns.countplot(x='release_year', hue='Platform', data=df_top_years, order=sorted(top_years))\n",
    "plt.title('Content Count in Top 5 Release Years by Platform')\n",
    "plt.show()\n"
   ]
  },
  {
   "cell_type": "markdown",
   "id": "59ed5a7e-db97-49cd-abf1-05e6dd6731f3",
   "metadata": {},
   "source": [
    "## Country-wise Content Distribution"
   ]
  },
  {
   "cell_type": "code",
   "execution_count": 60,
   "id": "eb6b9e32-fca3-4ed9-9401-c2e719c2d639",
   "metadata": {},
   "outputs": [
    {
     "data": {
      "text/plain": [
       "country\n",
       "United States     1705185\n",
       "India              486802\n",
       "United Kingdom     170825\n",
       "Japan              145843\n",
       "South Korea        126779\n",
       "Canada             122450\n",
       "Mexico              73960\n",
       "Nigeria             69595\n",
       "Indonesia           54594\n",
       "France              45507\n",
       "Name: count, dtype: int64"
      ]
     },
     "execution_count": 60,
     "metadata": {},
     "output_type": "execute_result"
    }
   ],
   "source": [
    "df[df['country'] != 'Unknown']['country'].value_counts().head(10)"
   ]
  },
  {
   "cell_type": "markdown",
   "id": "38af6051-948f-4d2c-8ade-c3bb23bbcb1c",
   "metadata": {},
   "source": [
    "## Average Movie Duration by Genre & Platform"
   ]
  },
  {
   "cell_type": "code",
   "execution_count": 61,
   "id": "f21992f0-d84d-4390-a61b-1c49255b67bf",
   "metadata": {},
   "outputs": [
    {
     "data": {
      "text/plain": [
       "Platform  genre                    \n",
       "Netflix   Stand-Up Comedy              143.667702\n",
       "Amazon    International                138.324236\n",
       "Netflix   Documentaries                127.779504\n",
       "          Science & Nature TV          125.196562\n",
       "          Spanish-Language TV Shows    122.063746\n",
       "Amazon    Fantasy                      120.280369\n",
       "Netflix   TV Mysteries                 120.208675\n",
       "Amazon    Romance                      116.768594\n",
       "Disney+   Spy/Espionage                116.000000\n",
       "Netflix   Docuseries                   114.766358\n",
       "Name: duration_minutes, dtype: float64"
      ]
     },
     "execution_count": 61,
     "metadata": {},
     "output_type": "execute_result"
    }
   ],
   "source": [
    "df_movies = df[df['type'] == 'Movie'].copy()\n",
    "df_movies['duration_minutes'] = df_movies['duration'].str.extract('(\\d+)').astype(float)\n",
    "\n",
    "df_movies.groupby(['Platform', 'genre'])['duration_minutes'].mean().sort_values(ascending=False).head(10)"
   ]
  },
  {
   "cell_type": "markdown",
   "id": "f7a53066-4b91-47f1-b4b8-db1a86261cf4",
   "metadata": {},
   "source": [
    "## Most Featured Directors per Platform"
   ]
  },
  {
   "cell_type": "code",
   "execution_count": 62,
   "id": "970fc9e2-54c4-41e3-893a-705174f592d2",
   "metadata": {},
   "outputs": [
    {
     "name": "stdout",
     "output_type": "stream",
     "text": [
      "\n",
      "Top Directors in Netflix\n",
      "director\n",
      "Manish Jha         23229\n",
      "Daniel McCabe      19881\n",
      "Martin Scorsese    18583\n",
      "Name: count, dtype: int64\n",
      "\n",
      "Top Directors in Amazon\n",
      "director\n",
      "Richard Whorf     52048\n",
      "Tom Shadyac       47961\n",
      "Peter Cattaneo    40000\n",
      "Name: count, dtype: int64\n",
      "\n",
      "Top Directors in Disney+\n",
      "director\n",
      "Paul Hoen           4176\n",
      "Robert Stevenson    3888\n",
      "Vincent McEveety    2880\n",
      "Name: count, dtype: int64\n"
     ]
    }
   ],
   "source": [
    "for platform in df['Platform'].unique():\n",
    "    print(f\"\\nTop Directors in {platform}\")\n",
    "    directors = df[(df['Platform'] == platform) & (df['director'] != 'Unknown')]['director']\n",
    "    print(directors.value_counts().head(3))"
   ]
  },
  {
   "cell_type": "code",
   "execution_count": 63,
   "id": "1f723288-739b-4910-a3b3-5bbcb0a247d2",
   "metadata": {},
   "outputs": [
    {
     "data": {
      "image/png": "[encoded data removed]",
      "text/plain": [
       "<Figure size 800x600 with 1 Axes>"
      ]
     },
     "metadata": {},
     "output_type": "display_data"
    }
   ],
   "source": [
    "top_years = df['release_year'].value_counts().head(5).index\n",
    "df_top_years = df[df['release_year'].isin(top_years)]\n",
    "plt.figure(figsize=(8,6))\n",
    "sns.countplot(x='release_year', hue='Platform', data=df_top_years, order=sorted(top_years))\n",
    "plt.title('Content Count in Top 5 Release Years by Platform')\n",
    "plt.show()"
   ]
  },
  {
   "cell_type": "markdown",
   "id": "b4fef8d9-4cbd-4242-8ef0-4384586efc3e",
   "metadata": {},
   "source": [
    "## FOR DASHBOARD"
   ]
  },
  {
   "cell_type": "markdown",
   "id": "da969b6c-57ba-4cf0-b03d-74d2c7a89da2",
   "metadata": {},
   "source": [
    "#### Total Titles per Platform"
   ]
  },
  {
   "cell_type": "code",
   "execution_count": 90,
   "id": "c10f0f6f-174a-4872-8993-2937995cd287",
   "metadata": {},
   "outputs": [
    {
     "name": "stdout",
     "output_type": "stream",
     "text": [
      "19910\n"
     ]
    }
   ],
   "source": [
    "unique_titles = df[['title', 'Platform']].drop_duplicates()\n",
    "platform_counts = unique_titles['Platform'].value_counts().sum()\n",
    "\n",
    "print(platform_counts)\n"
   ]
  },
  {
   "cell_type": "markdown",
   "id": "ccf517cd-b884-44f8-9dd4-1621c1abc014",
   "metadata": {},
   "source": [
    "#### Average Movie Duration"
   ]
  },
  {
   "cell_type": "code",
   "execution_count": 91,
   "id": "0f787f91-6109-42e7-9e5c-aec24e9ac6ca",
   "metadata": {},
   "outputs": [
    {
     "name": "stdout",
     "output_type": "stream",
     "text": [
      "Average Movie duration is: 78\n",
      "    type duration duration_minutes\n",
      "0  Movie  112 min              NaN\n",
      "1  Movie  112 min              NaN\n",
      "2  Movie  112 min              NaN\n",
      "3  Movie  112 min              NaN\n",
      "4  Movie  112 min              NaN\n"
     ]
    }
   ],
   "source": [
    "# Step-1: Separate Movies and TV Shows \n",
    "movies = df[df['type'] == 'Movie']\n",
    "tv_shows = df[df['type'] == 'TV Show']\n",
    "\n",
    "#Step-2: Extract duration in minutes for movie\n",
    "movies = df[df['type'] == 'Movie'].copy()\n",
    "movies['duration_minutes'] = movies['duration'].str.extract('(\\d+)')\n",
    "movies['duration_minutes'] = movies['duration_minutes'].astype(float)\n",
    "\n",
    "#Step-3: Print the average movie duration\n",
    "print(\"Average Movie duration is:\", int(movies['duration_minutes'].mean()))\n",
    "\n",
    "\n",
    "df = df.copy()\n",
    "\n",
    "# Step 2: Initialize duration_minutes column with NaN\n",
    "df['duration_minutes'] = None\n",
    "\n",
    "# Step 3: Extract numeric duration only for movies\n",
    "movie_mask = df['type'] == 'Movie'\n",
    "df.loc[movie_mask, 'duration_minutes'] = (\n",
    "    df.loc[movie_mask, 'duration']\n",
    "    .str.extract(r'(\\d+)')\n",
    "    .astype(float)\n",
    ")\n",
    "\n",
    "# Optional: Check the result\n",
    "print(df[['type', 'duration', 'duration_minutes']].head())"
   ]
  },
  {
   "cell_type": "markdown",
   "id": "57e119a3-3b1b-404d-9afe-b76128effe24",
   "metadata": {},
   "source": [
    "#### Dominant Type"
   ]
  },
  {
   "cell_type": "code",
   "execution_count": 66,
   "id": "743f0986-fc37-48d9-bd0d-b9316586e3fd",
   "metadata": {},
   "outputs": [
    {
     "name": "stdout",
     "output_type": "stream",
     "text": [
      "Content Type Distribution:\n",
      "type\n",
      "Movie      4928916\n",
      "TV Show    1183714\n",
      "Name: count, dtype: int64\n"
     ]
    }
   ],
   "source": [
    "type_distribution = df['type'].value_counts()\n",
    "print(\"Content Type Distribution:\")\n",
    "print(type_distribution)"
   ]
  },
  {
   "cell_type": "markdown",
   "id": "a8416135-2cfd-4639-9e01-ba573a4a407c",
   "metadata": {},
   "source": [
    "#### Most common genere"
   ]
  },
  {
   "cell_type": "code",
   "execution_count": 67,
   "id": "2084b720-303c-4ba5-a257-f973844c68ce",
   "metadata": {},
   "outputs": [
    {
     "name": "stdout",
     "output_type": "stream",
     "text": [
      "                    Genre   Count\n",
      "0    International Movies  574301\n",
      "1                  Dramas  499908\n",
      "2                   Drama  482203\n",
      "3                Comedies  357043\n",
      "4  International TV Shows  323587\n",
      "5                  Comedy  295042\n",
      "6                Suspense  206556\n",
      "7                  Action  200377\n",
      "8      Independent Movies  181645\n",
      "9      Action & Adventure  173863\n"
     ]
    }
   ],
   "source": [
    "from collections import Counter\n",
    "\n",
    "# If your column is named 'genre'\n",
    "genre_series = df['genre'].dropna().str.split(', ')\n",
    "flat_genres = [genre.strip() for sublist in genre_series for genre in sublist]\n",
    "genre_counts = Counter(flat_genres)\n",
    "\n",
    "# Convert to DataFrame\n",
    "top_genres_df = pd.DataFrame(genre_counts.most_common(10), columns=['Genre', 'Count'])\n",
    "\n",
    "# Preview\n",
    "print(top_genres_df)"
   ]
  },
  {
   "cell_type": "markdown",
   "id": "07de2560-709b-44f9-9d5e-4fbf12068caf",
   "metadata": {},
   "source": [
    "#### Top release year"
   ]
  },
  {
   "cell_type": "code",
   "execution_count": 68,
   "id": "3eefee94-8ab4-40f9-89dd-5ef873faf647",
   "metadata": {},
   "outputs": [
    {
     "name": "stdout",
     "output_type": "stream",
     "text": [
      "Top 5 Release Years on Netflix:\n",
      "release_year\n",
      "2019    729711\n",
      "2018    684998\n",
      "2017    535057\n",
      "2016    449342\n",
      "2020    428645\n",
      "Name: count, dtype: int64\n"
     ]
    }
   ],
   "source": [
    "top_years = df['release_year'].value_counts().head(5)\n",
    "print(\"Top 5 Release Years on Netflix:\")\n",
    "print(top_years)"
   ]
  },
  {
   "cell_type": "markdown",
   "id": "41ec1e97-11a4-4824-a022-85bdf58628d3",
   "metadata": {},
   "source": [
    "#### 1)Content Release Trend by Year"
   ]
  },
  {
   "cell_type": "code",
   "execution_count": 69,
   "id": "27f515c7-736a-47d0-80ff-532a6e1ea8d4",
   "metadata": {},
   "outputs": [
    {
     "data": {
      "image/png": "[encoded data removed]",
      "text/plain": [
       "<Figure size 1200x600 with 1 Axes>"
      ]
     },
     "metadata": {},
     "output_type": "display_data"
    }
   ],
   "source": [
    "import matplotlib.pyplot as plt\n",
    "import seaborn as sns\n",
    "\n",
    "# Reset index to avoid duplicate label issues\n",
    "df = df.reset_index(drop=True)\n",
    "\n",
    "# Get last 15 years\n",
    "year_order = sorted(df['release_year'].unique())[-15:]\n",
    "\n",
    "# Plot\n",
    "plt.figure(figsize=(12,6))\n",
    "sns.countplot(data=df, x='release_year', hue='Platform', order=year_order)\n",
    "plt.xticks(rotation=45)\n",
    "plt.title(\"Content Released Over Years by Platform\")\n",
    "plt.xlabel(\"Release Year\")\n",
    "plt.ylabel(\"Number of Titles\")\n",
    "plt.legend(title=\"Platform\")\n",
    "plt.tight_layout()\n",
    "plt.show()"
   ]
  },
  {
   "cell_type": "markdown",
   "id": "3050b3bf-d1e4-4216-9ec1-1d02be64a46b",
   "metadata": {},
   "source": [
    "#### 2)Rating Distribution"
   ]
  },
  {
   "cell_type": "code",
   "execution_count": 70,
   "id": "05501e27-e572-46e7-bb10-360b8e9c6441",
   "metadata": {},
   "outputs": [
    {
     "data": {
      "image/png": "[encoded data removed]",
      "text/plain": [
       "<Figure size 1000x600 with 1 Axes>"
      ]
     },
     "metadata": {},
     "output_type": "display_data"
    }
   ],
   "source": [
    "import pandas as pd\n",
    "\n",
    "rating_counts = df.groupby(['Platform', 'rating']).size().reset_index(name='count')\n",
    "pivot_rating = rating_counts.pivot(index='rating', columns='Platform', values='count').fillna(0)\n",
    "pivot_rating = pivot_rating.sort_values(by='Netflix', ascending=False).head(10)\n",
    "\n",
    "pivot_rating.plot(kind='bar', stacked=True, figsize=(10,6))\n",
    "plt.title(\"Top Ratings Distribution Across Platforms\")\n",
    "plt.xlabel(\"Rating\")\n",
    "plt.ylabel(\"Number of Titles\")\n",
    "plt.tight_layout()\n",
    "plt.show()"
   ]
  },
  {
   "cell_type": "markdown",
   "id": "f31e7380-4990-43c7-bc72-6e29f764ad70",
   "metadata": {},
   "source": [
    "#### 3)Top Occuring Movie"
   ]
  },
  {
   "cell_type": "code",
   "execution_count": 71,
   "id": "2c7c191f-dcb6-430c-ba15-e7eb1a14627b",
   "metadata": {},
   "outputs": [
    {
     "data": {
      "text/html": [
       "<div>\n",
       "<style scoped>\n",
       "    .dataframe tbody tr th:only-of-type {\n",
       "        vertical-align: middle;\n",
       "    }\n",
       "\n",
       "    .dataframe tbody tr th {\n",
       "        vertical-align: top;\n",
       "    }\n",
       "\n",
       "    .dataframe thead th {\n",
       "        text-align: right;\n",
       "    }\n",
       "</style>\n",
       "<table border=\"1\" class=\"dataframe\">\n",
       "  <thead>\n",
       "    <tr style=\"text-align: right;\">\n",
       "      <th></th>\n",
       "      <th>Title</th>\n",
       "      <th>Count</th>\n",
       "    </tr>\n",
       "  </thead>\n",
       "  <tbody>\n",
       "    <tr>\n",
       "      <th>0</th>\n",
       "      <td>Till The Clouds Roll By</td>\n",
       "      <td>51984</td>\n",
       "    </tr>\n",
       "    <tr>\n",
       "      <th>1</th>\n",
       "      <td>Evan Almighty</td>\n",
       "      <td>48186</td>\n",
       "    </tr>\n",
       "    <tr>\n",
       "      <th>2</th>\n",
       "      <td>The Rocker</td>\n",
       "      <td>40000</td>\n",
       "    </tr>\n",
       "    <tr>\n",
       "      <th>3</th>\n",
       "      <td>Something To Sing About</td>\n",
       "      <td>40000</td>\n",
       "    </tr>\n",
       "    <tr>\n",
       "      <th>4</th>\n",
       "      <td>American Me</td>\n",
       "      <td>34957</td>\n",
       "    </tr>\n",
       "    <tr>\n",
       "      <th>5</th>\n",
       "      <td>Anwar</td>\n",
       "      <td>22500</td>\n",
       "    </tr>\n",
       "    <tr>\n",
       "      <th>6</th>\n",
       "      <td>NOVA: Prediction by the Numbers</td>\n",
       "      <td>19881</td>\n",
       "    </tr>\n",
       "    <tr>\n",
       "      <th>7</th>\n",
       "      <td>10 Things I Hate About You</td>\n",
       "      <td>17748</td>\n",
       "    </tr>\n",
       "    <tr>\n",
       "      <th>8</th>\n",
       "      <td>Knight and Day (Extended Edition)</td>\n",
       "      <td>17424</td>\n",
       "    </tr>\n",
       "    <tr>\n",
       "      <th>9</th>\n",
       "      <td>Bail Out</td>\n",
       "      <td>17424</td>\n",
       "    </tr>\n",
       "  </tbody>\n",
       "</table>\n",
       "</div>"
      ],
      "text/plain": [
       "                               Title  Count\n",
       "0            Till The Clouds Roll By  51984\n",
       "1                      Evan Almighty  48186\n",
       "2                         The Rocker  40000\n",
       "3            Something To Sing About  40000\n",
       "4                        American Me  34957\n",
       "5                              Anwar  22500\n",
       "6    NOVA: Prediction by the Numbers  19881\n",
       "7         10 Things I Hate About You  17748\n",
       "8  Knight and Day (Extended Edition)  17424\n",
       "9                           Bail Out  17424"
      ]
     },
     "execution_count": 71,
     "metadata": {},
     "output_type": "execute_result"
    }
   ],
   "source": [
    "top_titles = df['title'].value_counts().head(10).reset_index()\n",
    "top_titles.columns = ['Title', 'Count']\n",
    "top_titles"
   ]
  },
  {
   "cell_type": "markdown",
   "id": "a395caf3-5550-41df-9bb3-7248f24ba183",
   "metadata": {},
   "source": [
    "#### 4)Top cast members"
   ]
  },
  {
   "cell_type": "code",
   "execution_count": 80,
   "id": "4a645b63-2ce4-497c-b4bc-d9328f2c56a3",
   "metadata": {},
   "outputs": [
    {
     "name": "stdout",
     "output_type": "stream",
     "text": [
      "              Actor  Unique_Title_Count\n",
      "0       Anupam Kher                  60\n",
      "1    Maggie Binkley                  56\n",
      "2  Amitabh Bachchan                  47\n",
      "3    Shah Rukh Khan                  46\n",
      "4      Jim Cummings                  44\n",
      "5            Nassar                  43\n",
      "6      Akshay Kumar                  41\n",
      "7       Danny Trejo                  39\n",
      "8  Naseeruddin Shah                  39\n",
      "9      Paresh Rawal                  39\n"
     ]
    }
   ],
   "source": [
    "import pandas as pd\n",
    "from collections import Counter\n",
    "\n",
    "# Step 1: Drop missing values in 'actor' and 'title' columns\n",
    "df_actor = df[['title', 'actor']].dropna().copy()\n",
    "\n",
    "# Step 2: Split actor string into a list\n",
    "df_actor['actor'] = df_actor['actor'].str.split(', ')\n",
    "\n",
    "# Step 3: Explode into multiple rows (one actor per row)\n",
    "df_actor = df_actor.explode('actor')\n",
    "\n",
    "# Step 4: Clean whitespace and remove 'unknown'\n",
    "df_actor['actor'] = df_actor['actor'].str.strip()\n",
    "df_actor = df_actor[df_actor['actor'].str.lower() != 'unknown']\n",
    "\n",
    "# Step 5: Drop duplicate title-actor pairs (ensures unique count)\n",
    "df_actor_unique = df_actor.drop_duplicates(subset=['title', 'actor'])\n",
    "\n",
    "# Step 6: Count top actors by unique appearances\n",
    "top_actors = df_actor_unique['actor'].value_counts().head(10)\n",
    "\n",
    "# Convert to DataFrame for easy viewing\n",
    "top_actors_df = top_actors.reset_index()\n",
    "top_actors_df.columns = ['Actor', 'Unique_Title_Count']\n",
    "\n",
    "print(top_actors_df)"
   ]
  },
  {
   "cell_type": "markdown",
   "id": "c44b21f5-a007-4b1d-97d9-76102d71dffe",
   "metadata": {},
   "source": [
    "#### 5)Top Directors"
   ]
  },
  {
   "cell_type": "code",
   "execution_count": 81,
   "id": "20cdd893-f2c3-4238-a100-2660875c6001",
   "metadata": {},
   "outputs": [
    {
     "name": "stdout",
     "output_type": "stream",
     "text": [
      "                Director  Unique_Title_Count\n",
      "0            Mark Knight                 114\n",
      "1          Cannis Holder                  62\n",
      "2            Jay Chapman                  42\n",
      "3  Moonbug Entertainment                  37\n",
      "4     Arthur van Merwijk                  30\n",
      "5        Manny Rodriguez                  28\n",
      "6              Jay Karas                  23\n",
      "7          Rajiv Chilaka                  22\n",
      "8              Jan Suter                  21\n",
      "9       Brian Volk-Weiss                  21\n"
     ]
    }
   ],
   "source": [
    "from collections import Counter\n",
    "\n",
    "# Drop missing values in 'director' and 'title'\n",
    "df_directors = df[['title', 'director']].dropna().copy()\n",
    "\n",
    "# Clean: split multiple directors, strip spaces\n",
    "df_directors['director'] = df_directors['director'].str.split(', ')\n",
    "df_directors = df_directors.explode('director')\n",
    "df_directors['director'] = df_directors['director'].str.strip()\n",
    "\n",
    "# Remove 'unknown' or blanks\n",
    "df_directors = df_directors[df_directors['director'].str.lower() != 'unknown']\n",
    "df_directors = df_directors[df_directors['director'] != '']\n",
    "\n",
    "# Drop duplicate (title, director) pairs to count unique contributions\n",
    "df_directors.drop_duplicates(subset=['title', 'director'], inplace=True)\n",
    "\n",
    "# Count number of unique titles per director\n",
    "top_directors = df_directors['director'].value_counts().head(10).reset_index()\n",
    "top_directors.columns = ['Director', 'Unique_Title_Count']\n",
    "\n",
    "# View result\n",
    "print(top_directors)\n"
   ]
  },
  {
   "cell_type": "markdown",
   "id": "35bf9acd-bb5d-4339-9eb6-9cebd2479c9f",
   "metadata": {},
   "source": [
    "#### 6)Genre Popularity"
   ]
  },
  {
   "cell_type": "code",
   "execution_count": 82,
   "id": "69c12274-22dd-49e8-9bd5-62a0f0f3ee98",
   "metadata": {},
   "outputs": [
    {
     "name": "stdout",
     "output_type": "stream",
     "text": [
      "                    Genre  Unique_Title_Count\n",
      "0                   Drama                3819\n",
      "1    International Movies                2752\n",
      "2                  Comedy                2620\n",
      "3                  Dramas                2427\n",
      "4                Comedies                1674\n",
      "5                  Action                1657\n",
      "6                Suspense                1501\n",
      "7  International TV Shows                1351\n",
      "8                    Kids                1225\n",
      "9             Documentary                1167\n"
     ]
    }
   ],
   "source": [
    "from collections import Counter\n",
    "\n",
    "# Drop missing values in 'genre' and 'title'\n",
    "df_genre = df[['title', 'genre']].dropna().copy()\n",
    "\n",
    "# Split genre column (assuming comma-separated values)\n",
    "df_genre['genre'] = df_genre['genre'].str.split(', ')\n",
    "df_genre = df_genre.explode('genre')\n",
    "\n",
    "# Clean genre names\n",
    "df_genre['genre'] = df_genre['genre'].str.strip()\n",
    "df_genre = df_genre[df_genre['genre'].str.lower() != 'unknown']\n",
    "df_genre = df_genre[df_genre['genre'] != '']\n",
    "\n",
    "# Drop duplicate title-genre pairs to count unique\n",
    "df_genre.drop_duplicates(subset=['title', 'genre'], inplace=True)\n",
    "\n",
    "# Count the number of unique titles per genre\n",
    "top_genres = df_genre['genre'].value_counts().head(10).reset_index()\n",
    "top_genres.columns = ['Genre', 'Unique_Title_Count']\n",
    "\n",
    "# Show result\n",
    "print(top_genres)\n"
   ]
  },
  {
   "cell_type": "code",
   "execution_count": 75,
   "id": "5350179e-d47e-4b88-9fca-ef437359552f",
   "metadata": {},
   "outputs": [
    {
     "name": "stdout",
     "output_type": "stream",
     "text": [
      "Top Actor from Disney+:\n",
      "          Actor  Count\n",
      "0  Jim Cummings   1528\n",
      "1  Jeff Bennett    750\n",
      "2   Bill Farmer    729\n",
      "3  Corey Burton    693\n",
      "4     Tim Allen    681\n"
     ]
    }
   ],
   "source": [
    "from collections import Counter\n",
    "import pandas as pd\n",
    "\n",
    "# Filter Disney+ data\n",
    "disney_df = df[df['Platform'].str.lower() == 'disney+']\n",
    "\n",
    "# Drop NaN and filter out 'unknown'\n",
    "actors = disney_df['actor'].dropna()\n",
    "actors = actors[actors.str.lower() != 'unknown']\n",
    "\n",
    "# Count actor occurrences\n",
    "top_actor = Counter(actors).most_common(5)\n",
    "\n",
    "# Convert to DataFrame\n",
    "top_actor_df = pd.DataFrame(top_actor, columns=['Actor', 'Count'])\n",
    "\n",
    "# Display\n",
    "print(\"Top Actor from Disney+:\")\n",
    "print(top_actor_df)\n"
   ]
  },
  {
   "cell_type": "code",
   "execution_count": 77,
   "id": "12602fe8-93c8-4b01-9d23-7eb9fb8c4195",
   "metadata": {},
   "outputs": [
    {
     "name": "stdout",
     "output_type": "stream",
     "text": [
      "<class 'pandas.core.frame.DataFrame'>\n",
      "RangeIndex: 6112630 entries, 0 to 6112629\n",
      "Data columns (total 18 columns):\n",
      " #   Column           Dtype  \n",
      "---  ------           -----  \n",
      " 0   show_id          object \n",
      " 1   type             object \n",
      " 2   title            object \n",
      " 3   director         object \n",
      " 4   cast             object \n",
      " 5   country          object \n",
      " 6   date_added       object \n",
      " 7   release_year     int64  \n",
      " 8   rating           object \n",
      " 9   duration         object \n",
      " 10  listed_in        object \n",
      " 11  description      object \n",
      " 12  added_year       Int64  \n",
      " 13  genre            object \n",
      " 14  actor            object \n",
      " 15  year_gap         float64\n",
      " 16  listed_in_split  object \n",
      " 17  Platform         object \n",
      "dtypes: Int64(1), float64(1), int64(1), object(15)\n",
      "memory usage: 845.3+ MB\n"
     ]
    }
   ],
   "source": [
    "df.info()"
   ]
  },
  {
   "cell_type": "code",
   "execution_count": 78,
   "id": "dc6adc5a-2a31-4ed8-9745-a0c4ec49b6c9",
   "metadata": {},
   "outputs": [],
   "source": [
    "df = df.drop(['show_id', 'cast', 'listed_in','description','listed_in_split'], axis=1)"
   ]
  },
  {
   "cell_type": "code",
   "execution_count": 79,
   "id": "7851346b-ba8d-40c9-9454-16bde4c0d2bf",
   "metadata": {},
   "outputs": [],
   "source": [
    "df.to_csv(\"cleaned_streaming_data.csv\", index=False)"
   ]
  },
  {
   "cell_type": "code",
   "execution_count": 83,
   "id": "eb137f69-c049-4110-90f9-21d1c1882a04",
   "metadata": {},
   "outputs": [
    {
     "name": "stdout",
     "output_type": "stream",
     "text": [
      "<class 'pandas.core.frame.DataFrame'>\n",
      "RangeIndex: 6112630 entries, 0 to 6112629\n",
      "Data columns (total 13 columns):\n",
      " #   Column        Dtype  \n",
      "---  ------        -----  \n",
      " 0   type          object \n",
      " 1   title         object \n",
      " 2   director      object \n",
      " 3   country       object \n",
      " 4   date_added    object \n",
      " 5   release_year  int64  \n",
      " 6   rating        object \n",
      " 7   duration      object \n",
      " 8   added_year    Int64  \n",
      " 9   genre         object \n",
      " 10  actor         object \n",
      " 11  year_gap      float64\n",
      " 12  Platform      object \n",
      "dtypes: Int64(1), float64(1), int64(1), object(10)\n",
      "memory usage: 612.1+ MB\n"
     ]
    }
   ],
   "source": [
    "df.info()\n"
   ]
  },
  {
   "cell_type": "code",
   "execution_count": 85,
   "id": "ea35c047-1fc9-4d71-81e1-8cdfde9cceec",
   "metadata": {},
   "outputs": [],
   "source": [
    "df = df.drop(['country','date_added','added_year','year_gap'], axis=1)"
   ]
  },
  {
   "cell_type": "code",
   "execution_count": 86,
   "id": "bf0c02fe-010c-4b90-be8f-efefbb676eb5",
   "metadata": {},
   "outputs": [],
   "source": [
    "df.to_csv(\"cleaned_streaming_data.csv\", index=False)"
   ]
  },
  {
   "cell_type": "code",
   "execution_count": 87,
   "id": "f9020cff-676c-4bb1-9e7b-162ce36c3ac7",
   "metadata": {},
   "outputs": [
    {
     "name": "stdout",
     "output_type": "stream",
     "text": [
      "<class 'pandas.core.frame.DataFrame'>\n",
      "RangeIndex: 6112630 entries, 0 to 6112629\n",
      "Data columns (total 9 columns):\n",
      " #   Column        Dtype \n",
      "---  ------        ----- \n",
      " 0   type          object\n",
      " 1   title         object\n",
      " 2   director      object\n",
      " 3   release_year  int64 \n",
      " 4   rating        object\n",
      " 5   duration      object\n",
      " 6   genre         object\n",
      " 7   actor         object\n",
      " 8   Platform      object\n",
      "dtypes: int64(1), object(8)\n",
      "memory usage: 419.7+ MB\n"
     ]
    }
   ],
   "source": [
    "df.info()"
   ]
  },
  {
   "cell_type": "code",
   "execution_count": 92,
   "id": "b31fe510-54b8-4a66-824e-3d2f8fe1a23e",
   "metadata": {},
   "outputs": [
    {
     "data": {
      "text/html": [
       "<div>\n",
       "<style scoped>\n",
       "    .dataframe tbody tr th:only-of-type {\n",
       "        vertical-align: middle;\n",
       "    }\n",
       "\n",
       "    .dataframe tbody tr th {\n",
       "        vertical-align: top;\n",
       "    }\n",
       "\n",
       "    .dataframe thead th {\n",
       "        text-align: right;\n",
       "    }\n",
       "</style>\n",
       "<table border=\"1\" class=\"dataframe\">\n",
       "  <thead>\n",
       "    <tr style=\"text-align: right;\">\n",
       "      <th></th>\n",
       "      <th>type</th>\n",
       "      <th>title</th>\n",
       "      <th>director</th>\n",
       "      <th>release_year</th>\n",
       "      <th>rating</th>\n",
       "      <th>duration</th>\n",
       "      <th>genre</th>\n",
       "      <th>actor</th>\n",
       "      <th>Platform</th>\n",
       "      <th>duration_minutes</th>\n",
       "    </tr>\n",
       "  </thead>\n",
       "  <tbody>\n",
       "    <tr>\n",
       "      <th>0</th>\n",
       "      <td>Movie</td>\n",
       "      <td>Dick Johnson Is Dead</td>\n",
       "      <td>Kirsten Johnson</td>\n",
       "      <td>2015</td>\n",
       "      <td>TV-14</td>\n",
       "      <td>112 min</td>\n",
       "      <td>Comedies</td>\n",
       "      <td>Jace Chapman</td>\n",
       "      <td>Netflix</td>\n",
       "      <td>NaN</td>\n",
       "    </tr>\n",
       "    <tr>\n",
       "      <th>1</th>\n",
       "      <td>Movie</td>\n",
       "      <td>Dick Johnson Is Dead</td>\n",
       "      <td>Kirsten Johnson</td>\n",
       "      <td>2015</td>\n",
       "      <td>TV-14</td>\n",
       "      <td>112 min</td>\n",
       "      <td>Comedies</td>\n",
       "      <td>Larisa Oleynik</td>\n",
       "      <td>Netflix</td>\n",
       "      <td>NaN</td>\n",
       "    </tr>\n",
       "    <tr>\n",
       "      <th>2</th>\n",
       "      <td>Movie</td>\n",
       "      <td>Dick Johnson Is Dead</td>\n",
       "      <td>Kirsten Johnson</td>\n",
       "      <td>2015</td>\n",
       "      <td>TV-14</td>\n",
       "      <td>112 min</td>\n",
       "      <td>Comedies</td>\n",
       "      <td>Tom Everett Scott</td>\n",
       "      <td>Netflix</td>\n",
       "      <td>NaN</td>\n",
       "    </tr>\n",
       "    <tr>\n",
       "      <th>3</th>\n",
       "      <td>Movie</td>\n",
       "      <td>Dick Johnson Is Dead</td>\n",
       "      <td>Kirsten Johnson</td>\n",
       "      <td>2015</td>\n",
       "      <td>TV-14</td>\n",
       "      <td>112 min</td>\n",
       "      <td>Comedies</td>\n",
       "      <td>Steve Zahn</td>\n",
       "      <td>Netflix</td>\n",
       "      <td>NaN</td>\n",
       "    </tr>\n",
       "    <tr>\n",
       "      <th>4</th>\n",
       "      <td>Movie</td>\n",
       "      <td>Dick Johnson Is Dead</td>\n",
       "      <td>Kirsten Johnson</td>\n",
       "      <td>2015</td>\n",
       "      <td>TV-14</td>\n",
       "      <td>112 min</td>\n",
       "      <td>Comedies</td>\n",
       "      <td>Mauricio Lara</td>\n",
       "      <td>Netflix</td>\n",
       "      <td>NaN</td>\n",
       "    </tr>\n",
       "  </tbody>\n",
       "</table>\n",
       "</div>"
      ],
      "text/plain": [
       "    type                 title         director  release_year rating duration  \\\n",
       "0  Movie  Dick Johnson Is Dead  Kirsten Johnson          2015  TV-14  112 min   \n",
       "1  Movie  Dick Johnson Is Dead  Kirsten Johnson          2015  TV-14  112 min   \n",
       "2  Movie  Dick Johnson Is Dead  Kirsten Johnson          2015  TV-14  112 min   \n",
       "3  Movie  Dick Johnson Is Dead  Kirsten Johnson          2015  TV-14  112 min   \n",
       "4  Movie  Dick Johnson Is Dead  Kirsten Johnson          2015  TV-14  112 min   \n",
       "\n",
       "      genre              actor Platform duration_minutes  \n",
       "0  Comedies       Jace Chapman  Netflix              NaN  \n",
       "1  Comedies     Larisa Oleynik  Netflix              NaN  \n",
       "2  Comedies  Tom Everett Scott  Netflix              NaN  \n",
       "3  Comedies         Steve Zahn  Netflix              NaN  \n",
       "4  Comedies      Mauricio Lara  Netflix              NaN  "
      ]
     },
     "execution_count": 92,
     "metadata": {},
     "output_type": "execute_result"
    }
   ],
   "source": [
    "df.head()"
   ]
  },
  {
   "cell_type": "code",
   "execution_count": null,
   "id": "ab4b491b-75e0-48c9-9a3c-c7f643ef33b6",
   "metadata": {},
   "outputs": [],
   "source": []
  }
 ],
 "metadata": {
  "kernelspec": {
   "display_name": "Python 3 (ipykernel)",
   "language": "python",
   "name": "python3"
  },
  "language_info": {
   "codemirror_mode": {
    "name": "ipython",
    "version": 3
   },
   "file_extension": ".py",
   "mimetype": "text/x-python",
   "name": "python",
   "nbconvert_exporter": "python",
   "pygments_lexer": "ipython3",
   "version": "3.10.11"
  }
 },
 "nbformat": 4,
 "nbformat_minor": 5
}
