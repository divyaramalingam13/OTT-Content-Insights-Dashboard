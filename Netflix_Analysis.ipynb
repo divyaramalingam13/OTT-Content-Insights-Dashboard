{
 "cells": [
  {
   "cell_type": "markdown",
   "id": "71a5c29b-b987-49aa-8db4-9ea3a6a1c750",
   "metadata": {},
   "source": [
    "# 📊 Analysis of Netflix platform"
   ]
  },
  {
   "cell_type": "markdown",
   "id": "842eae76-d3e3-4d25-987f-b9b5e9919ac5",
   "metadata": {},
   "source": [
    "## Import Libraries"
   ]
  },
  {
   "cell_type": "code",
   "execution_count": 3,
   "id": "1f16da71-1c34-4ccb-b7ab-60255d8ac307",
   "metadata": {},
   "outputs": [],
   "source": [
    "import pandas as pd"
   ]
  },
  {
   "cell_type": "markdown",
   "id": "53b5675c-4968-43f5-a68b-e3dde4a74479",
   "metadata": {},
   "source": [
    "## Load dataset"
   ]
  },
  {
   "cell_type": "code",
   "execution_count": 4,
   "id": "9511bfc3-f719-4692-815c-ef4230602554",
   "metadata": {},
   "outputs": [],
   "source": [
    "df=pd.read_csv(r\"E:\\Project OTT\\netflix_titles.csv\")"
   ]
  },
  {
   "cell_type": "markdown",
   "id": "51d010dd-231a-433d-9c0e-6c2ceee132eb",
   "metadata": {},
   "source": [
    "## Inspect Data"
   ]
  },
  {
   "cell_type": "code",
   "execution_count": 5,
   "id": "1a1a73ba-0977-44cf-82a3-6aa2fe7289eb",
   "metadata": {},
   "outputs": [
    {
     "name": "stdout",
     "output_type": "stream",
     "text": [
      "<class 'pandas.core.frame.DataFrame'>\n",
      "RangeIndex: 8807 entries, 0 to 8806\n",
      "Data columns (total 12 columns):\n",
      " #   Column        Non-Null Count  Dtype  \n",
      "---  ------        --------------  -----  \n",
      " 0   show_id       8807 non-null   object \n",
      " 1   type          8807 non-null   object \n",
      " 2   title         8807 non-null   object \n",
      " 3   director      6173 non-null   object \n",
      " 4   cast          7982 non-null   object \n",
      " 5   country       7976 non-null   object \n",
      " 6   date_added    8796 non-null   object \n",
      " 7   release_year  8806 non-null   float64\n",
      " 8   rating        8803 non-null   object \n",
      " 9   duration      8803 non-null   object \n",
      " 10  listed_in     8807 non-null   object \n",
      " 11  description   8807 non-null   object \n",
      "dtypes: float64(1), object(11)\n",
      "memory usage: 825.8+ KB\n"
     ]
    }
   ],
   "source": [
    "df.head()\n",
    "df.info()"
   ]
  },
  {
   "cell_type": "markdown",
   "id": "ba5b71a0-65ad-462f-be0d-f6b894bb8ab1",
   "metadata": {},
   "source": [
    "We need to check the data type and Null values"
   ]
  },
  {
   "cell_type": "code",
   "execution_count": 6,
   "id": "6da1dac4-d3f7-4fdc-940c-14fc1220d1c9",
   "metadata": {},
   "outputs": [
    {
     "data": {
      "text/plain": [
       "show_id            0\n",
       "type               0\n",
       "title              0\n",
       "director        2634\n",
       "cast             825\n",
       "country          831\n",
       "date_added        11\n",
       "release_year       1\n",
       "rating             4\n",
       "duration           4\n",
       "listed_in          0\n",
       "description        0\n",
       "dtype: int64"
      ]
     },
     "execution_count": 6,
     "metadata": {},
     "output_type": "execute_result"
    }
   ],
   "source": [
    "df.isnull().sum()"
   ]
  },
  {
   "cell_type": "markdown",
   "id": "ccd9371a-d64f-49a4-bd56-c21ffbbcb079",
   "metadata": {},
   "source": [
    "## Remove null values"
   ]
  },
  {
   "cell_type": "code",
   "execution_count": 7,
   "id": "3561138d-549c-43ee-9f31-fdf251fce6c2",
   "metadata": {},
   "outputs": [],
   "source": [
    "df['director'] = df['director'].fillna('Unknown')\n",
    "df['cast'] = df['cast'].fillna('Unknown')\n",
    "df['duration'] = df['duration'].fillna(0)\n",
    "df['rating'] = df['rating'].fillna('NR')\n",
    "df['country']=df['country'].fillna('Unknown')"
   ]
  },
  {
   "cell_type": "code",
   "execution_count": 8,
   "id": "382e4431-7c50-48ea-aa2e-12209d8cf9de",
   "metadata": {},
   "outputs": [],
   "source": [
    "df = df.dropna(subset=['date_added','release_year'])"
   ]
  },
  {
   "cell_type": "code",
   "execution_count": 9,
   "id": "17aa0849-959e-4628-a68f-512d9aac4bcd",
   "metadata": {},
   "outputs": [
    {
     "data": {
      "text/plain": [
       "show_id         0\n",
       "type            0\n",
       "title           0\n",
       "director        0\n",
       "cast            0\n",
       "country         0\n",
       "date_added      0\n",
       "release_year    0\n",
       "rating          0\n",
       "duration        0\n",
       "listed_in       0\n",
       "description     0\n",
       "dtype: int64"
      ]
     },
     "execution_count": 9,
     "metadata": {},
     "output_type": "execute_result"
    }
   ],
   "source": [
    "df.isnull().sum()"
   ]
  },
  {
   "cell_type": "markdown",
   "id": "16b49bfc-73a2-4738-8959-d845dc17a93c",
   "metadata": {},
   "source": [
    "## Check the Datatype"
   ]
  },
  {
   "cell_type": "code",
   "execution_count": 10,
   "id": "0351025d-b440-4f22-9df2-04ee9394dc7e",
   "metadata": {},
   "outputs": [],
   "source": [
    "df['date_added'] = pd.to_datetime(df['date_added'])\n",
    "df['added_year'] = df['date_added'].dt.year\n",
    "df['release_year'] = df['release_year'].astype(int)"
   ]
  },
  {
   "cell_type": "markdown",
   "id": "abeb1ef8-361a-460c-b2c5-e025fdeb45bc",
   "metadata": {},
   "source": [
    "First change the datatype to datetime format and separate the year. Since [date_added] column have Month, days, and year . I split year as [added_year] separetely for better analysis"
   ]
  },
  {
   "cell_type": "code",
   "execution_count": 11,
   "id": "7769e87e-44ce-4602-9cb0-a83944cc69a3",
   "metadata": {},
   "outputs": [
    {
     "name": "stdout",
     "output_type": "stream",
     "text": [
      "<class 'pandas.core.frame.DataFrame'>\n",
      "Index: 8796 entries, 0 to 8806\n",
      "Data columns (total 13 columns):\n",
      " #   Column        Non-Null Count  Dtype         \n",
      "---  ------        --------------  -----         \n",
      " 0   show_id       8796 non-null   object        \n",
      " 1   type          8796 non-null   object        \n",
      " 2   title         8796 non-null   object        \n",
      " 3   director      8796 non-null   object        \n",
      " 4   cast          8796 non-null   object        \n",
      " 5   country       8796 non-null   object        \n",
      " 6   date_added    8796 non-null   datetime64[ns]\n",
      " 7   release_year  8796 non-null   int64         \n",
      " 8   rating        8796 non-null   object        \n",
      " 9   duration      8796 non-null   object        \n",
      " 10  listed_in     8796 non-null   object        \n",
      " 11  description   8796 non-null   object        \n",
      " 12  added_year    8796 non-null   int32         \n",
      "dtypes: datetime64[ns](1), int32(1), int64(1), object(10)\n",
      "memory usage: 927.7+ KB\n"
     ]
    }
   ],
   "source": [
    "df.info()"
   ]
  },
  {
   "cell_type": "markdown",
   "id": "c5447aa2-32bd-48a7-b726-b64ce4686ff4",
   "metadata": {},
   "source": [
    "#### Split listed in and cast column "
   ]
  },
  {
   "cell_type": "code",
   "execution_count": 12,
   "id": "7255f1dc-1c86-4616-b3ba-ca0096c928ca",
   "metadata": {},
   "outputs": [],
   "source": [
    "df_cast = df[['title', 'cast']].dropna().copy()\n",
    "\n",
    "# Split cast string by comma and explode to rows\n",
    "df_cast['cast'] = df_cast['cast'].str.split(', ')\n",
    "df_cast = df_cast.explode('cast')\n",
    "\n",
    "# Remove 'unknown' or any empty values\n",
    "df_cast['cast'] = df_cast['cast'].str.strip()\n",
    "df_cast = df_cast[df_cast['cast'].str.lower() != 'unknown']\n",
    "df_cast = df_cast[df_cast['cast'] != '']\n",
    "\n",
    "# Optional: remove duplicates\n",
    "df_cast.drop_duplicates(inplace=True)"
   ]
  },
  {
   "cell_type": "code",
   "execution_count": 13,
   "id": "9c0bb970-d480-4b91-bb99-63b09a909309",
   "metadata": {},
   "outputs": [],
   "source": [
    "#### Split listed in and cast column"
   ]
  },
  {
   "cell_type": "code",
   "execution_count": 14,
   "id": "22fb87d3-d4a5-4e6c-a413-a0fa575ff822",
   "metadata": {},
   "outputs": [],
   "source": [
    "df_cast = df[['title', 'cast']].dropna().copy()\n",
    "\n",
    "# Split cast string by comma and explode to rows\n",
    "df_cast['cast'] = df_cast['cast'].str.split(', ')\n",
    "df_cast = df_cast.explode('cast')\n",
    "\n",
    "# Remove 'unknown' or any empty values\n",
    "df_cast['cast'] = df_cast['cast'].str.strip()\n",
    "df_cast = df_cast[df_cast['cast'].str.lower() != 'unknown']\n",
    "df_cast = df_cast[df_cast['cast'] != '']\n",
    "\n",
    "# remove duplicates\n",
    "df_cast.drop_duplicates(inplace=True)\n",
    "\n",
    "df_genres = df[['title', 'listed_in']].dropna().copy()\n",
    "\n",
    "# Split genre string and explode\n",
    "df_genres['genre'] = df_genres['listed_in'].str.split(', ')\n",
    "df_genres = df_genres.explode('genre')\n",
    "\n",
    "# Clean genre column\n",
    "df_genres['genre'] = df_genres['genre'].str.strip()\n",
    "df_genres = df_genres[df_genres['genre'].str.lower() != 'unknown']\n",
    "df_genres = df_genres[df_genres['genre'] != '']\n",
    "\n",
    "# drop duplicates\n",
    "df_genres.drop_duplicates(inplace=True)\n",
    "\n",
    "df = df.dropna(subset=['listed_in']).copy()\n",
    "df['genre'] = df['listed_in'].str.split(', ')\n",
    "df = df.explode('genre')\n",
    "df['genre'] = df['genre'].str.strip()\n",
    "df = df.dropna(subset=['cast']).copy()\n",
    "df['actor'] = df['cast'].str.split(', ')\n",
    "df = df.explode('actor')\n",
    "df['actor'] = df['actor'].str.strip()"
   ]
  },
  {
   "cell_type": "code",
   "execution_count": null,
   "id": "33eee001-f557-40b1-9935-a278ee16e3cf",
   "metadata": {},
   "outputs": [],
   "source": []
  },
  {
   "cell_type": "code",
   "execution_count": 15,
   "id": "c8f0fa34-2463-4472-8394-e81e4f33d24c",
   "metadata": {},
   "outputs": [
    {
     "data": {
      "text/html": [
       "<div>\n",
       "<style scoped>\n",
       "    .dataframe tbody tr th:only-of-type {\n",
       "        vertical-align: middle;\n",
       "    }\n",
       "\n",
       "    .dataframe tbody tr th {\n",
       "        vertical-align: top;\n",
       "    }\n",
       "\n",
       "    .dataframe thead th {\n",
       "        text-align: right;\n",
       "    }\n",
       "</style>\n",
       "<table border=\"1\" class=\"dataframe\">\n",
       "  <thead>\n",
       "    <tr style=\"text-align: right;\">\n",
       "      <th></th>\n",
       "      <th>show_id</th>\n",
       "      <th>type</th>\n",
       "      <th>title</th>\n",
       "      <th>director</th>\n",
       "      <th>cast</th>\n",
       "      <th>country</th>\n",
       "      <th>date_added</th>\n",
       "      <th>release_year</th>\n",
       "      <th>rating</th>\n",
       "      <th>duration</th>\n",
       "      <th>listed_in</th>\n",
       "      <th>description</th>\n",
       "      <th>added_year</th>\n",
       "      <th>genre</th>\n",
       "      <th>actor</th>\n",
       "    </tr>\n",
       "  </thead>\n",
       "  <tbody>\n",
       "    <tr>\n",
       "      <th>0</th>\n",
       "      <td>s1</td>\n",
       "      <td>Movie</td>\n",
       "      <td>Dick Johnson Is Dead</td>\n",
       "      <td>Kirsten Johnson</td>\n",
       "      <td>Jace Chapman, Larisa Oleynik, Tom Everett Scot...</td>\n",
       "      <td>Netherlands</td>\n",
       "      <td>2018-10-12</td>\n",
       "      <td>2015</td>\n",
       "      <td>TV-14</td>\n",
       "      <td>112 min</td>\n",
       "      <td>Comedies, International Movies, Romantic Movies</td>\n",
       "      <td>Chipper baby boomer Kath, diva daughter Kim an...</td>\n",
       "      <td>2018</td>\n",
       "      <td>Comedies</td>\n",
       "      <td>Jace Chapman</td>\n",
       "    </tr>\n",
       "    <tr>\n",
       "      <th>0</th>\n",
       "      <td>s1</td>\n",
       "      <td>Movie</td>\n",
       "      <td>Dick Johnson Is Dead</td>\n",
       "      <td>Kirsten Johnson</td>\n",
       "      <td>Jace Chapman, Larisa Oleynik, Tom Everett Scot...</td>\n",
       "      <td>Netherlands</td>\n",
       "      <td>2018-10-12</td>\n",
       "      <td>2015</td>\n",
       "      <td>TV-14</td>\n",
       "      <td>112 min</td>\n",
       "      <td>Comedies, International Movies, Romantic Movies</td>\n",
       "      <td>Chipper baby boomer Kath, diva daughter Kim an...</td>\n",
       "      <td>2018</td>\n",
       "      <td>Comedies</td>\n",
       "      <td>Larisa Oleynik</td>\n",
       "    </tr>\n",
       "    <tr>\n",
       "      <th>0</th>\n",
       "      <td>s1</td>\n",
       "      <td>Movie</td>\n",
       "      <td>Dick Johnson Is Dead</td>\n",
       "      <td>Kirsten Johnson</td>\n",
       "      <td>Jace Chapman, Larisa Oleynik, Tom Everett Scot...</td>\n",
       "      <td>Netherlands</td>\n",
       "      <td>2018-10-12</td>\n",
       "      <td>2015</td>\n",
       "      <td>TV-14</td>\n",
       "      <td>112 min</td>\n",
       "      <td>Comedies, International Movies, Romantic Movies</td>\n",
       "      <td>Chipper baby boomer Kath, diva daughter Kim an...</td>\n",
       "      <td>2018</td>\n",
       "      <td>Comedies</td>\n",
       "      <td>Tom Everett Scott</td>\n",
       "    </tr>\n",
       "    <tr>\n",
       "      <th>0</th>\n",
       "      <td>s1</td>\n",
       "      <td>Movie</td>\n",
       "      <td>Dick Johnson Is Dead</td>\n",
       "      <td>Kirsten Johnson</td>\n",
       "      <td>Jace Chapman, Larisa Oleynik, Tom Everett Scot...</td>\n",
       "      <td>Netherlands</td>\n",
       "      <td>2018-10-12</td>\n",
       "      <td>2015</td>\n",
       "      <td>TV-14</td>\n",
       "      <td>112 min</td>\n",
       "      <td>Comedies, International Movies, Romantic Movies</td>\n",
       "      <td>Chipper baby boomer Kath, diva daughter Kim an...</td>\n",
       "      <td>2018</td>\n",
       "      <td>Comedies</td>\n",
       "      <td>Steve Zahn</td>\n",
       "    </tr>\n",
       "    <tr>\n",
       "      <th>0</th>\n",
       "      <td>s1</td>\n",
       "      <td>Movie</td>\n",
       "      <td>Dick Johnson Is Dead</td>\n",
       "      <td>Kirsten Johnson</td>\n",
       "      <td>Jace Chapman, Larisa Oleynik, Tom Everett Scot...</td>\n",
       "      <td>Netherlands</td>\n",
       "      <td>2018-10-12</td>\n",
       "      <td>2015</td>\n",
       "      <td>TV-14</td>\n",
       "      <td>112 min</td>\n",
       "      <td>Comedies, International Movies, Romantic Movies</td>\n",
       "      <td>Chipper baby boomer Kath, diva daughter Kim an...</td>\n",
       "      <td>2018</td>\n",
       "      <td>Comedies</td>\n",
       "      <td>Mauricio Lara</td>\n",
       "    </tr>\n",
       "  </tbody>\n",
       "</table>\n",
       "</div>"
      ],
      "text/plain": [
       "  show_id   type                 title         director  \\\n",
       "0      s1  Movie  Dick Johnson Is Dead  Kirsten Johnson   \n",
       "0      s1  Movie  Dick Johnson Is Dead  Kirsten Johnson   \n",
       "0      s1  Movie  Dick Johnson Is Dead  Kirsten Johnson   \n",
       "0      s1  Movie  Dick Johnson Is Dead  Kirsten Johnson   \n",
       "0      s1  Movie  Dick Johnson Is Dead  Kirsten Johnson   \n",
       "\n",
       "                                                cast      country date_added  \\\n",
       "0  Jace Chapman, Larisa Oleynik, Tom Everett Scot...  Netherlands 2018-10-12   \n",
       "0  Jace Chapman, Larisa Oleynik, Tom Everett Scot...  Netherlands 2018-10-12   \n",
       "0  Jace Chapman, Larisa Oleynik, Tom Everett Scot...  Netherlands 2018-10-12   \n",
       "0  Jace Chapman, Larisa Oleynik, Tom Everett Scot...  Netherlands 2018-10-12   \n",
       "0  Jace Chapman, Larisa Oleynik, Tom Everett Scot...  Netherlands 2018-10-12   \n",
       "\n",
       "   release_year rating duration  \\\n",
       "0          2015  TV-14  112 min   \n",
       "0          2015  TV-14  112 min   \n",
       "0          2015  TV-14  112 min   \n",
       "0          2015  TV-14  112 min   \n",
       "0          2015  TV-14  112 min   \n",
       "\n",
       "                                         listed_in  \\\n",
       "0  Comedies, International Movies, Romantic Movies   \n",
       "0  Comedies, International Movies, Romantic Movies   \n",
       "0  Comedies, International Movies, Romantic Movies   \n",
       "0  Comedies, International Movies, Romantic Movies   \n",
       "0  Comedies, International Movies, Romantic Movies   \n",
       "\n",
       "                                         description  added_year     genre  \\\n",
       "0  Chipper baby boomer Kath, diva daughter Kim an...        2018  Comedies   \n",
       "0  Chipper baby boomer Kath, diva daughter Kim an...        2018  Comedies   \n",
       "0  Chipper baby boomer Kath, diva daughter Kim an...        2018  Comedies   \n",
       "0  Chipper baby boomer Kath, diva daughter Kim an...        2018  Comedies   \n",
       "0  Chipper baby boomer Kath, diva daughter Kim an...        2018  Comedies   \n",
       "\n",
       "               actor  \n",
       "0       Jace Chapman  \n",
       "0     Larisa Oleynik  \n",
       "0  Tom Everett Scott  \n",
       "0         Steve Zahn  \n",
       "0      Mauricio Lara  "
      ]
     },
     "execution_count": 15,
     "metadata": {},
     "output_type": "execute_result"
    }
   ],
   "source": [
    "df.head()"
   ]
  },
  {
   "cell_type": "markdown",
   "id": "2f33b561-adce-4781-864c-6b2b72f56292",
   "metadata": {},
   "source": [
    "## Download Data for comparative analysis"
   ]
  },
  {
   "cell_type": "code",
   "execution_count": 16,
   "id": "fa3a3a2f-c48e-4d5a-90cf-4c62f2b06106",
   "metadata": {},
   "outputs": [],
   "source": [
    "df.to_csv('Netflix.csv', index=False)"
   ]
  },
  {
   "cell_type": "markdown",
   "id": "590b2e1c-e140-4d5c-8792-c72ce974b62a",
   "metadata": {},
   "source": [
    "## Exploratory Analysis for Netflix"
   ]
  },
  {
   "cell_type": "markdown",
   "id": "6443050b-0423-4714-8130-4254ceae5f52",
   "metadata": {},
   "source": [
    "#### Count of Movies vs TV Shows"
   ]
  },
  {
   "cell_type": "code",
   "execution_count": 17,
   "id": "353cd42a-adb1-49e9-bc6e-b576d1b61862",
   "metadata": {},
   "outputs": [
    {
     "data": {
      "text/plain": [
       "type\n",
       "Movie      111473\n",
       "TV Show     34753\n",
       "Name: count, dtype: int64"
      ]
     },
     "execution_count": 17,
     "metadata": {},
     "output_type": "execute_result"
    }
   ],
   "source": [
    "df['type'].value_counts()"
   ]
  },
  {
   "cell_type": "markdown",
   "id": "3907a978-be57-4b7b-9c23-7492b41a9533",
   "metadata": {},
   "source": [
    "#### #% of Movies vs TV Shows"
   ]
  },
  {
   "cell_type": "code",
   "execution_count": 18,
   "id": "c2975c30-15ae-462c-bdea-35849226e615",
   "metadata": {},
   "outputs": [
    {
     "data": {
      "text/plain": [
       "type\n",
       "Movie      76.233365\n",
       "TV Show    23.766635\n",
       "Name: proportion, dtype: float64"
      ]
     },
     "execution_count": 18,
     "metadata": {},
     "output_type": "execute_result"
    }
   ],
   "source": [
    "df['type'].value_counts(normalize=True) * 100"
   ]
  },
  {
   "cell_type": "markdown",
   "id": "74af71d7-e7a8-4719-8923-2ae595c0e86d",
   "metadata": {},
   "source": [
    "#### Most Released Type in the Latest Year"
   ]
  },
  {
   "cell_type": "code",
   "execution_count": 19,
   "id": "bbb1adc8-0348-4984-9c83-14aaaecc5119",
   "metadata": {},
   "outputs": [
    {
     "data": {
      "text/plain": [
       "type\n",
       "TV Show    746\n",
       "Movie       63\n",
       "Name: count, dtype: int64"
      ]
     },
     "execution_count": 19,
     "metadata": {},
     "output_type": "execute_result"
    }
   ],
   "source": [
    "latest_year = df['release_year'].max()\n",
    "df[df['release_year'] == latest_year]['type'].value_counts()"
   ]
  },
  {
   "cell_type": "markdown",
   "id": "ddd6ac6a-0862-4d37-b302-65d4bf792295",
   "metadata": {},
   "source": [
    "#### Count of Each Rating"
   ]
  },
  {
   "cell_type": "code",
   "execution_count": 20,
   "id": "7a63430e-bde9-4e11-aa07-ef5bd18a7a60",
   "metadata": {},
   "outputs": [
    {
     "data": {
      "text/plain": [
       "rating\n",
       "TV-MA       60740\n",
       "TV-14       41858\n",
       "R           12551\n",
       "PG-13        9930\n",
       "TV-PG        9776\n",
       "PG           6584\n",
       "TV-G         2845\n",
       "NR            704\n",
       "TV-Y7         560\n",
       "G             336\n",
       "TV-Y          308\n",
       "NC-17          30\n",
       "rating          2\n",
       "TV-Y7-FV        2\n",
       "Name: count, dtype: int64"
      ]
     },
     "execution_count": 20,
     "metadata": {},
     "output_type": "execute_result"
    }
   ],
   "source": [
    "df['rating'].value_counts()"
   ]
  },
  {
   "cell_type": "markdown",
   "id": "2eb89e5b-fdcb-4cd6-93b4-6c50a3287ee0",
   "metadata": {},
   "source": [
    "#### Rating Distribution by Content Type"
   ]
  },
  {
   "cell_type": "code",
   "execution_count": 21,
   "id": "8ac6689e-1e75-41da-8985-9cc29884979f",
   "metadata": {},
   "outputs": [
    {
     "data": {
      "text/plain": [
       "type     rating  \n",
       "Movie    TV-14       40104\n",
       "         TV-MA       38750\n",
       "         R           12098\n",
       "         PG-13        9633\n",
       "         PG           6180\n",
       "         TV-G         2736\n",
       "         TV-PG         851\n",
       "         NR            679\n",
       "         G             336\n",
       "         TV-Y7          42\n",
       "         TV-Y           32\n",
       "         NC-17          30\n",
       "         rating          2\n",
       "TV Show  TV-MA       21990\n",
       "         TV-PG        8925\n",
       "         TV-14        1754\n",
       "         TV-Y7         518\n",
       "         R             453\n",
       "         PG            404\n",
       "         PG-13         297\n",
       "         TV-Y          276\n",
       "         TV-G          109\n",
       "         NR             25\n",
       "         TV-Y7-FV        2\n",
       "Name: count, dtype: int64"
      ]
     },
     "execution_count": 21,
     "metadata": {},
     "output_type": "execute_result"
    }
   ],
   "source": [
    "df.groupby('type')['rating'].value_counts()"
   ]
  },
  {
   "cell_type": "markdown",
   "id": "4a053f9e-444b-4b2d-b13d-d8f3804ea9d6",
   "metadata": {},
   "source": [
    "#### Year with most release"
   ]
  },
  {
   "cell_type": "code",
   "execution_count": 22,
   "id": "e65625c3-63b1-44b3-9809-a1076991ff7c",
   "metadata": {},
   "outputs": [
    {
     "name": "stdout",
     "output_type": "stream",
     "text": [
      "Year with most releases: 2018\n",
      "Content released in 2018:\n",
      "type\n",
      "Movie      20651\n",
      "TV Show     1719\n",
      "Name: count, dtype: int64\n"
     ]
    }
   ],
   "source": [
    "top_year = df['release_year'].value_counts().idxmax()\n",
    "print(\"Year with most releases:\", top_year)\n",
    "top_year = df['release_year'].value_counts().idxmax()\n",
    "df_top_year = df[df['release_year'] == top_year]\n",
    "print(f\"Content released in {top_year}:\")\n",
    "print(df_top_year['type'].value_counts())"
   ]
  },
  {
   "cell_type": "markdown",
   "id": "cd9774f5-d540-4957-8acb-59071627f1d4",
   "metadata": {},
   "source": [
    "#### Average gap between release and added year"
   ]
  },
  {
   "cell_type": "code",
   "execution_count": 23,
   "id": "ea26a502-8c04-4057-86e3-089b2efb78e2",
   "metadata": {},
   "outputs": [
    {
     "name": "stdout",
     "output_type": "stream",
     "text": [
      "   release_year  added_year  year_gap\n",
      "0          2015        2018         3\n",
      "0          2015        2018         3\n",
      "0          2015        2018         3\n",
      "0          2015        2018         3\n",
      "0          2015        2018         3\n",
      "Average Year Gap: 5\n"
     ]
    }
   ],
   "source": [
    "df['year_gap'] = df['added_year'] - df['release_year']\n",
    "print(df[['release_year', 'added_year', 'year_gap']].head())\n",
    "print(\"Average Year Gap:\", df['year_gap'].mean().astype(int))"
   ]
  },
  {
   "cell_type": "markdown",
   "id": "a824a5fe-8b5e-43c9-8967-a158d546cf37",
   "metadata": {},
   "source": [
    "#### Top country releasing movie"
   ]
  },
  {
   "cell_type": "code",
   "execution_count": 24,
   "id": "0416c335-3437-4a1c-ae0a-d22bc4f4dbd8",
   "metadata": {},
   "outputs": [
    {
     "data": {
      "text/plain": [
       "country\n",
       "United States     54061\n",
       "India             15327\n",
       "United Kingdom     7232\n",
       "Japan              5316\n",
       "South Korea        4285\n",
       "Name: count, dtype: int64"
      ]
     },
     "execution_count": 24,
     "metadata": {},
     "output_type": "execute_result"
    }
   ],
   "source": [
    "df[df['country'].str.lower() != 'unknown']['country'].value_counts().head(5)"
   ]
  },
  {
   "cell_type": "markdown",
   "id": "fa770848-61cc-4683-b4ab-5d3b613a51c0",
   "metadata": {},
   "source": [
    "#### Top country by type"
   ]
  },
  {
   "cell_type": "code",
   "execution_count": 25,
   "id": "351ac6a1-0bc1-43a5-aaed-95ac32fa5fd9",
   "metadata": {},
   "outputs": [
    {
     "data": {
      "text/plain": [
       "country        type   \n",
       "United States  Movie      28494\n",
       "               TV Show    25567\n",
       "India          Movie      14610\n",
       "dtype: int64"
      ]
     },
     "execution_count": 25,
     "metadata": {},
     "output_type": "execute_result"
    }
   ],
   "source": [
    "df.groupby(['country', 'type']).size().sort_values(ascending=False).head(3)"
   ]
  },
  {
   "cell_type": "markdown",
   "id": "8486a597-0cb5-40f1-913c-995a23ba4b06",
   "metadata": {},
   "source": [
    "#### Average movie duration"
   ]
  },
  {
   "cell_type": "code",
   "execution_count": 26,
   "id": "0b2f26ed-2c4c-4157-ba5f-776e6ddcfca4",
   "metadata": {},
   "outputs": [
    {
     "name": "stdout",
     "output_type": "stream",
     "text": [
      "Average Movie duration is: 62\n"
     ]
    }
   ],
   "source": [
    "# Step-1: Separate Movies and TV Shows \n",
    "movies = df[df['type'] == 'Movie']\n",
    "tv_shows = df[df['type'] == 'TV Show']\n",
    "\n",
    "#Step-2: Extract duration in minutes for movie\n",
    "movies = df[df['type'] == 'Movie'].copy()\n",
    "movies['duration_minutes'] = movies['duration'].str.extract('(\\d+)')\n",
    "movies['duration_minutes'] = movies['duration_minutes'].astype(float)\n",
    "\n",
    "#Step-3: Print the average movie duration\n",
    "print(\"Average Movie duration is:\", int(movies['duration_minutes'].mean()))"
   ]
  },
  {
   "cell_type": "markdown",
   "id": "a4a3c31e-f21f-4736-91d4-89f672c939b2",
   "metadata": {},
   "source": [
    "#### Top 5 Most Common Genres"
   ]
  },
  {
   "cell_type": "code",
   "execution_count": 27,
   "id": "2df1345f-d775-4922-a9b0-75699e3953f0",
   "metadata": {},
   "outputs": [
    {
     "data": {
      "text/plain": [
       "genre\n",
       "International Movies      21765\n",
       "Dramas                    19169\n",
       "Comedies                  13641\n",
       "International TV Shows    10628\n",
       "Documentaries              7353\n",
       "Name: count, dtype: int64"
      ]
     },
     "execution_count": 27,
     "metadata": {},
     "output_type": "execute_result"
    }
   ],
   "source": [
    "df['genre'].value_counts().head(5)"
   ]
  },
  {
   "cell_type": "markdown",
   "id": "99de750b-3899-4e97-87fb-b4212236e099",
   "metadata": {},
   "source": [
    "#### Genre per Content Type"
   ]
  },
  {
   "cell_type": "code",
   "execution_count": 28,
   "id": "99c1a9e9-0d77-4b44-a963-f087f662ce62",
   "metadata": {},
   "outputs": [
    {
     "data": {
      "text/plain": [
       "type   genre                   \n",
       "Movie  International Movies        19260\n",
       "       Dramas                      17721\n",
       "       Comedies                    12990\n",
       "       Documentaries                7080\n",
       "       Action & Adventure           6921\n",
       "       Independent Movies           5577\n",
       "       Children & Family Movies     4679\n",
       "       International TV Shows       4591\n",
       "       Romantic Movies              4392\n",
       "       Crime TV Shows               3461\n",
       "Name: count, dtype: int64"
      ]
     },
     "execution_count": 28,
     "metadata": {},
     "output_type": "execute_result"
    }
   ],
   "source": [
    "df.groupby('type')['genre'].value_counts().head(10)"
   ]
  },
  {
   "cell_type": "markdown",
   "id": "cd4ffa75-f7e9-490a-bb97-3a9ca0a824ae",
   "metadata": {},
   "source": [
    "#### Most common actors in the platform"
   ]
  },
  {
   "cell_type": "code",
   "execution_count": 29,
   "id": "8dbaaa73-495e-46e7-9441-f1dab55027e8",
   "metadata": {},
   "outputs": [
    {
     "data": {
      "text/plain": [
       "[('Shah Rukh Khan', 102),\n",
       " ('Anupam Kher', 98),\n",
       " ('Naseeruddin Shah', 77),\n",
       " ('Amitabh Bachchan', 77),\n",
       " ('Om Puri', 69)]"
      ]
     },
     "execution_count": 29,
     "metadata": {},
     "output_type": "execute_result"
    }
   ],
   "source": [
    "#Step-1: split and flatten the cast column\n",
    "from collections import Counter\n",
    "all_cast = df['actor'].dropna().str.split(', ')\n",
    "flat_cast = [actor for sublist in all_cast for actor in sublist]\n",
    "\n",
    "#Step-2: Count the actors\n",
    "filtered_cast = [actor for actor in flat_cast if actor.lower() != 'unknown']\n",
    "cast_count = Counter(filtered_cast)\n",
    "cast_count.most_common(5)"
   ]
  },
  {
   "cell_type": "markdown",
   "id": "b76df152-b8bf-46ab-a36f-0ba43d1f65fd",
   "metadata": {},
   "source": [
    "#### Content by specific actor"
   ]
  },
  {
   "cell_type": "code",
   "execution_count": 30,
   "id": "a47f7047-01c7-4e38-90ec-0ccfdc0e103d",
   "metadata": {},
   "outputs": [
    {
     "data": {
      "text/html": [
       "<div>\n",
       "<style scoped>\n",
       "    .dataframe tbody tr th:only-of-type {\n",
       "        vertical-align: middle;\n",
       "    }\n",
       "\n",
       "    .dataframe tbody tr th {\n",
       "        vertical-align: top;\n",
       "    }\n",
       "\n",
       "    .dataframe thead th {\n",
       "        text-align: right;\n",
       "    }\n",
       "</style>\n",
       "<table border=\"1\" class=\"dataframe\">\n",
       "  <thead>\n",
       "    <tr style=\"text-align: right;\">\n",
       "      <th></th>\n",
       "      <th>show_id</th>\n",
       "      <th>type</th>\n",
       "      <th>title</th>\n",
       "      <th>director</th>\n",
       "      <th>cast</th>\n",
       "      <th>country</th>\n",
       "      <th>date_added</th>\n",
       "      <th>release_year</th>\n",
       "      <th>rating</th>\n",
       "      <th>duration</th>\n",
       "      <th>listed_in</th>\n",
       "      <th>description</th>\n",
       "      <th>added_year</th>\n",
       "      <th>genre</th>\n",
       "      <th>actor</th>\n",
       "      <th>year_gap</th>\n",
       "    </tr>\n",
       "  </thead>\n",
       "  <tbody>\n",
       "    <tr>\n",
       "      <th>313</th>\n",
       "      <td>s1280</td>\n",
       "      <td>Movie</td>\n",
       "      <td>Made You Look: A True Story About Fake Art</td>\n",
       "      <td>Barry Avrich</td>\n",
       "      <td>Anil Kapoor, Shah Rukh Khan, Jackie Shroff, Sa...</td>\n",
       "      <td>China</td>\n",
       "      <td>2017-01-16</td>\n",
       "      <td>2002</td>\n",
       "      <td>PG-13</td>\n",
       "      <td>1 Season</td>\n",
       "      <td>Action &amp; Adventure, Horror Movies, Sci-Fi &amp; Fa...</td>\n",
       "      <td>A Las Vegas doctor's controversial online cont...</td>\n",
       "      <td>2017</td>\n",
       "      <td>Action &amp; Adventure</td>\n",
       "      <td>Anil Kapoor</td>\n",
       "      <td>15</td>\n",
       "    </tr>\n",
       "    <tr>\n",
       "      <th>313</th>\n",
       "      <td>s1280</td>\n",
       "      <td>Movie</td>\n",
       "      <td>Made You Look: A True Story About Fake Art</td>\n",
       "      <td>Barry Avrich</td>\n",
       "      <td>Anil Kapoor, Shah Rukh Khan, Jackie Shroff, Sa...</td>\n",
       "      <td>China</td>\n",
       "      <td>2017-01-16</td>\n",
       "      <td>2002</td>\n",
       "      <td>PG-13</td>\n",
       "      <td>1 Season</td>\n",
       "      <td>Action &amp; Adventure, Horror Movies, Sci-Fi &amp; Fa...</td>\n",
       "      <td>A Las Vegas doctor's controversial online cont...</td>\n",
       "      <td>2017</td>\n",
       "      <td>Action &amp; Adventure</td>\n",
       "      <td>Shah Rukh Khan</td>\n",
       "      <td>15</td>\n",
       "    </tr>\n",
       "    <tr>\n",
       "      <th>313</th>\n",
       "      <td>s1280</td>\n",
       "      <td>Movie</td>\n",
       "      <td>Made You Look: A True Story About Fake Art</td>\n",
       "      <td>Barry Avrich</td>\n",
       "      <td>Anil Kapoor, Shah Rukh Khan, Jackie Shroff, Sa...</td>\n",
       "      <td>China</td>\n",
       "      <td>2017-01-16</td>\n",
       "      <td>2002</td>\n",
       "      <td>PG-13</td>\n",
       "      <td>1 Season</td>\n",
       "      <td>Action &amp; Adventure, Horror Movies, Sci-Fi &amp; Fa...</td>\n",
       "      <td>A Las Vegas doctor's controversial online cont...</td>\n",
       "      <td>2017</td>\n",
       "      <td>Action &amp; Adventure</td>\n",
       "      <td>Jackie Shroff</td>\n",
       "      <td>15</td>\n",
       "    </tr>\n",
       "  </tbody>\n",
       "</table>\n",
       "</div>"
      ],
      "text/plain": [
       "    show_id   type                                       title      director  \\\n",
       "313   s1280  Movie  Made You Look: A True Story About Fake Art  Barry Avrich   \n",
       "313   s1280  Movie  Made You Look: A True Story About Fake Art  Barry Avrich   \n",
       "313   s1280  Movie  Made You Look: A True Story About Fake Art  Barry Avrich   \n",
       "\n",
       "                                                  cast country date_added  \\\n",
       "313  Anil Kapoor, Shah Rukh Khan, Jackie Shroff, Sa...   China 2017-01-16   \n",
       "313  Anil Kapoor, Shah Rukh Khan, Jackie Shroff, Sa...   China 2017-01-16   \n",
       "313  Anil Kapoor, Shah Rukh Khan, Jackie Shroff, Sa...   China 2017-01-16   \n",
       "\n",
       "     release_year rating  duration  \\\n",
       "313          2002  PG-13  1 Season   \n",
       "313          2002  PG-13  1 Season   \n",
       "313          2002  PG-13  1 Season   \n",
       "\n",
       "                                             listed_in  \\\n",
       "313  Action & Adventure, Horror Movies, Sci-Fi & Fa...   \n",
       "313  Action & Adventure, Horror Movies, Sci-Fi & Fa...   \n",
       "313  Action & Adventure, Horror Movies, Sci-Fi & Fa...   \n",
       "\n",
       "                                           description  added_year  \\\n",
       "313  A Las Vegas doctor's controversial online cont...        2017   \n",
       "313  A Las Vegas doctor's controversial online cont...        2017   \n",
       "313  A Las Vegas doctor's controversial online cont...        2017   \n",
       "\n",
       "                  genre           actor  year_gap  \n",
       "313  Action & Adventure     Anil Kapoor        15  \n",
       "313  Action & Adventure  Shah Rukh Khan        15  \n",
       "313  Action & Adventure   Jackie Shroff        15  "
      ]
     },
     "execution_count": 30,
     "metadata": {},
     "output_type": "execute_result"
    }
   ],
   "source": [
    "df[df['cast'].str.contains('Shah Rukh Khan', na=False)].head(3)\n",
    "\n"
   ]
  },
  {
   "cell_type": "markdown",
   "id": "970bb64a-812c-4a13-afce-3857beb194ed",
   "metadata": {},
   "source": [
    "#### Top cast by type"
   ]
  },
  {
   "cell_type": "code",
   "execution_count": 31,
   "id": "73d3c7bd-6412-4dea-9e5c-5e67b69e08e0",
   "metadata": {},
   "outputs": [
    {
     "name": "stdout",
     "output_type": "stream",
     "text": [
      "[('Amitabh Bachchan', 650), ('Takahiro Sakurai', 625), ('Vincent Tong', 588), ('Anupam Kher', 578), ('Fred Tatasciore', 542)]\n"
     ]
    }
   ],
   "source": [
    "#top cast by type\n",
    "from collections import Counter\n",
    "\n",
    "# Step 1: Get cast data for Movies, drop NaNs, split\n",
    "movies_cast = df[df['type'] == 'Movie']['cast'].dropna().str.split(', ')\n",
    "\n",
    "# Step 2: Flatten and filter out 'Unknown'\n",
    "movies_flat_cast = [\n",
    "    actor for sublist in movies_cast for actor in sublist if actor.lower() != 'unknown'\n",
    "]\n",
    "\n",
    "# Step 3: Count and get top 5\n",
    "top_actors = Counter(movies_flat_cast).most_common(5)\n",
    "print(top_actors)"
   ]
  },
  {
   "cell_type": "markdown",
   "id": "865c6719-cae5-41df-9b16-8e26aba8ff06",
   "metadata": {},
   "source": [
    "#### Genre per Content Type"
   ]
  },
  {
   "cell_type": "code",
   "execution_count": 32,
   "id": "f5ae8228-ada1-482b-8aed-abfe4d897d75",
   "metadata": {},
   "outputs": [
    {
     "data": {
      "text/plain": [
       "listed_in                           type   \n",
       "Action & Adventure                  Movie      1060\n",
       "                                    TV Show      25\n",
       "Action & Adventure, Anime Features  Movie        24\n",
       "Name: count, dtype: int64"
      ]
     },
     "execution_count": 32,
     "metadata": {},
     "output_type": "execute_result"
    }
   ],
   "source": [
    "df.groupby('listed_in')['type'].value_counts().head(3)\n"
   ]
  },
  {
   "cell_type": "markdown",
   "id": "807fd3fa-ac2f-4e57-8e83-ce7f5b4031be",
   "metadata": {},
   "source": [
    "## For Dashboard"
   ]
  },
  {
   "cell_type": "markdown",
   "id": "e60569d4-6452-4154-a7c5-c29db4d527ef",
   "metadata": {},
   "source": [
    "#### Total Titles on Netflix"
   ]
  },
  {
   "cell_type": "code",
   "execution_count": 33,
   "id": "436ad52c-468e-4012-a012-841159e2e4b3",
   "metadata": {},
   "outputs": [
    {
     "name": "stdout",
     "output_type": "stream",
     "text": [
      "Total Titles on Netflix: 146226\n"
     ]
    }
   ],
   "source": [
    "total_titles = len(df)\n",
    "print(\"Total Titles on Netflix:\", total_titles)"
   ]
  },
  {
   "cell_type": "markdown",
   "id": "6cfaac3d-e8e7-4696-845d-81a391e90c7b",
   "metadata": {},
   "source": [
    "#### Average Movie Duration"
   ]
  },
  {
   "cell_type": "code",
   "execution_count": 34,
   "id": "363150e3-94e8-4832-9815-d46739a79e9c",
   "metadata": {},
   "outputs": [
    {
     "name": "stdout",
     "output_type": "stream",
     "text": [
      "Average Movie duration is: 62\n"
     ]
    }
   ],
   "source": [
    "# Step-1: Separate Movies and TV Shows \n",
    "movies = df[df['type'] == 'Movie']\n",
    "tv_shows = df[df['type'] == 'TV Show']\n",
    "\n",
    "#Step-2: Extract duration in minutes for movie\n",
    "movies = df[df['type'] == 'Movie'].copy()\n",
    "movies['duration_minutes'] = movies['duration'].str.extract('(\\d+)')\n",
    "movies['duration_minutes'] = movies['duration_minutes'].astype(float)\n",
    "\n",
    "#Step-3: Print the average movie duration\n",
    "print(\"Average Movie duration is:\", int(movies['duration_minutes'].mean()))"
   ]
  },
  {
   "cell_type": "markdown",
   "id": "4fd1ee85-880b-4b2f-bbb2-964c1bfbcf65",
   "metadata": {},
   "source": [
    "#### Content Type Distribution (Movies vs TV Shows)"
   ]
  },
  {
   "cell_type": "code",
   "execution_count": 35,
   "id": "eb93dc2d-4374-4aee-a73c-807a16def6bc",
   "metadata": {},
   "outputs": [
    {
     "name": "stdout",
     "output_type": "stream",
     "text": [
      "Content Type Distribution:\n",
      "type\n",
      "Movie      111473\n",
      "TV Show     34753\n",
      "Name: count, dtype: int64\n"
     ]
    }
   ],
   "source": [
    "type_distribution = df['type'].value_counts()\n",
    "print(\"Content Type Distribution:\")\n",
    "print(type_distribution)"
   ]
  },
  {
   "cell_type": "markdown",
   "id": "5f636b98-6020-4353-96a7-d85d1e177ec2",
   "metadata": {},
   "source": [
    "#### Most Common Genre"
   ]
  },
  {
   "cell_type": "code",
   "execution_count": 36,
   "id": "d8711e93-af63-475d-8ebf-d7026a0cd8f6",
   "metadata": {},
   "outputs": [
    {
     "name": "stdout",
     "output_type": "stream",
     "text": [
      "Most Common Genre: International Movies\n"
     ]
    }
   ],
   "source": [
    "df['listed_in_split'] = df['listed_in'].str.split(', ')\n",
    "genres = df.explode('listed_in_split')\n",
    "top_genre = genres['listed_in_split'].value_counts().idxmax()\n",
    "print(\"Most Common Genre:\", top_genre)"
   ]
  },
  {
   "cell_type": "markdown",
   "id": "cb25e7b8-b3f0-45ce-8939-fa04cd9e19c7",
   "metadata": {},
   "source": [
    "#### Top release year"
   ]
  },
  {
   "cell_type": "code",
   "execution_count": 37,
   "id": "16e394aa-580b-4dfd-be9d-55c8979db1ae",
   "metadata": {},
   "outputs": [
    {
     "name": "stdout",
     "output_type": "stream",
     "text": [
      "Top 5 Release Years on Netflix:\n",
      "release_year\n",
      "2018    22370\n",
      "2019    20330\n",
      "2017    17983\n",
      "2016    14294\n",
      "2015    12186\n",
      "Name: count, dtype: int64\n"
     ]
    }
   ],
   "source": [
    "top_years =df['release_year'].value_counts().head(5)\n",
    "print(\"Top 5 Release Years on Netflix:\")\n",
    "print(top_years)"
   ]
  },
  {
   "cell_type": "markdown",
   "id": "aa00a2e4-e7f1-4e92-9c12-ecffd1728ce1",
   "metadata": {},
   "source": [
    "#### 1) Content release trend by year"
   ]
  },
  {
   "cell_type": "code",
   "execution_count": 38,
   "id": "32e467cd-e275-4b7c-98df-107f45eb0435",
   "metadata": {},
   "outputs": [
    {
     "data": {
      "image/png": "[encoded data removed]",
      "text/plain": [
       "<Figure size 1200x600 with 1 Axes>"
      ]
     },
     "metadata": {},
     "output_type": "display_data"
    }
   ],
   "source": [
    "import matplotlib.pyplot as plt\n",
    "import seaborn as sns\n",
    "\n",
    "# Group by release year and count titles\n",
    "release_trend = df['release_year'].value_counts().sort_index()\n",
    "\n",
    "# Plot the trend\n",
    "plt.figure(figsize=(12, 6))\n",
    "sns.lineplot(x=release_trend.index, y=release_trend.values, marker='o', color='crimson')\n",
    "plt.title('Netflix Content Release Trend by Year', fontsize=14)\n",
    "plt.xlabel('Release Year')\n",
    "plt.ylabel('Number of Titles Released')\n",
    "plt.grid(True)\n",
    "plt.tight_layout()\n",
    "plt.show()"
   ]
  },
  {
   "cell_type": "markdown",
   "id": "fc13c6b2-8e1d-48ac-bf2b-12d7718f70bb",
   "metadata": {},
   "source": [
    "#### 2) Rating distribution"
   ]
  },
  {
   "cell_type": "code",
   "execution_count": 39,
   "id": "a65b9dc3-27dc-449d-a634-1c06470cc878",
   "metadata": {},
   "outputs": [
    {
     "name": "stderr",
     "output_type": "stream",
     "text": [
      "C:\\Users\\Divya Ramaingam\\AppData\\Local\\Temp\\ipykernel_9444\\1872074465.py:5: FutureWarning: \n",
      "\n",
      "Passing `palette` without assigning `hue` is deprecated and will be removed in v0.14.0. Assign the `x` variable to `hue` and set `legend=False` for the same effect.\n",
      "\n",
      "  sns.barplot(x=rating_counts.index, y=rating_counts.values, palette=\"magma\")\n"
     ]
    },
    {
     "data": {
      "image/png": "[encoded data removed]",
      "text/plain": [
       "<Figure size 1000x600 with 1 Axes>"
      ]
     },
     "metadata": {},
     "output_type": "display_data"
    }
   ],
   "source": [
    "rating_counts =df['rating'].value_counts()\n",
    "\n",
    "# Plot\n",
    "plt.figure(figsize=(10, 6))\n",
    "sns.barplot(x=rating_counts.index, y=rating_counts.values, palette=\"magma\")\n",
    "plt.title('Netflix Content Rating Distribution', fontsize=14)\n",
    "plt.xlabel('Rating')\n",
    "plt.ylabel('Number of Titles')\n",
    "plt.xticks(rotation=45)\n",
    "plt.tight_layout()\n",
    "plt.show()"
   ]
  },
  {
   "cell_type": "markdown",
   "id": "87062a04-07b9-4c71-8cde-2599fa3bb5c7",
   "metadata": {},
   "source": [
    "#### 3)Top Occuring Movie"
   ]
  },
  {
   "cell_type": "code",
   "execution_count": 40,
   "id": "2252b50b-5caa-4e6f-a20b-fa302694b0bf",
   "metadata": {},
   "outputs": [
    {
     "name": "stdout",
     "output_type": "stream",
     "text": [
      "Top Occurring Movie on Netflix:\n",
      "title\n",
      "Anwar                              150\n",
      "NOVA: Prediction by the Numbers    141\n",
      "Kaabil                             123\n",
      "Scare Tactics                      120\n",
      "Bhouri                             120\n",
      "Name: count, dtype: int64\n"
     ]
    }
   ],
   "source": [
    "top_movie = df['title'].value_counts().head(5)\n",
    "\n",
    "# Display the result\n",
    "print(\"Top Occurring Movie on Netflix:\")\n",
    "print(top_movie)"
   ]
  },
  {
   "cell_type": "markdown",
   "id": "7c32adab-b800-47ef-9c45-1c213b4deae6",
   "metadata": {},
   "source": [
    "#### 4)Top cast members"
   ]
  },
  {
   "cell_type": "code",
   "execution_count": 45,
   "id": "6e191c5f-79a1-4a8e-aec6-b0f14b7a40d4",
   "metadata": {},
   "outputs": [
    {
     "name": "stdout",
     "output_type": "stream",
     "text": [
      "🎬 Top 5 Actors by Unique Title Appearances:\n",
      "Anupam Kher: 43 unique titles\n",
      "Shah Rukh Khan: 35 unique titles\n",
      "Julie Tejwani: 33 unique titles\n",
      "Takahiro Sakurai: 32 unique titles\n",
      "Naseeruddin Shah: 32 unique titles\n"
     ]
    }
   ],
   "source": [
    "from collections import Counter\n",
    "\n",
    "# Step 1: Drop null and clean\n",
    "df_actor = df[['title', 'actor']].dropna().copy()\n",
    "df_actor = df_actor[~df_actor['actor'].str.contains('Unknown', case=False)]\n",
    "\n",
    "# Step 2: Split and explode actors\n",
    "df_actor['actor'] = df_actor['actor'].str.split(', ')\n",
    "df_actor = df_actor.explode('actor')\n",
    "df_actor['actor'] = df_actor['actor'].str.strip()\n",
    "\n",
    "# Step 3: Drop duplicate title-actor pairs\n",
    "df_actor = df_actor.drop_duplicates(subset=['title', 'actor'])\n",
    "\n",
    "# Step 4: Count appearances\n",
    "top_5_unique_actors = df_actor['actor'].value_counts().head(5)\n",
    "\n",
    "# Display result\n",
    "print(\"🎬 Top 5 Actors by Unique Title Appearances:\")\n",
    "for actor, count in top_5_unique_actors.items():\n",
    "    print(f\"{actor}: {count} unique titles\")\n"
   ]
  },
  {
   "cell_type": "code",
   "execution_count": null,
   "id": "9d69152c-e59e-4002-b942-415c450ec9e3",
   "metadata": {},
   "outputs": [],
   "source": []
  },
  {
   "cell_type": "markdown",
   "id": "1ec3860f-ba55-428c-a13b-d691826ec944",
   "metadata": {},
   "source": [
    "#### 5)Top Directors"
   ]
  },
  {
   "cell_type": "code",
   "execution_count": 42,
   "id": "574e48d4-a70c-4ad1-9d7f-df0dd3e87a93",
   "metadata": {},
   "outputs": [
    {
     "name": "stdout",
     "output_type": "stream",
     "text": [
      "Top 5 Directors in Netflix Dataset:\n",
      "Martin Scorsese: 427 titles\n",
      "Jan Suter: 383 titles\n",
      "Jay Chapman: 336 titles\n",
      "Raúl Campos: 332 titles\n",
      "Jay Karas: 297 titles\n"
     ]
    }
   ],
   "source": [
    "from collections import Counter\n",
    "\n",
    "# Drop nulls and exclude 'Unknown'\n",
    "clean_directors = df['director'].dropna()\n",
    "clean_directors = clean_directors[~clean_directors.str.contains('Unknown', case=False)]\n",
    "\n",
    "# Split and flatten\n",
    "directors_split = clean_directors.str.split(', ')\n",
    "flat_directors = [director for sublist in directors_split for director in sublist]\n",
    "\n",
    "# Count top 5\n",
    "top_5_directors = Counter(flat_directors).most_common(5)\n",
    "\n",
    "# Display result\n",
    "print(\"Top 5 Directors in Netflix Dataset:\")\n",
    "for director, count in top_5_directors:\n",
    "    print(f\"{director}: {count} titles\")\n",
    "    "
   ]
  },
  {
   "cell_type": "markdown",
   "id": "b096d2fc-c893-4861-9df2-a9964fe18612",
   "metadata": {},
   "source": [
    "#### 6)Genre Popularity"
   ]
  },
  {
   "cell_type": "code",
   "execution_count": 43,
   "id": "8ebbfa21-ac01-4f32-9cdb-3607a3255480",
   "metadata": {},
   "outputs": [
    {
     "name": "stdout",
     "output_type": "stream",
     "text": [
      "Top 10 Genres:\n",
      "International Movies: 21765 titles\n",
      "Dramas: 19169 titles\n",
      "Comedies: 13641 titles\n",
      "International TV Shows: 10628 titles\n",
      "Documentaries: 7353 titles\n",
      "Action & Adventure: 7193 titles\n",
      "Independent Movies: 6227 titles\n",
      "TV Dramas: 4948 titles\n",
      "Children & Family Movies: 4884 titles\n",
      "Romantic Movies: 4827 titles\n"
     ]
    }
   ],
   "source": [
    "from collections import Counter\n",
    "\n",
    "# Drop missing values and split genres\n",
    "genres = df['genre'].dropna().str.split(', ')\n",
    "flat_genres = [genre.strip() for sublist in genres for genre in sublist]\n",
    "\n",
    "# Count and get top 10 genres\n",
    "genre_count = Counter(flat_genres).most_common(10)\n",
    "\n",
    "# Display result\n",
    "print(\"Top 10 Genres:\")\n",
    "for genre, count in genre_count:\n",
    "    print(f\"{genre}: {count} titles\")\n"
   ]
  },
  {
   "cell_type": "code",
   "execution_count": 44,
   "id": "117972ba-24e6-4c65-b6ff-8cd5c26f214d",
   "metadata": {},
   "outputs": [],
   "source": [
    "df.to_csv(\"cleaned_netflix_data.csv\", index=False)"
   ]
  },
  {
   "cell_type": "code",
   "execution_count": 46,
   "id": "310aca32-8855-4cff-a5ba-ea8dbe993697",
   "metadata": {},
   "outputs": [
    {
     "data": {
      "text/plain": [
       "0       Dick Johnson Is Dead\n",
       "0       Dick Johnson Is Dead\n",
       "0       Dick Johnson Is Dead\n",
       "0       Dick Johnson Is Dead\n",
       "0       Dick Johnson Is Dead\n",
       "                ...         \n",
       "8806    Searching For Sheela\n",
       "8806    Searching For Sheela\n",
       "8806    Searching For Sheela\n",
       "8806    Searching For Sheela\n",
       "8806    Searching For Sheela\n",
       "Name: title, Length: 146226, dtype: object"
      ]
     },
     "execution_count": 46,
     "metadata": {},
     "output_type": "execute_result"
    }
   ],
   "source": [
    "df['title']"
   ]
  },
  {
   "cell_type": "code",
   "execution_count": null,
   "id": "8e0dc38b-6f7e-4aea-83cd-a6fb58c22c00",
   "metadata": {},
   "outputs": [],
   "source": []
  }
 ],
 "metadata": {
  "kernelspec": {
   "display_name": "Python 3 (ipykernel)",
   "language": "python",
   "name": "python3"
  },
  "language_info": {
   "codemirror_mode": {
    "name": "ipython",
    "version": 3
   },
   "file_extension": ".py",
   "mimetype": "text/x-python",
   "name": "python",
   "nbconvert_exporter": "python",
   "pygments_lexer": "ipython3",
   "version": "3.10.11"
  }
 },
 "nbformat": 4,
 "nbformat_minor": 5
}
